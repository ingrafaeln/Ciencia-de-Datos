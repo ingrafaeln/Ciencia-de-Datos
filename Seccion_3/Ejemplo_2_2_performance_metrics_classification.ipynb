{
  "cells": [
    {
      "cell_type": "markdown",
      "metadata": {
        "id": "view-in-github",
        "colab_type": "text"
      },
      "source": [
        "<a href=\"https://colab.research.google.com/github/ingrafaeln/Ciencia-de-Datos/blob/main/Seccion_3/Ejemplo_2_2_performance_metrics_classification.ipynb\" target=\"_parent\"><img src=\"https://colab.research.google.com/assets/colab-badge.svg\" alt=\"Open In Colab\"/></a>"
      ]
    },
    {
      "cell_type": "markdown",
      "metadata": {
        "id": "4nq0i7T-IEgN"
      },
      "source": [
        "# Métricas de Clasificación\n",
        "\n",
        "En este notebook, exploraremos el uso de métricas de clasificación en dos escenarios diferentes: uno con un dataset balanceado y otro con un **dataset desbalanceado**. A través de estos ejemplos, se ilustrará cómo las métricas comunes de clasificación pueden ayudar a evaluar el rendimiento de modelos en diferentes contextos.\n",
        "\n",
        "El objetivo principal es proporcionar una comprensión clara de cómo interpretar estas métricas, destacando la importancia de elegir las métricas adecuadas según la naturaleza del problema y la distribución de las clases. Se presentarán las siguientes métricas:\n",
        "\n",
        "- Matriz de Confusión\n",
        "- Precisión (Accuracy)\n",
        "- Precisión (Precision)\n",
        "- Recall\n",
        "- F1-Score\n",
        "\n",
        "Además, analizaremos cómo los modelos de clasificación pueden comportarse de manera diferente dependiendo de si los datos están balanceados o desbalanceados, y cómo estas métricas pueden revelar aspectos importantes del rendimiento del modelo que no siempre son evidentes con una sola métrica. Al final de este notebook, se espera que puedas interpretar y aplicar correctamente estas métricas para tomar decisiones informadas sobre la calidad de un modelo de clasificación.\n",
        "\n",
        "**Nota**: Este notebook se enfocará en el dataset desbalanceado."
      ]
    },
    {
      "cell_type": "code",
      "execution_count": 1,
      "metadata": {
        "id": "V-H48hPFIEgN"
      },
      "outputs": [],
      "source": [
        "# Esta celda es una práctica estándar para la configuración del entorno.\n",
        "# Su objetivo es detectar si el notebook se está ejecutando en el entorno de nube\n",
        "# de Google Colab o en un entorno local (como Jupyter en una máquina personal).\n",
        "# Esto permite que el script ajuste automáticamente las rutas de los archivos\n",
        "# y los comandos de instalación (como !wget) según sea necesario.\n",
        "\n",
        "# verificar si estamos en google colab\n",
        "try:\n",
        "    # Inicia un bloque 'try' para intentar ejecutar un código que podría fallar.\n",
        "    import google.colab\n",
        "\n",
        "    # Si la importación tiene éxito, significa que estamos en Google Colab.\n",
        "    # Se crea una variable booleana 'IN_COLAB' y se establece en True.\n",
        "    IN_COLAB = True\n",
        "\n",
        "except:\n",
        "    # Si el bloque 'try' falla (genera un ImportError), significa que el módulo\n",
        "    # 'google.colab' no existe y, por lo tanto, no estamos en Colab.\n",
        "    # La variable 'IN_COLAB' se establece en False.\n",
        "    IN_COLAB = False"
      ]
    },
    {
      "cell_type": "code",
      "execution_count": 2,
      "metadata": {
        "id": "v25fyVDrIEgP"
      },
      "outputs": [],
      "source": [
        "# Importación de bibliotecas estándar.\n",
        "# El módulo 'os' (Operating System) proporciona funciones para interactuar\n",
        "# con el sistema operativo, como crear, leer o verificar rutas de archivos.\n",
        "# Es esencial para que el notebook sea \"agnóstico\" al sistema operativo\n",
        "# (es decir, funcione en Windows, macOS o Linux).\n",
        "\n",
        "# Importa el módulo 'os'\n",
        "import os"
      ]
    },
    {
      "cell_type": "code",
      "execution_count": 3,
      "metadata": {
        "colab": {
          "base_uri": "https://localhost:8080/"
        },
        "id": "6HRFCxPnIEgQ",
        "outputId": "c14d62f7-1016-424f-808d-9848d0d8d10e"
      },
      "outputs": [
        {
          "output_type": "stream",
          "name": "stdout",
          "text": [
            "Archivos descargados y extraídos correctamente.\n"
          ]
        }
      ],
      "source": [
        "# Verifica si el entorno de ejecución es Google Colab.\n",
        "if IN_COLAB:\n",
        "    # Descarga una carpeta desde un repositorio de GitHub.\n",
        "\n",
        "    # Comprueba si la carpeta 'datasets_github' NO existe en el directorio actual.\n",
        "    if not os.path.exists('datasets_github'):\n",
        "        # Descarga el archivo ZIP del repositorio de GitHub de forma silenciosa (-q)\n",
        "        # y lo guarda como 'repositorio.zip' (-O).\n",
        "        !wget -q -O repositorio.zip https://github.com/ingrafaeln/Ciencia-de-Datos/archive/refs/heads/main.zip\n",
        "\n",
        "        # Descomprime el archivo 'repositorio.zip' de forma silenciosa (-q).\n",
        "        !unzip -q repositorio.zip\n",
        "\n",
        "        # Mueve la carpeta específica 'dataset_sintetico' desde la estructura descomprimida\n",
        "        # a una nueva carpeta llamada 'datasets_github' en el directorio raíz de Colab.\n",
        "        !mv /content/Ciencia-de-Datos-main/Seccion_3/dataset_sintetico datasets_github\n",
        "\n",
        "        # Mueve el archivo 'datasetanalyser.py' desde la estructura descomprimida\n",
        "        # al directorio raíz de Colab.\n",
        "        !mv /content/Ciencia-de-Datos-main/Seccion_3/datasetanalyser.py datasetanalyser.py\n",
        "\n",
        "        # Elimina el archivo ZIP descargado y la carpeta principal descomprimida\n",
        "        # que ya no se necesitan, para limpiar el espacio de trabajo.\n",
        "        !rm -rf repositorio.zip Ciencia-de-Datos-main\n",
        "\n",
        "        # Imprime un mensaje de confirmación.\n",
        "        print(\"Archivos descargados y extraídos correctamente.\")\n",
        "\n",
        "    # Si la carpeta 'datasets_github' YA existe...\n",
        "    else:\n",
        "        # Imprime un mensaje indicando que no se necesita descargar nada.\n",
        "        print(\"Archivos ya descargados y extraídos.\")"
      ]
    },
    {
      "cell_type": "code",
      "execution_count": 4,
      "metadata": {
        "id": "_bx21MWQIEgS"
      },
      "outputs": [],
      "source": [
        "# Definición de la ruta de acceso local. Este es el \"camino\" alternativo\n",
        "# que usará el script si detecta que NO está en Google Colab.\n",
        "\n",
        "# os.getcwd() obtiene la ruta del directorio de trabajo actual (donde se ejecuta el notebook).\n",
        "# os.path.join() construye una ruta de archivo compatible con cualquier sistema operativo.\n",
        "# Esto es crucial para la portabilidad del código.\n",
        "dataset_sintetico_path = os.path.join(os.getcwd(), 'dataset_sintetico')"
      ]
    },
    {
      "cell_type": "markdown",
      "metadata": {
        "id": "JMWGoX-BIEgT"
      },
      "source": [
        "# 1. Análisis de los Datos\n",
        "\n",
        "## 1.1. Cargar los Datos\n",
        "\n",
        "Una clínica que desea predecir la gravedad de la diabetes en pacientes basándose en ciertas características médicas. La clasificación se realiza en tres niveles de gravedad:\n",
        "\n",
        "- Sin Diabetes (Clase 0)\n",
        "- Diabetes Moderada (Clase 1)\n",
        "- Diabetes Severa (Clase 2)\n",
        "\n",
        "La mayoría de los pacientes que visitan la clínica no tienen diabetes, mientras que hay un número menor que presenta síntomas moderados y un grupo aún más reducido que tiene casos severos. Esto crea un dataset desbalanceado, ya que las clases no están distribuidas equitativamente.\n",
        "\n",
        "**Atributos del dataset:**\n",
        "\n",
        "- Edad:\n",
        "  - Tipo: Numérica continua\n",
        "  - Descripción: Representa la edad del paciente en años. La diabetes se correlaciona a menudo con la edad, por lo que esta característica puede ayudar a predecir la condición.\n",
        "\n",
        "- Índice de Masa Corporal (IMC):\n",
        "  - Tipo: Numérica continua\n",
        "  - Descripción: Calcula el peso del paciente en relación con su altura. Un IMC elevado puede ser un factor de riesgo significativo para la diabetes.\n",
        "\n",
        "- Glucosa en Ayunas:\n",
        "  - Tipo: Numérica continua\n",
        "  - Descripción: Medición de la glucosa en la sangre después de un período de ayuno. Niveles altos pueden indicar problemas de azúcar en la sangre.\n",
        "\n",
        "- Historial Familiar:\n",
        "  - Tipo: Numérica discreta\n",
        "  - Descripción: Número de familiares directos que han sido diagnosticados con diabetes. Tener antecedentes familiares puede aumentar el riesgo.\n",
        "\n",
        "- Nivel de Actividad Física:\n",
        "  - Tipo: Numérica continua (valor entre 0 y 1)\n",
        "  - Descripción: Un puntaje que mide la actividad física del paciente (0 = sedentario, 1 = muy activo). La actividad física regular puede ayudar a reducir el riesgo de diabetes.\n",
        "\n",
        "\n",
        "- Variable Objetivo\n",
        "  - Gravedad_Diabetes:\n",
        "    - Tipo: Categórica (0, 1, 2)\n",
        "  - Descripción: Variable objetivo que indica la gravedad de la condición del paciente:\n",
        "    - 0 = Sin Diabetes\n",
        "    - 1 = Diabetes Moderada\n",
        "    - 2 = Diabetes Severa"
      ]
    },
    {
      "cell_type": "code",
      "execution_count": 5,
      "metadata": {
        "colab": {
          "base_uri": "https://localhost:8080/",
          "height": 206
        },
        "id": "H6FT7zcrIEgU",
        "outputId": "045da6ca-3660-4ca7-d65e-5c30ecf40711"
      },
      "outputs": [
        {
          "output_type": "execute_result",
          "data": {
            "text/plain": [
              "   Edad   IMC  Glucosa_Ayunas  Historial_Familiar  Nivel_Actividad  \\\n",
              "0    29  27.5             131                   0             1.00   \n",
              "1    47  23.1             101                   0             1.00   \n",
              "2    46  24.4             106                   0             0.59   \n",
              "3    36  21.9              93                   0             1.00   \n",
              "4    57  32.5              97                   2             1.00   \n",
              "\n",
              "   Gravedad_Diabetes  \n",
              "0                  1  \n",
              "1                  0  \n",
              "2                  0  \n",
              "3                  2  \n",
              "4                  0  "
            ],
            "text/html": [
              "\n",
              "  <div id=\"df-111be7c5-91a9-4883-b2be-108af428e902\" class=\"colab-df-container\">\n",
              "    <div>\n",
              "<style scoped>\n",
              "    .dataframe tbody tr th:only-of-type {\n",
              "        vertical-align: middle;\n",
              "    }\n",
              "\n",
              "    .dataframe tbody tr th {\n",
              "        vertical-align: top;\n",
              "    }\n",
              "\n",
              "    .dataframe thead th {\n",
              "        text-align: right;\n",
              "    }\n",
              "</style>\n",
              "<table border=\"1\" class=\"dataframe\">\n",
              "  <thead>\n",
              "    <tr style=\"text-align: right;\">\n",
              "      <th></th>\n",
              "      <th>Edad</th>\n",
              "      <th>IMC</th>\n",
              "      <th>Glucosa_Ayunas</th>\n",
              "      <th>Historial_Familiar</th>\n",
              "      <th>Nivel_Actividad</th>\n",
              "      <th>Gravedad_Diabetes</th>\n",
              "    </tr>\n",
              "  </thead>\n",
              "  <tbody>\n",
              "    <tr>\n",
              "      <th>0</th>\n",
              "      <td>29</td>\n",
              "      <td>27.5</td>\n",
              "      <td>131</td>\n",
              "      <td>0</td>\n",
              "      <td>1.00</td>\n",
              "      <td>1</td>\n",
              "    </tr>\n",
              "    <tr>\n",
              "      <th>1</th>\n",
              "      <td>47</td>\n",
              "      <td>23.1</td>\n",
              "      <td>101</td>\n",
              "      <td>0</td>\n",
              "      <td>1.00</td>\n",
              "      <td>0</td>\n",
              "    </tr>\n",
              "    <tr>\n",
              "      <th>2</th>\n",
              "      <td>46</td>\n",
              "      <td>24.4</td>\n",
              "      <td>106</td>\n",
              "      <td>0</td>\n",
              "      <td>0.59</td>\n",
              "      <td>0</td>\n",
              "    </tr>\n",
              "    <tr>\n",
              "      <th>3</th>\n",
              "      <td>36</td>\n",
              "      <td>21.9</td>\n",
              "      <td>93</td>\n",
              "      <td>0</td>\n",
              "      <td>1.00</td>\n",
              "      <td>2</td>\n",
              "    </tr>\n",
              "    <tr>\n",
              "      <th>4</th>\n",
              "      <td>57</td>\n",
              "      <td>32.5</td>\n",
              "      <td>97</td>\n",
              "      <td>2</td>\n",
              "      <td>1.00</td>\n",
              "      <td>0</td>\n",
              "    </tr>\n",
              "  </tbody>\n",
              "</table>\n",
              "</div>\n",
              "    <div class=\"colab-df-buttons\">\n",
              "\n",
              "  <div class=\"colab-df-container\">\n",
              "    <button class=\"colab-df-convert\" onclick=\"convertToInteractive('df-111be7c5-91a9-4883-b2be-108af428e902')\"\n",
              "            title=\"Convert this dataframe to an interactive table.\"\n",
              "            style=\"display:none;\">\n",
              "\n",
              "  <svg xmlns=\"http://www.w3.org/2000/svg\" height=\"24px\" viewBox=\"0 -960 960 960\">\n",
              "    <path d=\"M120-120v-720h720v720H120Zm60-500h600v-160H180v160Zm220 220h160v-160H400v160Zm0 220h160v-160H400v160ZM180-400h160v-160H180v160Zm440 0h160v-160H620v160ZM180-180h160v-160H180v160Zm440 0h160v-160H620v160Z\"/>\n",
              "  </svg>\n",
              "    </button>\n",
              "\n",
              "  <style>\n",
              "    .colab-df-container {\n",
              "      display:flex;\n",
              "      gap: 12px;\n",
              "    }\n",
              "\n",
              "    .colab-df-convert {\n",
              "      background-color: #E8F0FE;\n",
              "      border: none;\n",
              "      border-radius: 50%;\n",
              "      cursor: pointer;\n",
              "      display: none;\n",
              "      fill: #1967D2;\n",
              "      height: 32px;\n",
              "      padding: 0 0 0 0;\n",
              "      width: 32px;\n",
              "    }\n",
              "\n",
              "    .colab-df-convert:hover {\n",
              "      background-color: #E2EBFA;\n",
              "      box-shadow: 0px 1px 2px rgba(60, 64, 67, 0.3), 0px 1px 3px 1px rgba(60, 64, 67, 0.15);\n",
              "      fill: #174EA6;\n",
              "    }\n",
              "\n",
              "    .colab-df-buttons div {\n",
              "      margin-bottom: 4px;\n",
              "    }\n",
              "\n",
              "    [theme=dark] .colab-df-convert {\n",
              "      background-color: #3B4455;\n",
              "      fill: #D2E3FC;\n",
              "    }\n",
              "\n",
              "    [theme=dark] .colab-df-convert:hover {\n",
              "      background-color: #434B5C;\n",
              "      box-shadow: 0px 1px 3px 1px rgba(0, 0, 0, 0.15);\n",
              "      filter: drop-shadow(0px 1px 2px rgba(0, 0, 0, 0.3));\n",
              "      fill: #FFFFFF;\n",
              "    }\n",
              "  </style>\n",
              "\n",
              "    <script>\n",
              "      const buttonEl =\n",
              "        document.querySelector('#df-111be7c5-91a9-4883-b2be-108af428e902 button.colab-df-convert');\n",
              "      buttonEl.style.display =\n",
              "        google.colab.kernel.accessAllowed ? 'block' : 'none';\n",
              "\n",
              "      async function convertToInteractive(key) {\n",
              "        const element = document.querySelector('#df-111be7c5-91a9-4883-b2be-108af428e902');\n",
              "        const dataTable =\n",
              "          await google.colab.kernel.invokeFunction('convertToInteractive',\n",
              "                                                    [key], {});\n",
              "        if (!dataTable) return;\n",
              "\n",
              "        const docLinkHtml = 'Like what you see? Visit the ' +\n",
              "          '<a target=\"_blank\" href=https://colab.research.google.com/notebooks/data_table.ipynb>data table notebook</a>'\n",
              "          + ' to learn more about interactive tables.';\n",
              "        element.innerHTML = '';\n",
              "        dataTable['output_type'] = 'display_data';\n",
              "        await google.colab.output.renderOutput(dataTable, element);\n",
              "        const docLink = document.createElement('div');\n",
              "        docLink.innerHTML = docLinkHtml;\n",
              "        element.appendChild(docLink);\n",
              "      }\n",
              "    </script>\n",
              "  </div>\n",
              "\n",
              "\n",
              "    <div id=\"df-e47a5e88-cdd5-4a55-ad03-e95da4100d7d\">\n",
              "      <button class=\"colab-df-quickchart\" onclick=\"quickchart('df-e47a5e88-cdd5-4a55-ad03-e95da4100d7d')\"\n",
              "                title=\"Suggest charts\"\n",
              "                style=\"display:none;\">\n",
              "\n",
              "<svg xmlns=\"http://www.w3.org/2000/svg\" height=\"24px\"viewBox=\"0 0 24 24\"\n",
              "     width=\"24px\">\n",
              "    <g>\n",
              "        <path d=\"M19 3H5c-1.1 0-2 .9-2 2v14c0 1.1.9 2 2 2h14c1.1 0 2-.9 2-2V5c0-1.1-.9-2-2-2zM9 17H7v-7h2v7zm4 0h-2V7h2v10zm4 0h-2v-4h2v4z\"/>\n",
              "    </g>\n",
              "</svg>\n",
              "      </button>\n",
              "\n",
              "<style>\n",
              "  .colab-df-quickchart {\n",
              "      --bg-color: #E8F0FE;\n",
              "      --fill-color: #1967D2;\n",
              "      --hover-bg-color: #E2EBFA;\n",
              "      --hover-fill-color: #174EA6;\n",
              "      --disabled-fill-color: #AAA;\n",
              "      --disabled-bg-color: #DDD;\n",
              "  }\n",
              "\n",
              "  [theme=dark] .colab-df-quickchart {\n",
              "      --bg-color: #3B4455;\n",
              "      --fill-color: #D2E3FC;\n",
              "      --hover-bg-color: #434B5C;\n",
              "      --hover-fill-color: #FFFFFF;\n",
              "      --disabled-bg-color: #3B4455;\n",
              "      --disabled-fill-color: #666;\n",
              "  }\n",
              "\n",
              "  .colab-df-quickchart {\n",
              "    background-color: var(--bg-color);\n",
              "    border: none;\n",
              "    border-radius: 50%;\n",
              "    cursor: pointer;\n",
              "    display: none;\n",
              "    fill: var(--fill-color);\n",
              "    height: 32px;\n",
              "    padding: 0;\n",
              "    width: 32px;\n",
              "  }\n",
              "\n",
              "  .colab-df-quickchart:hover {\n",
              "    background-color: var(--hover-bg-color);\n",
              "    box-shadow: 0 1px 2px rgba(60, 64, 67, 0.3), 0 1px 3px 1px rgba(60, 64, 67, 0.15);\n",
              "    fill: var(--button-hover-fill-color);\n",
              "  }\n",
              "\n",
              "  .colab-df-quickchart-complete:disabled,\n",
              "  .colab-df-quickchart-complete:disabled:hover {\n",
              "    background-color: var(--disabled-bg-color);\n",
              "    fill: var(--disabled-fill-color);\n",
              "    box-shadow: none;\n",
              "  }\n",
              "\n",
              "  .colab-df-spinner {\n",
              "    border: 2px solid var(--fill-color);\n",
              "    border-color: transparent;\n",
              "    border-bottom-color: var(--fill-color);\n",
              "    animation:\n",
              "      spin 1s steps(1) infinite;\n",
              "  }\n",
              "\n",
              "  @keyframes spin {\n",
              "    0% {\n",
              "      border-color: transparent;\n",
              "      border-bottom-color: var(--fill-color);\n",
              "      border-left-color: var(--fill-color);\n",
              "    }\n",
              "    20% {\n",
              "      border-color: transparent;\n",
              "      border-left-color: var(--fill-color);\n",
              "      border-top-color: var(--fill-color);\n",
              "    }\n",
              "    30% {\n",
              "      border-color: transparent;\n",
              "      border-left-color: var(--fill-color);\n",
              "      border-top-color: var(--fill-color);\n",
              "      border-right-color: var(--fill-color);\n",
              "    }\n",
              "    40% {\n",
              "      border-color: transparent;\n",
              "      border-right-color: var(--fill-color);\n",
              "      border-top-color: var(--fill-color);\n",
              "    }\n",
              "    60% {\n",
              "      border-color: transparent;\n",
              "      border-right-color: var(--fill-color);\n",
              "    }\n",
              "    80% {\n",
              "      border-color: transparent;\n",
              "      border-right-color: var(--fill-color);\n",
              "      border-bottom-color: var(--fill-color);\n",
              "    }\n",
              "    90% {\n",
              "      border-color: transparent;\n",
              "      border-bottom-color: var(--fill-color);\n",
              "    }\n",
              "  }\n",
              "</style>\n",
              "\n",
              "      <script>\n",
              "        async function quickchart(key) {\n",
              "          const quickchartButtonEl =\n",
              "            document.querySelector('#' + key + ' button');\n",
              "          quickchartButtonEl.disabled = true;  // To prevent multiple clicks.\n",
              "          quickchartButtonEl.classList.add('colab-df-spinner');\n",
              "          try {\n",
              "            const charts = await google.colab.kernel.invokeFunction(\n",
              "                'suggestCharts', [key], {});\n",
              "          } catch (error) {\n",
              "            console.error('Error during call to suggestCharts:', error);\n",
              "          }\n",
              "          quickchartButtonEl.classList.remove('colab-df-spinner');\n",
              "          quickchartButtonEl.classList.add('colab-df-quickchart-complete');\n",
              "        }\n",
              "        (() => {\n",
              "          let quickchartButtonEl =\n",
              "            document.querySelector('#df-e47a5e88-cdd5-4a55-ad03-e95da4100d7d button');\n",
              "          quickchartButtonEl.style.display =\n",
              "            google.colab.kernel.accessAllowed ? 'block' : 'none';\n",
              "        })();\n",
              "      </script>\n",
              "    </div>\n",
              "\n",
              "    </div>\n",
              "  </div>\n"
            ],
            "application/vnd.google.colaboratory.intrinsic+json": {
              "type": "dataframe",
              "variable_name": "df1_diabetes",
              "summary": "{\n  \"name\": \"df1_diabetes\",\n  \"rows\": 2000,\n  \"fields\": [\n    {\n      \"column\": \"Edad\",\n      \"properties\": {\n        \"dtype\": \"number\",\n        \"std\": 11,\n        \"min\": 18,\n        \"max\": 80,\n        \"num_unique_values\": 60,\n        \"samples\": [\n          29,\n          56,\n          54\n        ],\n        \"semantic_type\": \"\",\n        \"description\": \"\"\n      }\n    },\n    {\n      \"column\": \"IMC\",\n      \"properties\": {\n        \"dtype\": \"number\",\n        \"std\": 5.081062526253511,\n        \"min\": 15.0,\n        \"max\": 39.8,\n        \"num_unique_values\": 234,\n        \"samples\": [\n          30.5,\n          35.2,\n          36.5\n        ],\n        \"semantic_type\": \"\",\n        \"description\": \"\"\n      }\n    },\n    {\n      \"column\": \"Glucosa_Ayunas\",\n      \"properties\": {\n        \"dtype\": \"number\",\n        \"std\": 20,\n        \"min\": 70,\n        \"max\": 175,\n        \"num_unique_values\": 97,\n        \"samples\": [\n          89,\n          102,\n          167\n        ],\n        \"semantic_type\": \"\",\n        \"description\": \"\"\n      }\n    },\n    {\n      \"column\": \"Historial_Familiar\",\n      \"properties\": {\n        \"dtype\": \"number\",\n        \"std\": 0,\n        \"min\": 0,\n        \"max\": 2,\n        \"num_unique_values\": 3,\n        \"samples\": [\n          0,\n          2,\n          1\n        ],\n        \"semantic_type\": \"\",\n        \"description\": \"\"\n      }\n    },\n    {\n      \"column\": \"Nivel_Actividad\",\n      \"properties\": {\n        \"dtype\": \"number\",\n        \"std\": 0.4150541877446611,\n        \"min\": 0.0,\n        \"max\": 1.0,\n        \"num_unique_values\": 101,\n        \"samples\": [\n          0.15,\n          0.97,\n          0.52\n        ],\n        \"semantic_type\": \"\",\n        \"description\": \"\"\n      }\n    },\n    {\n      \"column\": \"Gravedad_Diabetes\",\n      \"properties\": {\n        \"dtype\": \"number\",\n        \"std\": 0,\n        \"min\": 0,\n        \"max\": 2,\n        \"num_unique_values\": 3,\n        \"samples\": [\n          1,\n          0,\n          2\n        ],\n        \"semantic_type\": \"\",\n        \"description\": \"\"\n      }\n    }\n  ]\n}"
            }
          },
          "metadata": {},
          "execution_count": 5
        }
      ],
      "source": [
        "# Importa la biblioteca pandas y la renombra como 'pd' (una convención estándar).\n",
        "import pandas as pd\n",
        "\n",
        "# Define la ruta de la carpeta del dataset.\n",
        "# Utiliza un operador ternario: si IN_COLAB es True, usa la ruta de Colab; si no, usa la ruta local.\n",
        "datasets_folder_name = '/content/datasets_github' if IN_COLAB else dataset_sintetico_path\n",
        "\n",
        "# Construye la ruta completa al archivo CSV específico.\n",
        "ruta_dataset = os.path.join(datasets_folder_name, 'dataset_2_gravedad_diabetes_sintetico_.csv')\n",
        "\n",
        "# Carga el archivo CSV en un DataFrame de pandas llamado 'df1_diabetes'.\n",
        "df1_diabetes = pd.read_csv(ruta_dataset)\n",
        "\n",
        "# Muestra las primeras 5 filas del DataFrame para una inspección inicial.\n",
        "df1_diabetes.head()"
      ]
    },
    {
      "cell_type": "markdown",
      "metadata": {
        "id": "xnVDbFSmIEgV"
      },
      "source": [
        "## 1.2. Explorar los Datos\n",
        "\n",
        "Realiza un análisis exploratorio inicial para entender la estructura y el contenido del dataset. Esto incluye revisar el tipo de datos, el número de entradas, y estadísticas básicas para cada variable.\n",
        "\n",
        "### Paso 1.3: Comprobar Datos Faltantes o Anómalos\n",
        "Verifica si hay valores faltantes y observa si hay valores fuera de los rangos esperados. Esto ayudará a identificar datos que necesiten limpieza o ajustes.\n",
        "\n",
        "### Paso 1.4: Análisis Univariado\n",
        "Examina cada característica por separado para entender su distribución. Utiliza histogramas y diagramas de caja para visualizar la variabilidad de cada característica.\n",
        "\n",
        "### Paso 1.5: Análisis Bivariado\n",
        "Examina cómo se relacionan las características con la variable objetivo `Gravedad_Diabetes`. Utiliza diagramas de dispersión y gráficos de violín para visualizar relaciones y patrones entre variables.\n",
        "\n",
        "### Paso 1.6: Análisis de Correlación\n",
        "Verifica las correlaciones entre las características para identificar posibles relaciones que puedan ser importantes en el análisis. Esto puede ayudar a reducir la multicolinealidad y seleccionar las características más relevantes.\n",
        "\n",
        "### Paso 1.7: Conclusiones Iniciales del Análisis\n",
        "Resume los hallazgos clave de la exploración de los datos. Identifica características que distingan claramente los diferentes niveles de interés y patrones generales que podrías aprovechar en el modelado predictivo.\n",
        "\n",
        "### Paso 1.8: Visualizaciones Adicionales para Insights\n",
        "Crea visualizaciones adicionales si observaste patrones interesantes que merecen ser destacados. Estas visualizaciones pueden ayudar a comunicar mejor los resultados del análisis y proporcionar insights más profundos."
      ]
    },
    {
      "cell_type": "code",
      "execution_count": 6,
      "metadata": {
        "colab": {
          "base_uri": "https://localhost:8080/",
          "height": 533
        },
        "id": "0-bTJNdoIEgV",
        "outputId": "b3e162a9-895f-4ec7-b06f-362d87a664bc"
      },
      "outputs": [
        {
          "output_type": "stream",
          "name": "stdout",
          "text": [
            "<class 'pandas.core.frame.DataFrame'>\n",
            "RangeIndex: 2000 entries, 0 to 1999\n",
            "Data columns (total 6 columns):\n",
            " #   Column              Non-Null Count  Dtype  \n",
            "---  ------              --------------  -----  \n",
            " 0   Edad                2000 non-null   int64  \n",
            " 1   IMC                 2000 non-null   float64\n",
            " 2   Glucosa_Ayunas      2000 non-null   int64  \n",
            " 3   Historial_Familiar  2000 non-null   int64  \n",
            " 4   Nivel_Actividad     2000 non-null   float64\n",
            " 5   Gravedad_Diabetes   2000 non-null   int64  \n",
            "dtypes: float64(2), int64(4)\n",
            "memory usage: 93.9 KB\n"
          ]
        },
        {
          "output_type": "execute_result",
          "data": {
            "text/plain": [
              "              Edad          IMC  Glucosa_Ayunas  Historial_Familiar  \\\n",
              "count  2000.000000  2000.000000     2000.000000         2000.000000   \n",
              "mean     43.338000    27.630450      109.208500            1.145500   \n",
              "std      11.736167     5.081063       20.139832            0.847165   \n",
              "min      18.000000    15.000000       70.000000            0.000000   \n",
              "25%      33.000000    24.600000       95.000000            0.000000   \n",
              "50%      41.000000    28.100000      109.000000            1.000000   \n",
              "75%      54.000000    31.200000      123.000000            2.000000   \n",
              "max      80.000000    39.800000      175.000000            2.000000   \n",
              "\n",
              "       Nivel_Actividad  Gravedad_Diabetes  \n",
              "count      2000.000000        2000.000000  \n",
              "mean          0.532215           0.408500  \n",
              "std           0.415054           0.671456  \n",
              "min           0.000000           0.000000  \n",
              "25%           0.000000           0.000000  \n",
              "50%           0.590000           0.000000  \n",
              "75%           1.000000           1.000000  \n",
              "max           1.000000           2.000000  "
            ],
            "text/html": [
              "\n",
              "  <div id=\"df-e560ffd0-574b-41e2-8c0a-7f3902d951a3\" class=\"colab-df-container\">\n",
              "    <div>\n",
              "<style scoped>\n",
              "    .dataframe tbody tr th:only-of-type {\n",
              "        vertical-align: middle;\n",
              "    }\n",
              "\n",
              "    .dataframe tbody tr th {\n",
              "        vertical-align: top;\n",
              "    }\n",
              "\n",
              "    .dataframe thead th {\n",
              "        text-align: right;\n",
              "    }\n",
              "</style>\n",
              "<table border=\"1\" class=\"dataframe\">\n",
              "  <thead>\n",
              "    <tr style=\"text-align: right;\">\n",
              "      <th></th>\n",
              "      <th>Edad</th>\n",
              "      <th>IMC</th>\n",
              "      <th>Glucosa_Ayunas</th>\n",
              "      <th>Historial_Familiar</th>\n",
              "      <th>Nivel_Actividad</th>\n",
              "      <th>Gravedad_Diabetes</th>\n",
              "    </tr>\n",
              "  </thead>\n",
              "  <tbody>\n",
              "    <tr>\n",
              "      <th>count</th>\n",
              "      <td>2000.000000</td>\n",
              "      <td>2000.000000</td>\n",
              "      <td>2000.000000</td>\n",
              "      <td>2000.000000</td>\n",
              "      <td>2000.000000</td>\n",
              "      <td>2000.000000</td>\n",
              "    </tr>\n",
              "    <tr>\n",
              "      <th>mean</th>\n",
              "      <td>43.338000</td>\n",
              "      <td>27.630450</td>\n",
              "      <td>109.208500</td>\n",
              "      <td>1.145500</td>\n",
              "      <td>0.532215</td>\n",
              "      <td>0.408500</td>\n",
              "    </tr>\n",
              "    <tr>\n",
              "      <th>std</th>\n",
              "      <td>11.736167</td>\n",
              "      <td>5.081063</td>\n",
              "      <td>20.139832</td>\n",
              "      <td>0.847165</td>\n",
              "      <td>0.415054</td>\n",
              "      <td>0.671456</td>\n",
              "    </tr>\n",
              "    <tr>\n",
              "      <th>min</th>\n",
              "      <td>18.000000</td>\n",
              "      <td>15.000000</td>\n",
              "      <td>70.000000</td>\n",
              "      <td>0.000000</td>\n",
              "      <td>0.000000</td>\n",
              "      <td>0.000000</td>\n",
              "    </tr>\n",
              "    <tr>\n",
              "      <th>25%</th>\n",
              "      <td>33.000000</td>\n",
              "      <td>24.600000</td>\n",
              "      <td>95.000000</td>\n",
              "      <td>0.000000</td>\n",
              "      <td>0.000000</td>\n",
              "      <td>0.000000</td>\n",
              "    </tr>\n",
              "    <tr>\n",
              "      <th>50%</th>\n",
              "      <td>41.000000</td>\n",
              "      <td>28.100000</td>\n",
              "      <td>109.000000</td>\n",
              "      <td>1.000000</td>\n",
              "      <td>0.590000</td>\n",
              "      <td>0.000000</td>\n",
              "    </tr>\n",
              "    <tr>\n",
              "      <th>75%</th>\n",
              "      <td>54.000000</td>\n",
              "      <td>31.200000</td>\n",
              "      <td>123.000000</td>\n",
              "      <td>2.000000</td>\n",
              "      <td>1.000000</td>\n",
              "      <td>1.000000</td>\n",
              "    </tr>\n",
              "    <tr>\n",
              "      <th>max</th>\n",
              "      <td>80.000000</td>\n",
              "      <td>39.800000</td>\n",
              "      <td>175.000000</td>\n",
              "      <td>2.000000</td>\n",
              "      <td>1.000000</td>\n",
              "      <td>2.000000</td>\n",
              "    </tr>\n",
              "  </tbody>\n",
              "</table>\n",
              "</div>\n",
              "    <div class=\"colab-df-buttons\">\n",
              "\n",
              "  <div class=\"colab-df-container\">\n",
              "    <button class=\"colab-df-convert\" onclick=\"convertToInteractive('df-e560ffd0-574b-41e2-8c0a-7f3902d951a3')\"\n",
              "            title=\"Convert this dataframe to an interactive table.\"\n",
              "            style=\"display:none;\">\n",
              "\n",
              "  <svg xmlns=\"http://www.w3.org/2000/svg\" height=\"24px\" viewBox=\"0 -960 960 960\">\n",
              "    <path d=\"M120-120v-720h720v720H120Zm60-500h600v-160H180v160Zm220 220h160v-160H400v160Zm0 220h160v-160H400v160ZM180-400h160v-160H180v160Zm440 0h160v-160H620v160ZM180-180h160v-160H180v160Zm440 0h160v-160H620v160Z\"/>\n",
              "  </svg>\n",
              "    </button>\n",
              "\n",
              "  <style>\n",
              "    .colab-df-container {\n",
              "      display:flex;\n",
              "      gap: 12px;\n",
              "    }\n",
              "\n",
              "    .colab-df-convert {\n",
              "      background-color: #E8F0FE;\n",
              "      border: none;\n",
              "      border-radius: 50%;\n",
              "      cursor: pointer;\n",
              "      display: none;\n",
              "      fill: #1967D2;\n",
              "      height: 32px;\n",
              "      padding: 0 0 0 0;\n",
              "      width: 32px;\n",
              "    }\n",
              "\n",
              "    .colab-df-convert:hover {\n",
              "      background-color: #E2EBFA;\n",
              "      box-shadow: 0px 1px 2px rgba(60, 64, 67, 0.3), 0px 1px 3px 1px rgba(60, 64, 67, 0.15);\n",
              "      fill: #174EA6;\n",
              "    }\n",
              "\n",
              "    .colab-df-buttons div {\n",
              "      margin-bottom: 4px;\n",
              "    }\n",
              "\n",
              "    [theme=dark] .colab-df-convert {\n",
              "      background-color: #3B4455;\n",
              "      fill: #D2E3FC;\n",
              "    }\n",
              "\n",
              "    [theme=dark] .colab-df-convert:hover {\n",
              "      background-color: #434B5C;\n",
              "      box-shadow: 0px 1px 3px 1px rgba(0, 0, 0, 0.15);\n",
              "      filter: drop-shadow(0px 1px 2px rgba(0, 0, 0, 0.3));\n",
              "      fill: #FFFFFF;\n",
              "    }\n",
              "  </style>\n",
              "\n",
              "    <script>\n",
              "      const buttonEl =\n",
              "        document.querySelector('#df-e560ffd0-574b-41e2-8c0a-7f3902d951a3 button.colab-df-convert');\n",
              "      buttonEl.style.display =\n",
              "        google.colab.kernel.accessAllowed ? 'block' : 'none';\n",
              "\n",
              "      async function convertToInteractive(key) {\n",
              "        const element = document.querySelector('#df-e560ffd0-574b-41e2-8c0a-7f3902d951a3');\n",
              "        const dataTable =\n",
              "          await google.colab.kernel.invokeFunction('convertToInteractive',\n",
              "                                                    [key], {});\n",
              "        if (!dataTable) return;\n",
              "\n",
              "        const docLinkHtml = 'Like what you see? Visit the ' +\n",
              "          '<a target=\"_blank\" href=https://colab.research.google.com/notebooks/data_table.ipynb>data table notebook</a>'\n",
              "          + ' to learn more about interactive tables.';\n",
              "        element.innerHTML = '';\n",
              "        dataTable['output_type'] = 'display_data';\n",
              "        await google.colab.output.renderOutput(dataTable, element);\n",
              "        const docLink = document.createElement('div');\n",
              "        docLink.innerHTML = docLinkHtml;\n",
              "        element.appendChild(docLink);\n",
              "      }\n",
              "    </script>\n",
              "  </div>\n",
              "\n",
              "\n",
              "    <div id=\"df-877875af-df8e-4110-8356-d68583539d9d\">\n",
              "      <button class=\"colab-df-quickchart\" onclick=\"quickchart('df-877875af-df8e-4110-8356-d68583539d9d')\"\n",
              "                title=\"Suggest charts\"\n",
              "                style=\"display:none;\">\n",
              "\n",
              "<svg xmlns=\"http://www.w3.org/2000/svg\" height=\"24px\"viewBox=\"0 0 24 24\"\n",
              "     width=\"24px\">\n",
              "    <g>\n",
              "        <path d=\"M19 3H5c-1.1 0-2 .9-2 2v14c0 1.1.9 2 2 2h14c1.1 0 2-.9 2-2V5c0-1.1-.9-2-2-2zM9 17H7v-7h2v7zm4 0h-2V7h2v10zm4 0h-2v-4h2v4z\"/>\n",
              "    </g>\n",
              "</svg>\n",
              "      </button>\n",
              "\n",
              "<style>\n",
              "  .colab-df-quickchart {\n",
              "      --bg-color: #E8F0FE;\n",
              "      --fill-color: #1967D2;\n",
              "      --hover-bg-color: #E2EBFA;\n",
              "      --hover-fill-color: #174EA6;\n",
              "      --disabled-fill-color: #AAA;\n",
              "      --disabled-bg-color: #DDD;\n",
              "  }\n",
              "\n",
              "  [theme=dark] .colab-df-quickchart {\n",
              "      --bg-color: #3B4455;\n",
              "      --fill-color: #D2E3FC;\n",
              "      --hover-bg-color: #434B5C;\n",
              "      --hover-fill-color: #FFFFFF;\n",
              "      --disabled-bg-color: #3B4455;\n",
              "      --disabled-fill-color: #666;\n",
              "  }\n",
              "\n",
              "  .colab-df-quickchart {\n",
              "    background-color: var(--bg-color);\n",
              "    border: none;\n",
              "    border-radius: 50%;\n",
              "    cursor: pointer;\n",
              "    display: none;\n",
              "    fill: var(--fill-color);\n",
              "    height: 32px;\n",
              "    padding: 0;\n",
              "    width: 32px;\n",
              "  }\n",
              "\n",
              "  .colab-df-quickchart:hover {\n",
              "    background-color: var(--hover-bg-color);\n",
              "    box-shadow: 0 1px 2px rgba(60, 64, 67, 0.3), 0 1px 3px 1px rgba(60, 64, 67, 0.15);\n",
              "    fill: var(--button-hover-fill-color);\n",
              "  }\n",
              "\n",
              "  .colab-df-quickchart-complete:disabled,\n",
              "  .colab-df-quickchart-complete:disabled:hover {\n",
              "    background-color: var(--disabled-bg-color);\n",
              "    fill: var(--disabled-fill-color);\n",
              "    box-shadow: none;\n",
              "  }\n",
              "\n",
              "  .colab-df-spinner {\n",
              "    border: 2px solid var(--fill-color);\n",
              "    border-color: transparent;\n",
              "    border-bottom-color: var(--fill-color);\n",
              "    animation:\n",
              "      spin 1s steps(1) infinite;\n",
              "  }\n",
              "\n",
              "  @keyframes spin {\n",
              "    0% {\n",
              "      border-color: transparent;\n",
              "      border-bottom-color: var(--fill-color);\n",
              "      border-left-color: var(--fill-color);\n",
              "    }\n",
              "    20% {\n",
              "      border-color: transparent;\n",
              "      border-left-color: var(--fill-color);\n",
              "      border-top-color: var(--fill-color);\n",
              "    }\n",
              "    30% {\n",
              "      border-color: transparent;\n",
              "      border-left-color: var(--fill-color);\n",
              "      border-top-color: var(--fill-color);\n",
              "      border-right-color: var(--fill-color);\n",
              "    }\n",
              "    40% {\n",
              "      border-color: transparent;\n",
              "      border-right-color: var(--fill-color);\n",
              "      border-top-color: var(--fill-color);\n",
              "    }\n",
              "    60% {\n",
              "      border-color: transparent;\n",
              "      border-right-color: var(--fill-color);\n",
              "    }\n",
              "    80% {\n",
              "      border-color: transparent;\n",
              "      border-right-color: var(--fill-color);\n",
              "      border-bottom-color: var(--fill-color);\n",
              "    }\n",
              "    90% {\n",
              "      border-color: transparent;\n",
              "      border-bottom-color: var(--fill-color);\n",
              "    }\n",
              "  }\n",
              "</style>\n",
              "\n",
              "      <script>\n",
              "        async function quickchart(key) {\n",
              "          const quickchartButtonEl =\n",
              "            document.querySelector('#' + key + ' button');\n",
              "          quickchartButtonEl.disabled = true;  // To prevent multiple clicks.\n",
              "          quickchartButtonEl.classList.add('colab-df-spinner');\n",
              "          try {\n",
              "            const charts = await google.colab.kernel.invokeFunction(\n",
              "                'suggestCharts', [key], {});\n",
              "          } catch (error) {\n",
              "            console.error('Error during call to suggestCharts:', error);\n",
              "          }\n",
              "          quickchartButtonEl.classList.remove('colab-df-spinner');\n",
              "          quickchartButtonEl.classList.add('colab-df-quickchart-complete');\n",
              "        }\n",
              "        (() => {\n",
              "          let quickchartButtonEl =\n",
              "            document.querySelector('#df-877875af-df8e-4110-8356-d68583539d9d button');\n",
              "          quickchartButtonEl.style.display =\n",
              "            google.colab.kernel.accessAllowed ? 'block' : 'none';\n",
              "        })();\n",
              "      </script>\n",
              "    </div>\n",
              "\n",
              "    </div>\n",
              "  </div>\n"
            ],
            "application/vnd.google.colaboratory.intrinsic+json": {
              "type": "dataframe",
              "summary": "{\n  \"name\": \"df1_diabetes\",\n  \"rows\": 8,\n  \"fields\": [\n    {\n      \"column\": \"Edad\",\n      \"properties\": {\n        \"dtype\": \"number\",\n        \"std\": 693.2339844352463,\n        \"min\": 11.736167381748029,\n        \"max\": 2000.0,\n        \"num_unique_values\": 8,\n        \"samples\": [\n          43.338,\n          41.0,\n          2000.0\n        ],\n        \"semantic_type\": \"\",\n        \"description\": \"\"\n      }\n    },\n    {\n      \"column\": \"IMC\",\n      \"properties\": {\n        \"dtype\": \"number\",\n        \"std\": 698.5278411848076,\n        \"min\": 5.081062526253511,\n        \"max\": 2000.0,\n        \"num_unique_values\": 8,\n        \"samples\": [\n          27.630449999999996,\n          28.1,\n          2000.0\n        ],\n        \"semantic_type\": \"\",\n        \"description\": \"\"\n      }\n    },\n    {\n      \"column\": \"Glucosa_Ayunas\",\n      \"properties\": {\n        \"dtype\": \"number\",\n        \"std\": 673.1304010725617,\n        \"min\": 20.139832029266884,\n        \"max\": 2000.0,\n        \"num_unique_values\": 8,\n        \"samples\": [\n          109.2085,\n          109.0,\n          2000.0\n        ],\n        \"semantic_type\": \"\",\n        \"description\": \"\"\n      }\n    },\n    {\n      \"column\": \"Historial_Familiar\",\n      \"properties\": {\n        \"dtype\": \"number\",\n        \"std\": 706.7540070300747,\n        \"min\": 0.0,\n        \"max\": 2000.0,\n        \"num_unique_values\": 6,\n        \"samples\": [\n          2000.0,\n          1.1455,\n          2.0\n        ],\n        \"semantic_type\": \"\",\n        \"description\": \"\"\n      }\n    },\n    {\n      \"column\": \"Nivel_Actividad\",\n      \"properties\": {\n        \"dtype\": \"number\",\n        \"std\": 706.9282247861164,\n        \"min\": 0.0,\n        \"max\": 2000.0,\n        \"num_unique_values\": 6,\n        \"samples\": [\n          2000.0,\n          0.532215,\n          1.0\n        ],\n        \"semantic_type\": \"\",\n        \"description\": \"\"\n      }\n    },\n    {\n      \"column\": \"Gravedad_Diabetes\",\n      \"properties\": {\n        \"dtype\": \"number\",\n        \"std\": 706.9010396455882,\n        \"min\": 0.0,\n        \"max\": 2000.0,\n        \"num_unique_values\": 6,\n        \"samples\": [\n          2000.0,\n          0.4085,\n          2.0\n        ],\n        \"semantic_type\": \"\",\n        \"description\": \"\"\n      }\n    }\n  ]\n}"
            }
          },
          "metadata": {},
          "execution_count": 6
        }
      ],
      "source": [
        "## 1.2. Exploración de los datos\n",
        "\n",
        "# Imprime un resumen conciso del DataFrame.\n",
        "# Esto incluye el número de entradas, el índice, las columnas, los tipos de datos (Dtype) y el uso de memoria.\n",
        "# Es útil para verificar tipos de datos incorrectos o valores faltantes (Non-Null Count).\n",
        "df1_diabetes.info()\n",
        "\n",
        "# Genera estadísticas descriptivas para las columnas numéricas.\n",
        "# Muestra el conteo (count), media (mean), desviación estándar (std), mínimo (min),\n",
        "# cuartiles (25%, 50%, 75%) y máximo (max).\n",
        "df1_diabetes.describe()"
      ]
    },
    {
      "cell_type": "code",
      "execution_count": 7,
      "metadata": {
        "colab": {
          "base_uri": "https://localhost:8080/",
          "height": 210
        },
        "id": "-hdEh0AHIEgW",
        "outputId": "f98c6be2-0ba0-4e5d-a089-eec449bdf8b7"
      },
      "outputs": [
        {
          "output_type": "execute_result",
          "data": {
            "text/plain": [
              "Gravedad_Diabetes\n",
              "0    1392\n",
              "1     399\n",
              "2     209\n",
              "Name: count, dtype: int64"
            ],
            "text/html": [
              "<div>\n",
              "<style scoped>\n",
              "    .dataframe tbody tr th:only-of-type {\n",
              "        vertical-align: middle;\n",
              "    }\n",
              "\n",
              "    .dataframe tbody tr th {\n",
              "        vertical-align: top;\n",
              "    }\n",
              "\n",
              "    .dataframe thead th {\n",
              "        text-align: right;\n",
              "    }\n",
              "</style>\n",
              "<table border=\"1\" class=\"dataframe\">\n",
              "  <thead>\n",
              "    <tr style=\"text-align: right;\">\n",
              "      <th></th>\n",
              "      <th>count</th>\n",
              "    </tr>\n",
              "    <tr>\n",
              "      <th>Gravedad_Diabetes</th>\n",
              "      <th></th>\n",
              "    </tr>\n",
              "  </thead>\n",
              "  <tbody>\n",
              "    <tr>\n",
              "      <th>0</th>\n",
              "      <td>1392</td>\n",
              "    </tr>\n",
              "    <tr>\n",
              "      <th>1</th>\n",
              "      <td>399</td>\n",
              "    </tr>\n",
              "    <tr>\n",
              "      <th>2</th>\n",
              "      <td>209</td>\n",
              "    </tr>\n",
              "  </tbody>\n",
              "</table>\n",
              "</div><br><label><b>dtype:</b> int64</label>"
            ]
          },
          "metadata": {},
          "execution_count": 7
        }
      ],
      "source": [
        "# Cuenta la frecuencia de cada valor único en la columna 'Gravedad_Diabetes'.\n",
        "# Esto es fundamental para identificar si el dataset está balanceado o, como en este caso, desbalanceado.\n",
        "df1_diabetes['Gravedad_Diabetes'].value_counts()"
      ]
    },
    {
      "cell_type": "markdown",
      "metadata": {
        "id": "Xo66sDDAIEgW"
      },
      "source": [
        "**Conclusión**\n",
        "\n",
        "- Se observa que todos los atributos son de tipo numérico y no hay valores faltantes en el dataset.\n",
        "- Las variables se encuentran en diferentes rangos, por lo que normalizarlas puede ser útil para el modelado.\n",
        "- Existen 5 variables predictoras y una variable objetivo con 3 clases.\n",
        "- Las clases de la variable objetivo están desbalanceadas, con la clase 0 siendo la más común y la clase 2 la menos común."
      ]
    },
    {
      "cell_type": "markdown",
      "metadata": {
        "id": "D65SGDZSIEgW"
      },
      "source": [
        "## 1.3: Comprobar Datos Faltantes o Anómalos\n",
        "Verifica si hay valores faltantes y observa si hay valores fuera de los rangos esperados. Esto ayudará a identificar datos que necesiten limpieza o ajustes.\n"
      ]
    },
    {
      "cell_type": "code",
      "execution_count": null,
      "metadata": {
        "id": "p-dtuAjQIEgX"
      },
      "outputs": [],
      "source": [
        "# Importa la clase 'DatasetAnalyzer' desde el archivo 'datasetanalyser.py'\n",
        "# que se descargó y movió en la Celda 5.\n",
        "from datasetanalyser import DatasetAnalyzer"
      ]
    },
    {
      "cell_type": "code",
      "execution_count": null,
      "metadata": {
        "id": "KQ_rPNsOIEgX"
      },
      "outputs": [],
      "source": [
        "# Crea una instancia (un objeto) de la clase DatasetAnalyzer.\n",
        "# Se le pasa el DataFrame 'df1_diabetes' al constructor de la clase.\n",
        "analyzer = DatasetAnalyzer(df1_diabetes)"
      ]
    },
    {
      "cell_type": "code",
      "execution_count": null,
      "metadata": {
        "id": "6zYMyXHeIEgX"
      },
      "outputs": [],
      "source": [
        "# Llama al método 'check_missing_and_anomalies' del objeto 'analyzer'.\n",
        "# Esta función personalizada (definida en datasetanalyser.py) probablemente\n",
        "# imprime la suma de valores nulos por columna y busca otras anomalías, como valores negativos.\n",
        "analyzer.check_missing_and_anomalies()"
      ]
    },
    {
      "cell_type": "markdown",
      "metadata": {
        "id": "ZHaYeRf8IEgY"
      },
      "source": [
        "No se encontraron valores faltantes en el dataset, lo que es un buen indicador de la calidad de los datos."
      ]
    },
    {
      "cell_type": "markdown",
      "metadata": {
        "id": "10-8iEFwIEgY"
      },
      "source": [
        "## 1.4: Análisis Univariado\n",
        "\n",
        "Examina cada característica por separado para entender su distribución. Utiliza histogramas y diagramas de caja para visualizar la variabilidad de cada característica."
      ]
    },
    {
      "cell_type": "code",
      "execution_count": null,
      "metadata": {
        "id": "1X4wiREoIEgY"
      },
      "outputs": [],
      "source": [
        "# Llama al método 'univariate_analysis' del objeto 'analyzer'.\n",
        "# Este método personalizado genera visualizaciones para cada columna.\n",
        "# 'plot_type='histogram'' especifica que queremos ver histogramas,\n",
        "# que son útiles para entender la distribución (frecuencia) de cada variable.\n",
        "# 'fig_size' ajusta el tamaño de la figura que contendrá los gráficos.\n",
        "analyzer.univariate_analysis(plot_type='histogram', fig_size=(12, 5))"
      ]
    },
    {
      "cell_type": "code",
      "execution_count": null,
      "metadata": {
        "id": "qFTNEtgwIEgZ"
      },
      "outputs": [],
      "source": [
        "# Llama al mismo método 'univariate_analysis' pero esta vez pidiendo 'boxplot'.\n",
        "# Los diagramas de caja (boxplots) son excelentes para visualizar la mediana,\n",
        "# los cuartiles y, especialmente, para identificar valores atípicos (outliers).\n",
        "analyzer.univariate_analysis(plot_type='boxplot', fig_size=(10, 5))"
      ]
    },
    {
      "cell_type": "markdown",
      "metadata": {
        "id": "-Rxx1dIhIEgZ"
      },
      "source": [
        "**Conclusiones Generales del Análisis Univariado**\n",
        "\n",
        "Aquí tienes el análisis univariado de las variables presentadas en las imágenes, siguiendo el estilo solicitado:\n",
        "\n",
        "**Conclusiones del Análisis Univariado**\n",
        "\n",
        "1.  **Edad**\n",
        "    * **Histograma**: La distribución es **bimodal**, mostrando dos picos de frecuencia claros. El primer pico se sitúa alrededor de los **35-40 años** y el segundo, ligeramente más alto, cerca de los **50-55 años**. Esto sugiere dos grupos de edad predominantes en el conjunto de datos.\n",
        "    * **Boxplot**: No se observan valores atípicos. La mediana está aproximadamente en **43 años**, y el 50% central de los datos (la caja) se encuentra entre los **33 y 54 años**.\n",
        "\n",
        "2.  **IMC (Índice de Masa Corporal)**\n",
        "    * **Histograma**: La distribución es **unimodal y se asemeja a una distribución normal**, aunque con un ligero sesgo positivo (cola a la derecha). La mayoría de los valores se concentran entre **25 y 35**, con el pico más alto alrededor de **28-30**.\n",
        "    * **Boxplot**: Confirma la distribución simétrica. La mediana está cerca de **28**, y no se identifican valores atípicos significativos.\n",
        "\n",
        "3.  **Glucosa\\_Ayunas**\n",
        "    * **Histograma**: La distribución presenta un **sesgo positivo (a la derecha)**. La mayoría de los pacientes tienen valores concentrados en el rango de **90 a 120**, con una cola que se extiende hacia valores más altos.\n",
        "    * **Boxplot**: Muestra la mediana alrededor de **109**. Se observan varios **valores atípicos** claros en el extremo superior (por encima de 160), indicando algunos pacientes con niveles de glucosa notablemente altos.\n",
        "\n",
        "4.  **Historial\\_Familiar**\n",
        "    * **Histograma**: Esta es una variable **discreta** con tres valores: **0, 1, y 2**. El valor **2** es el más frecuente (aprox. 850), seguido por el **0** (aprox. 600) y el **1** (aprox. 500).\n",
        "    * **Boxplot**: Muestra que la mediana de los valores es **1.0**. El rango intercuartílico (la caja) va de 0 a 2, cubriendo todas las categorías. No hay valores atípicos.\n",
        "\n",
        "5.  **Nivel\\_Actividad**\n",
        "    * **Histograma**: Muestra una distribución en **forma de U (bimodal)**, lo que indica una polarización. Las frecuencias más altas están en los extremos **0.0** (sedentario) y **1.0** (muy activo), con muy pocos pacientes en los niveles intermedios.\n",
        "    * **Boxplot**: La mediana se ubica cerca de **0.6**, pero la caja es muy ancha (de 0.0 a 1.0), lo que confirma que los datos están distribuidos en los extremos y no concentrados en el centro.\n",
        "\n",
        "6.  **Gravedad\\_Diabetes**\n",
        "    * **Histograma**: Esta variable (la objetivo) está **altamente desbalanceada**. La categoría **0** (Sin Diabetes) es, con diferencia, la más numerosa. La categoría **1** (Moderada) es la siguiente, y la categoría **2** (Severa) es la menos frecuente.\n",
        "    * **Boxplot**: Refleja este desbalance. La mediana y el 25º percentil se encuentran en **0.0**, mientras que el 75º percentil está en **1.0**.\n",
        "\n"
      ]
    },
    {
      "cell_type": "markdown",
      "metadata": {
        "id": "6mp8il2_IEgZ"
      },
      "source": [
        "## 1.5: Análisis Bivariado\n",
        "Examina cómo se relacionan las características con la variable objetivo `Nivel_Interes`. Utiliza diagramas de dispersión y gráficos de violín para visualizar relaciones y patrones entre variables."
      ]
    },
    {
      "cell_type": "code",
      "execution_count": null,
      "metadata": {
        "id": "YRvb9oqIIEga"
      },
      "outputs": [],
      "source": [
        "df1_diabetes"
      ]
    },
    {
      "cell_type": "code",
      "execution_count": null,
      "metadata": {
        "id": "w_gUO5y0IEga"
      },
      "outputs": [],
      "source": [
        "# Análisis Bivariado (Característica vs. Característica por Objetivo).\n",
        "# Se utiliza un gráfico de dispersión (scatter plot) para visualizar la\n",
        "# relación entre dos variables numéricas.\n",
        "# El argumento 'hue' (matiz) es clave, ya que colorea cada punto según su\n",
        "# clase objetivo, permitiéndonos buscar patrones o cúmulos (clusters)\n",
        "# específicos de cada clase.\n",
        "analyzer.bivariate_analysis(\"IMC\", \"Glucosa_Ayunas\", hue=\"Gravedad_Diabetes\", plot_type='scatter')"
      ]
    },
    {
      "cell_type": "markdown",
      "source": [
        "Este gráfico de dispersión ilustra la **Relación entre IMC y Glucosa\\_Ayunas**, con puntos coloreados según la **Gravedad\\_Diabetes**.\n",
        "\n",
        "1.  **Clase 0 (Sin Diabetes - Rosa Claro):** Estos pacientes (la clase mayoritaria) se concentran principalmente en niveles de glucosa en ayunas por debajo de 130. Se distribuyen en todo el rango de IMC, pero son notablemente dominantes en pacientes con IMC alto (aproximadamente > 27).\n",
        "\n",
        "2.  **Clase 1 (Diabetes Moderada - Rosa Oscuro) y Clase 2 (Diabetes Severa - Negro):** Estas dos clases (las clases minoritarias) están muy superpuestas entre sí. Se encuentran en todo el rango de glucosa, pero son más predominantes en niveles de glucosa altos (> 120). Curiosamente, ambas clases son mucho más frecuentes en pacientes con IMC bajo (aproximadamente < 27).\n",
        "\n",
        "**Conclusiones Generales:**\n",
        "\n",
        "* **Sin Separación Lineal Clara:** Las clases están muy superpuestas, lo que indica que solo estas dos variables no son suficientes para separar perfectamente los grupos.\n",
        "* **Relación No Intuitiva del IMC:** A diferencia de lo que se podría esperar, un IMC alto en este conjunto de datos está fuertemente asociado con la Clase 0 (Sin Diabetes). Por el contrario, un IMC bajo no indica \"salud\", ya que las clases 1 y 2 (Moderada y Severa) tienen una presencia significativa en este rango.\n",
        "* **Importancia de la Glucosa:** Niveles altos de Glucosa\\_Ayunas (por encima de 130-140) son indicadores casi exclusivos de las clases 1 y 2, mostrando su relevancia para predecir la gravedad."
      ],
      "metadata": {
        "id": "hMiAzZGlSHAR"
      }
    },
    {
      "cell_type": "code",
      "execution_count": null,
      "metadata": {
        "id": "FAyzYQivIEga"
      },
      "outputs": [],
      "source": [
        "# Análisis Bivariado (Característica Numérica vs. Objetivo Categórico).\n",
        "# Se utiliza un gráfico de violín (violin plot) para comparar la distribución\n",
        "# de una variable numérica entre las diferentes categorías\n",
        "# de la variable objetivo. Este gráfico combina un boxplot\n",
        "# (que muestra los cuartiles) con un gráfico de densidad (KDE), lo que\n",
        "# revela la forma de la distribución en cada categoría.\n",
        "\n",
        "analyzer.bivariate_analysis(\"Gravedad_Diabetes\", \"IMC\", plot_type='violin')"
      ]
    },
    {
      "cell_type": "markdown",
      "source": [
        "Este gráfico de violín muestra la **Distribución del IMC por Gravedad\\_Diabetes**.\n",
        "\n",
        "1.  **Clase 0 (Sin Diabetes):** Esta clase tiene la distribución de IMC más amplia de las three. La forma es ancha, indicando una gran variabilidad de pacientes. El pico de densidad (la parte más ancha del violín) está en un IMC más alto, alrededor de 28-30.\n",
        "2.  **Clase 1 (Diabetes Moderada):** La distribución es más estrecha que la Clase 0, pero aún muestra una variabilidad considerable. El pico de densidad es similar al de la Clase 0, quizás ligeramente más bajo.\n",
        "3.  **Clase 2 (Diabetes Severa):** Esta clase tiene la distribución de IMC más estrecha y concentrada. El pico de densidad está notablemente más bajo que en las otras dos clases, centrado alrededor de un IMC de 21-23.\n",
        "\n",
        "**Conclusiones Generales:**\n",
        "\n",
        "* **Diferenciación de Clases:** El IMC por sí solo no separa claramente las Clases 0 y 1, ya que sus distribuciones se superponen mucho.\n",
        "* **Patrón de la Clase 2:** La Clase 2 (Severa) muestra una tendencia clara a tener valores de IMC más bajos y menos dispersos en comparación con las otras dos clases.\n",
        "* **Confirmación:** Esto refuerza lo observado en el gráfico de dispersión: un IMC bajo no excluye la diabetes en este dataset, y de hecho, está más asociado con la categoría \"Severa\" (Clase 2)."
      ],
      "metadata": {
        "id": "WTGhdlbESX4E"
      }
    },
    {
      "cell_type": "code",
      "execution_count": null,
      "metadata": {
        "id": "KuJ5-Gu4IEga"
      },
      "outputs": [],
      "source": [
        "# Análisis Bivariado (Características vs. Objetivo).\n",
        "# Se utiliza un análisis de densidad (KDE plot) para cada característica,\n",
        "# segmentado por la variable objetivo. Esto nos permite comparar visualmente\n",
        "# cómo las distribuciones de cada característica cambian\n",
        "# para la Clase 0, Clase 1 y Clase 2.\n",
        "\n",
        "analyzer.density_analysis(target_col=\"Gravedad_Diabetes\", fig_size=(16, 7))"
      ]
    },
    {
      "cell_type": "markdown",
      "source": [
        "Aquí tienes un análisis de los gráficos de densidad por `Gravedad\\_Diabetes`:\n",
        "\n",
        "Estos gráficos muestran la distribución de probabilidad (densidad) de cada variable, separada por las tres clases de `Gravedad\\_Diabetes`.\n",
        "\n",
        "* **Edad**: La Clase 0 (Sin Diabetes) tiene una clara distribución bimodal, con dos grandes grupos de pacientes (picos alrededor de 35-40 y 50-55 años). Las Clases 1 y 2 tienen densidades mucho menores y están más distribuidas, sin picos tan definidos.\n",
        "* **IMC**: La Clase 0 muestra un pico de densidad fuerte alrededor de un IMC de 28-30. Las Clases 1 (Moderada) y 2 (Severa) tienen distribuciones más planas y anchas, con picos en valores de IMC ligeramente más bajos.\n",
        "* **Glucosa\\_Ayunas**: Esta variable es un fuerte diferenciador. La Clase 0 tiene un pico muy alto y estrecho en niveles de glucosa más bajos (aprox. 100-110). En cambio, las Clases 1 y 2 tienen distribuciones mucho más planas y anchas, desplazadas hacia niveles de glucosa más altos.\n",
        "* **Historial\\_Familiar**: Siendo una variable discreta, los picos están en los valores 0, 1 y 2. Se puede ver que las tres clases tienen pacientes en las three categorías, aunque la Clase 0 es dominante en todas ellas (especialmente en 2.0).\n",
        "* **Nivel\\_Actividad**: La Clase 0 presenta una distribución en forma de \"U\", con la mayoría de los pacientes en los extremos (0.0 - sedentario o 1.0 - muy activo). Las Clases 1 y 2 también muestran esta tendencia, pero con una densidad mucho menor.\n",
        "* **Gravedad\\_Diabetes**: Este gráfico está vacío, ya que es la variable objetivo utilizada para segmentar los otros gráficos.\n",
        "\n",
        "**Conclusión General:**\n",
        "\n",
        "El tamaño relativo de las áreas (especialmente el rosa claro de la Clase 0) confirma visualmente el **fuerte desbalance de clases** en el dataset.value_counts()]. **Glucosa\\_Ayunas** parece ser la variable individual más predictiva, ya que su distribución para la Clase 0 es notablemente diferente a la de las Clases 1 y 2."
      ],
      "metadata": {
        "id": "nh74yyoqSrIf"
      }
    },
    {
      "cell_type": "markdown",
      "metadata": {
        "id": "6bl6HlwoIEgc"
      },
      "source": [
        "## 1.6: Análisis de Correlación\n",
        "Verifica las correlaciones entre las características para identificar posibles relaciones que puedan ser importantes en el análisis. Esto puede ayudar a reducir la multicolinealidad y seleccionar las características más relevantes."
      ]
    },
    {
      "cell_type": "code",
      "execution_count": null,
      "metadata": {
        "id": "R-aebvXuIEgc"
      },
      "outputs": [],
      "source": [
        "# Llama al método 'correlation_analysis' del objeto 'analyzer'.\n",
        "# Esta función calcula la matriz de correlación (usualmente de Pearson) entre\n",
        "# todas las variables numéricas del DataFrame.\n",
        "# Luego, la visualiza como un 'heatmap' (mapa de calor), lo que facilita\n",
        "# la identificación rápida de relaciones lineales fuertes (positivas o negativas) entre variables.\n",
        "analyzer.correlation_analysis(fig_size=(8, 6))"
      ]
    },
    {
      "cell_type": "markdown",
      "metadata": {
        "id": "eniPrCHVIEgc"
      },
      "source": [
        "**Análisis de la Matriz de Correlación**\n",
        "\n",
        "La **matriz de correlación** muestra las relaciones lineales entre las diferentes características del dataset. Aquí se destacan las correlaciones significativas que pueden ser útiles para interpretar patrones en los datos:\n",
        "\n",
        "\n"
      ]
    },
    {
      "cell_type": "markdown",
      "metadata": {
        "id": "YBT5oVYJIEgc"
      },
      "source": [
        "## 1.7: Conclusiones del Análisis\n",
        "\n",
        "1. **Distribuciones Asimétricas**: Las variables de ingreso anual y gasto promedio muestran distribuciones asimétricas, lo que indica que hay una minoría de clientes con ingresos y gastos significativamente más altos que el promedio.\n",
        "2. **Valores Atípicos**: Se identificaron valores atípicos en el ingreso anual, gasto promedio y productos anteriores, lo que sugiere la presencia de clientes especiales que podrían requerir un análisis más detallado.\n",
        "3. **Agrupaciones Claras**: La puntuación de interés y el nivel de interés muestran agrupaciones bien definidas, lo que podría ser útil para segmentar a los clientes y diseñar estrategias de marketing específicas.\n",
        "4. **Variedad de Comportamientos**: El gasto promedio tiene una distribución multimodal, lo que sugiere que existen diferentes grupos de comportamiento de clientes con hábitos de gasto distintos.\n",
        "5. **Correlaciones Clave**: Se identificaron correlaciones significativas entre el gasto promedio, la puntuación de interés y el nivel de interés, lo que sugiere que estos atributos podrían ser importantes para predecir el comportamiento del cliente.\n",
        "6. **Relevancia de las Variables**: Algunas variables, como la edad, mostraron correlaciones bajas con otras características, lo que sugiere que su impacto en el comportamiento del cliente es limitado."
      ]
    },
    {
      "cell_type": "markdown",
      "metadata": {
        "id": "zt2g_e19IEgc"
      },
      "source": [
        "# 2. Preparación de los Datos\n",
        "\n",
        "Antes de construir y evaluar modelos de clasificación, es importante preparar los datos para el análisis. Esto incluye la normalización de las características, la codificación de variables categóricas y la división del dataset en conjuntos de entrenamiento y prueba.\n",
        "\n",
        "- Normalización de Características\n",
        "- Remoción de Variables Redundantes\n",
        "- División del Dataset\n",
        "\n",
        "## 2.1: Normalización de Características\n",
        "\n",
        "Dado que las características del dataset tienen diferentes escalas y rangos, es útil normalizarlas para que tengan una distribución más uniforme. Esto puede mejorar el rendimiento de los modelos de clasificación y facilitar la interpretación de los coeficientes."
      ]
    },
    {
      "cell_type": "code",
      "execution_count": null,
      "metadata": {
        "id": "wg6Wkf2-IEgc"
      },
      "outputs": [],
      "source": [
        "df1_diabetes.head()"
      ]
    },
    {
      "cell_type": "code",
      "execution_count": null,
      "metadata": {
        "id": "_xb1Qpc6IEgc"
      },
      "outputs": [],
      "source": [
        "# Importa la clase 'MinMaxScaler' de la biblioteca scikit-learn.\n",
        "from sklearn.preprocessing import MinMaxScaler\n",
        "\n",
        "# Crea una instancia del escalador. MinMaxScaler escala los datos a un rango específico, por defecto [0, 1].\n",
        "scaler = MinMaxScaler()\n",
        "\n",
        "# Crea una copia del DataFrame original para no modificarlo.\n",
        "df1_diabetes_scaled = df1_diabetes.copy()\n",
        "\n",
        "# Lista de columnas que se van a escalar.\n",
        "columns_to_scale = [\"Edad\", \"IMC\", \"Glucosa_Ayunas\", \"Nivel_Actividad\"]\n",
        "\n",
        "# Aplica el escalado.\n",
        "# .fit_transform() primero \"aprende\" los valores mínimos y máximos de las columnas (fit)\n",
        "# y luego aplica la transformación (transform) para escalarlos al rango [0, 1].\n",
        "df1_diabetes_scaled[columns_to_scale] = scaler.fit_transform(df1_diabetes[columns_to_scale])\n",
        "\n",
        "# Muestra las estadísticas descriptivas del DataFrame escalado.\n",
        "# Nótese cómo 'min' es 0.0 y 'max' es 1.0 para las columnas escaladas.\n",
        "df1_diabetes_scaled.describe()"
      ]
    },
    {
      "cell_type": "markdown",
      "metadata": {
        "id": "_s0mePnpIEge"
      },
      "source": [
        "## 2.2: Remoción de Variables Redundantes\n",
        "\n",
        "Para evitar la multicolinealidad y reducir la complejidad del modelo, es útil eliminar variables redundantes o altamente correlacionadas. En este caso, se eliminará la variable `Edad` y `Productos_Anteriores` debido a su baja correlación con las demás características."
      ]
    },
    {
      "cell_type": "code",
      "execution_count": null,
      "metadata": {
        "id": "J30C5wUVIEge"
      },
      "outputs": [],
      "source": [
        "# Elimina las columnas \"Edad\" y \"Glucosa_Ayunas\" del DataFrame escalado.\n",
        "# 'inplace=True' modifica el DataFrame 'df1_diabetes_scaled' directamente.\n",
        "# Esto se hace, como indica el markdown, para reducir la redundancia o porque\n",
        "# el análisis de correlación (Celda 31) pudo mostrar que no eran tan relevantes.\n",
        "df1_diabetes_scaled.drop(columns=[\"Edad\", \"Glucosa_Ayunas\"], inplace=True)\n",
        "\n",
        "# Muestra las primeras 5 filas del DataFrame resultante para verificar la eliminación.\n",
        "df1_diabetes_scaled.head()"
      ]
    },
    {
      "cell_type": "markdown",
      "metadata": {
        "id": "sSjN4HT4IEge"
      },
      "source": [
        "## 2.4: División del Dataset\n",
        "\n",
        "Para evaluar el rendimiento de los modelos de clasificación, es necesario dividir el dataset en conjuntos de entrenamiento y prueba. Esto permite entrenar los modelos en una parte de los datos y evaluar su rendimiento en una parte independiente. En este caso, se utilizará una proporción de 80% para entrenamiento y 20% para prueba."
      ]
    },
    {
      "cell_type": "code",
      "execution_count": null,
      "metadata": {
        "id": "Aow3B8EmIEge"
      },
      "outputs": [],
      "source": [
        "# Importa la función 'train_test_split' de scikit-learn.\n",
        "from sklearn.model_selection import train_test_split\n",
        "\n",
        "# Separa las características (variables predictoras) de la variable objetivo.\n",
        "# 'X' contiene todas las columnas EXCEPTO 'Gravedad_Diabetes'.\n",
        "X = df1_diabetes_scaled.drop(columns=[\"Gravedad_Diabetes\"])\n",
        "# 'y' contiene ÚNICAMENTE la columna 'Gravedad_Diabetes'.\n",
        "y = df1_diabetes_scaled[\"Gravedad_Diabetes\"]\n",
        "\n",
        "# Divide los datos 'X' e 'y' en conjuntos de entrenamiento y prueba.\n",
        "# 'test_size=0.2' significa que el 20% de los datos se usará para la prueba (X_test, y_test)\n",
        "# y el 80% restante para el entrenamiento (X_train, y_train).\n",
        "# 'random_state=42' fija la semilla aleatoria para que la división sea reproducible.\n",
        "# Cualquiera que ejecute este código con random_state=42 obtendrá la misma división.\n",
        "X_train, X_test, y_train, y_test = train_test_split(X, y, test_size=0.2, random_state=42)\n",
        "\n",
        "# Imprime las dimensiones (filas, columnas) de los conjuntos de datos resultantes\n",
        "# para verificar que la división se realizó correctamente.\n",
        "(X_train.shape, X_test.shape, y_train.shape, y_test.shape)"
      ]
    },
    {
      "cell_type": "markdown",
      "metadata": {
        "id": "Crud9J8dIEgf"
      },
      "source": [
        "# 3. Construcción y Evaluación de Modelos\n",
        "\n",
        "Se utilizará el modelo random forest para clasificar a los clientes en los tres niveles de interés. Luego, se evaluará el rendimiento del modelo utilizando métricas de clasificación comunes, como la matriz de confusión, la precisión, el recall, el F1-score."
      ]
    },
    {
      "cell_type": "code",
      "execution_count": null,
      "metadata": {
        "id": "WpIcgxNiIEgf"
      },
      "outputs": [],
      "source": [
        "# Importa el modelo de clasificación 'RandomForestClassifier' (Bosque Aleatorio).\n",
        "from sklearn.ensemble import RandomForestClassifier\n",
        "\n",
        "# Importa las funciones 'classification_report' y 'confusion_matrix'\n",
        "# que se usarán para evaluar el rendimiento del modelo.\n",
        "from sklearn.metrics import classification_report, confusion_matrix"
      ]
    },
    {
      "cell_type": "markdown",
      "metadata": {
        "id": "FcC9vzHlIEgf"
      },
      "source": [
        "## 3.1: Construcción del Modelo"
      ]
    },
    {
      "cell_type": "code",
      "execution_count": null,
      "metadata": {
        "id": "ynS7nxfLIEgf"
      },
      "outputs": [],
      "source": [
        "# Crea una instancia del modelo RandomForestClassifier.\n",
        "# Se utilizan los hiperparámetros por defecto (ej. 100 árboles).\n",
        "rf_model = RandomForestClassifier()\n",
        "\n",
        "# Entrena el modelo usando los datos de entrenamiento (X_train, y_train).\n",
        "# El modelo \"aprende\" los patrones que relacionan las características con la gravedad de la diabetes.\n",
        "rf_model.fit(X_train, y_train)\n",
        "\n",
        "# Usa el modelo entrenado para hacer predicciones sobre el conjunto de prueba (X_test),\n",
        "# que el modelo nunca ha visto antes.\n",
        "y_pred = rf_model.predict(X_test)"
      ]
    },
    {
      "cell_type": "markdown",
      "metadata": {
        "id": "FOho9PLqIEgg"
      },
      "source": [
        "## 3.2: Evaluación del Modelo\n",
        "\n",
        "### 3.2.1: Matriz de Confusión"
      ]
    },
    {
      "cell_type": "code",
      "execution_count": null,
      "metadata": {
        "id": "5ol99NqiIEgg"
      },
      "outputs": [],
      "source": [
        "# Importa la biblioteca 'seaborn' (para gráficos estadísticos) y la renombra como 'sns'.\n",
        "import seaborn as sns\n",
        "# Importa 'matplotlib.pyplot' (para la visualización) y la renombra como 'plt'.\n",
        "import matplotlib.pyplot as plt\n",
        "\n",
        "# Define una función llamada 'plot_confusion_matrix' para visualizar la matriz de confusión.\n",
        "# Acepta las etiquetas verdaderas (y_true), las predicciones (y_pred), los nombres de las etiquetas (labels),\n",
        "# y un tamaño de figura opcional (figsize).\n",
        "def plot_confusion_matrix(y_true, y_pred, labels: list, figsize=(8, 6)):\n",
        "    # Calcula la matriz de confusión usando scikit-learn.\n",
        "    cm = confusion_matrix(y_true, y_pred)\n",
        "\n",
        "    # Crea una nueva figura de Matplotlib con el tamaño especificado.\n",
        "    plt.figure(figsize=figsize)\n",
        "\n",
        "    # Genera un mapa de calor (heatmap) usando seaborn.\n",
        "    # 'cm' son los datos.\n",
        "    # 'annot=True' muestra los números (anotaciones) en cada celda.\n",
        "    # 'fmt=\"d\"' formatea los números como enteros (dígitos).\n",
        "    # 'cmap=\"Blues\"' usa una paleta de colores azules.\n",
        "    # 'xticklabels' y 'yticklabels' usan la lista 'labels' para los ejes X e Y.\n",
        "    # 'cbar=False' oculta la barra de colores.\n",
        "    sns.heatmap(cm, annot=True, fmt=\"d\", cmap=\"Blues\", xticklabels=labels, yticklabels=labels, cbar=False)\n",
        "\n",
        "    # Establece las etiquetas de los ejes y el título.\n",
        "    plt.xlabel('Predicted labels')\n",
        "    plt.ylabel('True labels')\n",
        "    plt.title('Confusion Matrix')\n",
        "\n",
        "    # Muestra el gráfico.\n",
        "    plt.show()"
      ]
    },
    {
      "cell_type": "code",
      "execution_count": null,
      "metadata": {
        "id": "n2qaakYaIEgg"
      },
      "outputs": [],
      "source": [
        "# Define los nombres de las clases (0, 1, 2) en el orden correcto.\n",
        "labels = [\"Normal\", \"Pre-Diabetes\", \"Diabetes\"]\n",
        "\n",
        "# Llama a la función que acabamos de definir para graficar la matriz de confusión.\n",
        "# Compara las etiquetas reales del conjunto de prueba (y_test)\n",
        "# con las etiquetas que predijo el modelo (y_pred).\n",
        "conf_matrix = plot_confusion_matrix(y_test, y_pred, labels)"
      ]
    },
    {
      "cell_type": "markdown",
      "metadata": {
        "id": "7ewXj41YIEgg"
      },
      "source": [
        "### 3.2.2: Reporte de Clasificación\n"
      ]
    },
    {
      "cell_type": "code",
      "execution_count": null,
      "metadata": {
        "id": "Iy1f3U8yIEgg"
      },
      "outputs": [],
      "source": [
        "# Imprime el reporte de clasificación.\n",
        "# Esta función calcula automáticamente la precisión (precision), sensibilidad (recall),\n",
        "# f1-score y el soporte (support - número de instancias) para cada clase.\n",
        "# 'target_names=labels' usa los nombres de las clases que definimos para que el reporte sea legible.\n",
        "print(classification_report(y_test, y_pred, target_names=labels))"
      ]
    },
    {
      "cell_type": "markdown",
      "metadata": {
        "id": "AeghKXaWIEgg"
      },
      "source": [
        "## 3.3: Interpretación de las Métricas\n",
        "\n",
        "### 3.3.1: Interpretación de la Matriz de Confusión\n",
        "\n"
      ]
    },
    {
      "cell_type": "markdown",
      "metadata": {
        "id": "fhuKpJ9bIEgg"
      },
      "source": [
        "\n",
        "### 3.3.2: Análisis del Reporte de Clasificación\n",
        "\n"
      ]
    },
    {
      "cell_type": "markdown",
      "metadata": {
        "id": "74tl6iD1IEgh"
      },
      "source": [
        "# Pregruntas\n",
        "\n",
        "1. ¿Por qué es importante considerar las métricas de clasificación en un dataset desbalanceado?\n",
        "2. ¿Qué métricas son más adecuadas para evaluar el rendimiento de un modelo en un dataset desbalanceado?\n",
        "3. ¿Cómo se pueden interpretar las métricas de precisión, recall y F1-score en el contexto de un problema de clasificación?\n",
        "4. ¿Qué estrategias se pueden utilizar para mejorar el rendimiento de un modelo en un dataset desbalanceado?\n",
        "5. ¿Qué metodologías se podrían aplicar para mejorar el modelo actual, considerando las limitaciones del dataset?\n",
        "   1. (pista: ajuste de hiperparámetros, selección de características, etc.)\n",
        "6. **¿Podría confiar en el resultado del modelo actual despues de haberlo entrenado una sola vez?**"
      ]
    },
    {
      "cell_type": "markdown",
      "metadata": {
        "id": "K2dyorVeIEgh"
      },
      "source": [
        "# Consistencia del Modelo"
      ]
    },
    {
      "cell_type": "code",
      "execution_count": null,
      "metadata": {
        "id": "OUQRrVNkIEgh"
      },
      "outputs": [],
      "source": [
        "# Importa la función 'accuracy_score' para medir la precisión general.\n",
        "from sklearn.metrics import accuracy_score\n",
        "# Importa la biblioteca 'numpy' para cálculos numéricos (media, std).\n",
        "import numpy as np\n",
        "\n",
        "# Inicializa una lista vacía para guardar los puntajes de precisión de cada ejecución.\n",
        "accuracy_scores = []\n",
        "\n",
        "# Inicia un bucle que se ejecutará 5 veces (para i = 0, 1, 2, 3, 4).\n",
        "for i in range(5):\n",
        "    # Divide los datos nuevamente. 'random_state=i' asegura que cada división sea diferente.\n",
        "    X_train, X_test, y_train, y_test = train_test_split(X, y, test_size=0.2, random_state=i)\n",
        "\n",
        "    # Crea una NUEVA instancia del modelo en cada iteración.\n",
        "    rf_model = RandomForestClassifier()\n",
        "\n",
        "    # Entrena el nuevo modelo con el nuevo conjunto de datos de entrenamiento.\n",
        "    rf_model.fit(X_train, y_train)\n",
        "\n",
        "    # Realiza predicciones en el nuevo conjunto de prueba.\n",
        "    y_pred = rf_model.predict(X_test)\n",
        "\n",
        "    # Calcula la precisión (accuracy) de esta ejecución y la añade a la lista.\n",
        "    accuracy_scores.append(accuracy_score(y_test, y_pred))\n",
        "\n",
        "# Calcula la precisión promedio (media) de las 5 ejecuciones.\n",
        "avg_accuracy = np.mean(accuracy_scores)\n",
        "# Calcula la desviación estándar de las 5 precisiones.\n",
        "std_accuracy = np.std(accuracy_scores)\n",
        "\n",
        "# Imprime el resultado final, mostrando la precisión promedio y su variabilidad (desviación estándar).\n",
        "# Esto nos da una idea de qué tan estable (consistente) es el rendimiento del modelo.\n",
        "print(f\"Average accuracy: {avg_accuracy:.2f} +/- {std_accuracy:.2f}\")\n"
      ]
    }
  ],
  "metadata": {
    "kernelspec": {
      "display_name": "usta",
      "language": "python",
      "name": "python3"
    },
    "language_info": {
      "codemirror_mode": {
        "name": "ipython",
        "version": 3
      },
      "file_extension": ".py",
      "mimetype": "text/x-python",
      "name": "python",
      "nbconvert_exporter": "python",
      "pygments_lexer": "ipython3",
      "version": "3.10.15"
    },
    "colab": {
      "provenance": [],
      "include_colab_link": true
    }
  },
  "nbformat": 4,
  "nbformat_minor": 0
}
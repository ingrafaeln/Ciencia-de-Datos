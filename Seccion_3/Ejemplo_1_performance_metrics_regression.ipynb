{
 "cells": [
  {
   "cell_type": "markdown",
   "metadata": {},
   "source": [
    "[![Open In Colab](https://colab.research.google.com/assets/colab-badge.svg)](https://tinyurl.com/2dqlcmyd)"
   ]
  },
  {
   "cell_type": "markdown",
   "metadata": {
    "id": "2AuAZkEEJeBL"
   },
   "source": [
    "# Métricas de Evaluación y Encoding de Variables Categóricas (Regresión)\n",
    "\n",
    "En este ejemplo se muestra como realizar la codificación de variables categóricas utilizando diferentes técnicas de encoding, así como, la interpretación de las metricas de evaluación de un modelo de regresión.\n",
    "\n",
    "Al trabajar con datasets es común encontrar características categóricas (nominales u ordinales), que no es posible pasarlas directamente al modelo.\n",
    "\n",
    "<a href=\"https://ai-ml-analytics.com/wp-content/uploads/2021/02/Encoding-1.png\"><img src=\"https://ai-ml-analytics.com/wp-content/uploads/2021/02/Encoding-1.png\" alt=\"Tipos de Encoding\"  width=\"50%\" border=\"2\"></a>\n",
    "\n",
    "\n",
    "Para este ejemplo se utilizará el dataset que presenta el desempeño de los estudiantes en examenes publicado en [Kaggle](https://www.kaggle.com/datasets/spscientist/students-performance-in-exams).\n",
    "\n",
    "References: https://is.gd/LoFv0q\n",
    "\n",
    "# 1. Descripción de la Información - Contexto\n",
    "\n",
    "El conjunto de datos de rendimiento estudiantil en exámenes de Kaggle incluye las calificaciones de 1.000 estudiantes en matemáticas, lectura y escritura. Además, proporciona información demográfica y académica, como género, grupo étnico, nivel educativo de los padres, tipo de almuerzo y participación en un curso de preparación para exámenes.\n",
    "\n",
    "Este proyecto tiene como objetivo preprocesar los datos y desarrollar un modelo de aprendizaje automático capaz de **predecir las calificaciones** de los estudiantes en función de sus características. Dado que las puntuaciones son valores continuos, el problema se aborda como una tarea de regresión en aprendizaje automático.\n",
    "\n",
    "# 2. Importar Librerias"
   ]
  },
  {
   "cell_type": "code",
   "execution_count": 176,
   "metadata": {
    "id": "VeIu7eDiI15p"
   },
   "outputs": [],
   "source": [
    "import os\n",
    "import pandas as pd\n",
    "import numpy as np\n",
    "\n",
    "# Data visualisation\n",
    "import seaborn as sns\n",
    "import matplotlib.pyplot as plt\n",
    "\n",
    "# Machine learning\n",
    "from sklearn.preprocessing import OneHotEncoder, OrdinalEncoder\n",
    "from sklearn.compose import make_column_transformer\n",
    "from sklearn.pipeline import Pipeline\n",
    "from sklearn.model_selection import train_test_split\n",
    "from sklearn.linear_model import LinearRegression\n",
    "from sklearn.ensemble import GradientBoostingRegressor\n",
    "from sklearn.metrics import mean_absolute_error, mean_squared_error, r2_score, root_mean_squared_error"
   ]
  },
  {
   "cell_type": "code",
   "execution_count": 177,
   "metadata": {},
   "outputs": [],
   "source": [
    "# verificar si estamos en google colab\n",
    "try:\n",
    "    import google.colab\n",
    "    IN_COLAB = True\n",
    "except:\n",
    "    IN_COLAB = False"
   ]
  },
  {
   "cell_type": "code",
   "execution_count": 178,
   "metadata": {},
   "outputs": [],
   "source": [
    "if IN_COLAB:\n",
    "    # download a folder from github\n",
    "    !wget -O datasets.zip https://github.com/DiegoPaezA/CienciaDatos-MASDI/archive/refs/heads/main.zip\n",
    "    !unzip datasets.zip\n",
    "    !mv CienciaDatos-MASDI-main/datasets datasets_github\n",
    "    !rm -rf datasets.zip CienciaDatos-MASDI-main"
   ]
  },
  {
   "cell_type": "markdown",
   "metadata": {
    "id": "ie2pSi0dN44f"
   },
   "source": [
    "# 3. Importar y leer el dataset"
   ]
  },
  {
   "cell_type": "code",
   "execution_count": 179,
   "metadata": {
    "colab": {
     "base_uri": "https://localhost:8080/",
     "height": 206
    },
    "executionInfo": {
     "elapsed": 2492,
     "status": "ok",
     "timestamp": 1679662634360,
     "user": {
      "displayName": "Diego P",
      "userId": "14448528258399483719"
     },
     "user_tz": 180
    },
    "id": "XauOxgJCN951",
    "outputId": "26e5ff1b-3b3a-43be-9a01-10fb08e02c00"
   },
   "outputs": [
    {
     "data": {
      "text/html": [
       "<div>\n",
       "<style scoped>\n",
       "    .dataframe tbody tr th:only-of-type {\n",
       "        vertical-align: middle;\n",
       "    }\n",
       "\n",
       "    .dataframe tbody tr th {\n",
       "        vertical-align: top;\n",
       "    }\n",
       "\n",
       "    .dataframe thead th {\n",
       "        text-align: right;\n",
       "    }\n",
       "</style>\n",
       "<table border=\"1\" class=\"dataframe\">\n",
       "  <thead>\n",
       "    <tr style=\"text-align: right;\">\n",
       "      <th></th>\n",
       "      <th>gender</th>\n",
       "      <th>race/ethnicity</th>\n",
       "      <th>parental level of education</th>\n",
       "      <th>lunch</th>\n",
       "      <th>test preparation course</th>\n",
       "      <th>math score</th>\n",
       "      <th>reading score</th>\n",
       "      <th>writing score</th>\n",
       "    </tr>\n",
       "  </thead>\n",
       "  <tbody>\n",
       "    <tr>\n",
       "      <th>0</th>\n",
       "      <td>female</td>\n",
       "      <td>group B</td>\n",
       "      <td>bachelor's degree</td>\n",
       "      <td>standard</td>\n",
       "      <td>none</td>\n",
       "      <td>72</td>\n",
       "      <td>72</td>\n",
       "      <td>74</td>\n",
       "    </tr>\n",
       "    <tr>\n",
       "      <th>1</th>\n",
       "      <td>female</td>\n",
       "      <td>group C</td>\n",
       "      <td>some college</td>\n",
       "      <td>standard</td>\n",
       "      <td>completed</td>\n",
       "      <td>69</td>\n",
       "      <td>90</td>\n",
       "      <td>88</td>\n",
       "    </tr>\n",
       "    <tr>\n",
       "      <th>2</th>\n",
       "      <td>female</td>\n",
       "      <td>group B</td>\n",
       "      <td>master's degree</td>\n",
       "      <td>standard</td>\n",
       "      <td>none</td>\n",
       "      <td>90</td>\n",
       "      <td>95</td>\n",
       "      <td>93</td>\n",
       "    </tr>\n",
       "    <tr>\n",
       "      <th>3</th>\n",
       "      <td>male</td>\n",
       "      <td>group A</td>\n",
       "      <td>associate's degree</td>\n",
       "      <td>free/reduced</td>\n",
       "      <td>none</td>\n",
       "      <td>47</td>\n",
       "      <td>57</td>\n",
       "      <td>44</td>\n",
       "    </tr>\n",
       "    <tr>\n",
       "      <th>4</th>\n",
       "      <td>male</td>\n",
       "      <td>group C</td>\n",
       "      <td>some college</td>\n",
       "      <td>standard</td>\n",
       "      <td>none</td>\n",
       "      <td>76</td>\n",
       "      <td>78</td>\n",
       "      <td>75</td>\n",
       "    </tr>\n",
       "  </tbody>\n",
       "</table>\n",
       "</div>"
      ],
      "text/plain": [
       "   gender race/ethnicity parental level of education         lunch  \\\n",
       "0  female        group B           bachelor's degree      standard   \n",
       "1  female        group C                some college      standard   \n",
       "2  female        group B             master's degree      standard   \n",
       "3    male        group A          associate's degree  free/reduced   \n",
       "4    male        group C                some college      standard   \n",
       "\n",
       "  test preparation course  math score  reading score  writing score  \n",
       "0                    none          72             72             74  \n",
       "1               completed          69             90             88  \n",
       "2                    none          90             95             93  \n",
       "3                    none          47             57             44  \n",
       "4                    none          76             78             75  "
      ]
     },
     "execution_count": 179,
     "metadata": {},
     "output_type": "execute_result"
    }
   ],
   "source": [
    "# Obtener el directorio raíz del proyecto\n",
    "dir_root = os.path.dirname(os.getcwd())\n",
    "datasets_folder_name = 'content/datasets_github' if IN_COLAB else 'datasets'\n",
    "ruta_dataset = os.path.join(dir_root, datasets_folder_name, 'regression', 'StudentsPerformance.csv')\n",
    "# Cargamos el dataset\n",
    "data = pd.read_csv(ruta_dataset)\n",
    "data.head()"
   ]
  },
  {
   "cell_type": "markdown",
   "metadata": {},
   "source": [
    "## Descripción del Dataset: Students Performance in Exams\n",
    "\n",
    "El conjunto de datos **Students Performance in Exams** recopila información sobre el desempeño académico de 1.000 estudiantes en tres asignaturas: matemáticas, lectura y escritura. Además, incluye detalles demográficos y académicos relevantes. A continuación se describen las columnas presentes en el conjunto de datos:\n",
    "\n",
    "- **gender**: Género del estudiante. Los valores posibles son:\n",
    "  - `female`: Femenino.\n",
    "  - `male`: Masculino.\n",
    "\n",
    "- **race/ethnicity**: Grupo étnico al que pertenece el estudiante, categorizado como:\n",
    "  - `group A`, `group B`, `group C`, `group D`, `group E`.\n",
    "\n",
    "- **parental level of education**: Nivel educativo más alto alcanzado por los padres del estudiante. Ejemplos de valores:\n",
    "  - `bachelor's degree`: Título universitario.\n",
    "  - `some college`: Algún curso universitario.\n",
    "  - `master's degree`: Maestría.\n",
    "  - `high school`: Escuela secundaria.\n",
    "  - `some high school`: Algo de educación secundaria.\n",
    "\n",
    "- **lunch**: Tipo de almuerzo recibido por el estudiante:\n",
    "  - `standard`: Almuerzo estándar.\n",
    "  - `free/reduced`: Almuerzo gratuito o a precio reducido.\n",
    "\n",
    "- **test preparation course**: Indica si el estudiante completó un curso de preparación para el examen:\n",
    "  - `completed`: Curso completado.\n",
    "  - `none`: No completado.\n",
    "\n",
    "- **math score**: Calificación obtenida por el estudiante en matemáticas (valor numérico).\n",
    "\n",
    "- **reading score**: Calificación obtenida por el estudiante en lectura (valor numérico).\n",
    "\n",
    "- **writing score**: Calificación obtenida por el estudiante en escritura (valor numérico).\n",
    "\n",
    "Este conjunto de datos es útil para analizar cómo factores demográficos y académicos influyen en el rendimiento de los estudiantes en diferentes áreas de conocimiento.\n"
   ]
  },
  {
   "cell_type": "markdown",
   "metadata": {
    "id": "Mjrpt9YIPXa1"
   },
   "source": [
    "# 4. Datos perdidos y tipo de datos"
   ]
  },
  {
   "cell_type": "code",
   "execution_count": 180,
   "metadata": {
    "colab": {
     "base_uri": "https://localhost:8080/"
    },
    "executionInfo": {
     "elapsed": 216,
     "status": "ok",
     "timestamp": 1679663506213,
     "user": {
      "displayName": "Diego P",
      "userId": "14448528258399483719"
     },
     "user_tz": 180
    },
    "id": "Gw3fHdFvPW5k",
    "outputId": "0f7978de-613c-41d0-bf83-b5382be712d7"
   },
   "outputs": [
    {
     "name": "stdout",
     "output_type": "stream",
     "text": [
      "<class 'pandas.core.frame.DataFrame'>\n",
      "RangeIndex: 1000 entries, 0 to 999\n",
      "Data columns (total 8 columns):\n",
      " #   Column                       Non-Null Count  Dtype \n",
      "---  ------                       --------------  ----- \n",
      " 0   gender                       1000 non-null   object\n",
      " 1   race/ethnicity               1000 non-null   object\n",
      " 2   parental level of education  1000 non-null   object\n",
      " 3   lunch                        1000 non-null   object\n",
      " 4   test preparation course      1000 non-null   object\n",
      " 5   math score                   1000 non-null   int64 \n",
      " 6   reading score                1000 non-null   int64 \n",
      " 7   writing score                1000 non-null   int64 \n",
      "dtypes: int64(3), object(5)\n",
      "memory usage: 62.6+ KB\n"
     ]
    }
   ],
   "source": [
    "data.info()"
   ]
  },
  {
   "cell_type": "code",
   "execution_count": 181,
   "metadata": {
    "colab": {
     "base_uri": "https://localhost:8080/"
    },
    "executionInfo": {
     "elapsed": 255,
     "status": "ok",
     "timestamp": 1679663508531,
     "user": {
      "displayName": "Diego P",
      "userId": "14448528258399483719"
     },
     "user_tz": 180
    },
    "id": "YlDcYGp8QCOt",
    "outputId": "1a2905db-1f30-4f15-8c36-dffdf6120459"
   },
   "outputs": [
    {
     "data": {
      "text/plain": [
       "object    5\n",
       "int64     3\n",
       "Name: count, dtype: int64"
      ]
     },
     "execution_count": 181,
     "metadata": {},
     "output_type": "execute_result"
    }
   ],
   "source": [
    "data.dtypes.value_counts()"
   ]
  },
  {
   "cell_type": "markdown",
   "metadata": {
    "id": "Z4LDV-erQG2X"
   },
   "source": [
    "De la información anterior, se puede observar que el dataset no presenta datos perdidos y que se cuenta con:\n",
    "\n",
    "- 5 variables categóricas: `gender`, `race/ethnicity`, `parental level of education`, `lunch`, `test preparation course`.\n",
    "- 3 variables numéricas: `math score`, `reading score`, `writing score`.\n",
    "\n",
    "Adicionalmente se observa que no hay una variable objetivo definida, por lo tanto procederemos a analizar las variables numéricas para definir una variable objetivo."
   ]
  },
  {
   "cell_type": "markdown",
   "metadata": {},
   "source": [
    "# 5. Crear una variable Objetivo\n",
    "\n",
    "Primero, se observa el comportamiento de las calificaciones que tienen los estudiantes en las diferentes materias. Para ello, se realiza un análisis descriptivo de las variables numéricas."
   ]
  },
  {
   "cell_type": "code",
   "execution_count": 182,
   "metadata": {
    "colab": {
     "base_uri": "https://localhost:8080/",
     "height": 206
    },
    "executionInfo": {
     "elapsed": 686,
     "status": "ok",
     "timestamp": 1679664126982,
     "user": {
      "displayName": "Diego P",
      "userId": "14448528258399483719"
     },
     "user_tz": 180
    },
    "id": "UQ0yFmKoQHws",
    "outputId": "f76cc57a-fa0d-49f2-9729-f969538e8ebf"
   },
   "outputs": [
    {
     "data": {
      "text/html": [
       "<div>\n",
       "<style scoped>\n",
       "    .dataframe tbody tr th:only-of-type {\n",
       "        vertical-align: middle;\n",
       "    }\n",
       "\n",
       "    .dataframe tbody tr th {\n",
       "        vertical-align: top;\n",
       "    }\n",
       "\n",
       "    .dataframe thead th {\n",
       "        text-align: right;\n",
       "    }\n",
       "</style>\n",
       "<table border=\"1\" class=\"dataframe\">\n",
       "  <thead>\n",
       "    <tr style=\"text-align: right;\">\n",
       "      <th></th>\n",
       "      <th>math score</th>\n",
       "      <th>reading score</th>\n",
       "      <th>writing score</th>\n",
       "    </tr>\n",
       "  </thead>\n",
       "  <tbody>\n",
       "    <tr>\n",
       "      <th>0</th>\n",
       "      <td>72</td>\n",
       "      <td>72</td>\n",
       "      <td>74</td>\n",
       "    </tr>\n",
       "    <tr>\n",
       "      <th>1</th>\n",
       "      <td>69</td>\n",
       "      <td>90</td>\n",
       "      <td>88</td>\n",
       "    </tr>\n",
       "    <tr>\n",
       "      <th>2</th>\n",
       "      <td>90</td>\n",
       "      <td>95</td>\n",
       "      <td>93</td>\n",
       "    </tr>\n",
       "    <tr>\n",
       "      <th>3</th>\n",
       "      <td>47</td>\n",
       "      <td>57</td>\n",
       "      <td>44</td>\n",
       "    </tr>\n",
       "    <tr>\n",
       "      <th>4</th>\n",
       "      <td>76</td>\n",
       "      <td>78</td>\n",
       "      <td>75</td>\n",
       "    </tr>\n",
       "  </tbody>\n",
       "</table>\n",
       "</div>"
      ],
      "text/plain": [
       "   math score  reading score  writing score\n",
       "0          72             72             74\n",
       "1          69             90             88\n",
       "2          90             95             93\n",
       "3          47             57             44\n",
       "4          76             78             75"
      ]
     },
     "execution_count": 182,
     "metadata": {},
     "output_type": "execute_result"
    }
   ],
   "source": [
    "score = data[['math score', 'reading score', 'writing score']]\n",
    "score.head()"
   ]
  },
  {
   "cell_type": "code",
   "execution_count": 183,
   "metadata": {
    "colab": {
     "base_uri": "https://localhost:8080/",
     "height": 287
    },
    "executionInfo": {
     "elapsed": 407,
     "status": "ok",
     "timestamp": 1679664264746,
     "user": {
      "displayName": "Diego P",
      "userId": "14448528258399483719"
     },
     "user_tz": 180
    },
    "id": "HEoHNw42RaSl",
    "outputId": "ad57fcbd-f416-4cac-a8fa-b65016030193"
   },
   "outputs": [
    {
     "data": {
      "image/png": "[encoded data removed]",
      "text/plain": [
       "<Figure size 800x400 with 1 Axes>"
      ]
     },
     "metadata": {},
     "output_type": "display_data"
    }
   ],
   "source": [
    "# Correlation between test scores\n",
    "plt.figure(figsize = (8, 4))\n",
    "correlation = score.corr()\n",
    "sns.heatmap(correlation, annot = True, fmt = '.2f', cmap = 'coolwarm', cbar = False)\n",
    "plt.show()"
   ]
  },
  {
   "cell_type": "code",
   "execution_count": 184,
   "metadata": {},
   "outputs": [
    {
     "data": {
      "image/png": "[encoded data removed]",
      "text/plain": [
       "<Figure size 2000x400 with 3 Axes>"
      ]
     },
     "metadata": {},
     "output_type": "display_data"
    }
   ],
   "source": [
    "# Distribution of test scores \n",
    "plt.figure(figsize = (20, 4))\n",
    "plt.subplot(1, 3, 1)\n",
    "sns.histplot(data['math score'], kde = True, color = 'red')\n",
    "plt.title('Math Score Distribution')\n",
    "plt.subplot(1, 3, 2)\n",
    "sns.histplot(data['reading score'], kde = True, color = 'blue')\n",
    "plt.title('Reading Score Distribution')\n",
    "plt.subplot(1, 3, 3)\n",
    "sns.histplot(data['writing score'], kde = True, color = 'green')\n",
    "plt.title('Writing Score Distribution')\n",
    "plt.show()"
   ]
  },
  {
   "cell_type": "markdown",
   "metadata": {
    "id": "OO_H4azGya4r"
   },
   "source": [
    "**Conclusión:** Las calificaciones de los estudiantes presentan alta correlación entre sí, es decir, si un estudiante obtiene una calificación alta en matemáticas, es probable que también obtenga calificaciones altas en lectura y escritura. Adicionalmente, las calificaciones presentan una distribución normal, lo que tambien sugiere que los estudiantes obtienen calificaciones similares en las tres materias.\n",
    "\n",
    "Por lo tanto, se crea una variable objetivo llamada `mean score` que representa el promedio de las calificaciones obtenidas por los estudiantes en matemáticas, lectura y escritura."
   ]
  },
  {
   "cell_type": "code",
   "execution_count": 185,
   "metadata": {
    "colab": {
     "base_uri": "https://localhost:8080/",
     "height": 206
    },
    "executionInfo": {
     "elapsed": 228,
     "status": "ok",
     "timestamp": 1679664391632,
     "user": {
      "displayName": "Diego P",
      "userId": "14448528258399483719"
     },
     "user_tz": 180
    },
    "id": "dy3E_MBgRyuA",
    "outputId": "51b87552-b3d3-430e-b3d5-556a88d353c2"
   },
   "outputs": [
    {
     "data": {
      "text/html": [
       "<div>\n",
       "<style scoped>\n",
       "    .dataframe tbody tr th:only-of-type {\n",
       "        vertical-align: middle;\n",
       "    }\n",
       "\n",
       "    .dataframe tbody tr th {\n",
       "        vertical-align: top;\n",
       "    }\n",
       "\n",
       "    .dataframe thead th {\n",
       "        text-align: right;\n",
       "    }\n",
       "</style>\n",
       "<table border=\"1\" class=\"dataframe\">\n",
       "  <thead>\n",
       "    <tr style=\"text-align: right;\">\n",
       "      <th></th>\n",
       "      <th>gender</th>\n",
       "      <th>race/ethnicity</th>\n",
       "      <th>parental level of education</th>\n",
       "      <th>lunch</th>\n",
       "      <th>test preparation course</th>\n",
       "      <th>mean score</th>\n",
       "    </tr>\n",
       "  </thead>\n",
       "  <tbody>\n",
       "    <tr>\n",
       "      <th>0</th>\n",
       "      <td>female</td>\n",
       "      <td>group B</td>\n",
       "      <td>bachelor's degree</td>\n",
       "      <td>standard</td>\n",
       "      <td>none</td>\n",
       "      <td>72.666667</td>\n",
       "    </tr>\n",
       "    <tr>\n",
       "      <th>1</th>\n",
       "      <td>female</td>\n",
       "      <td>group C</td>\n",
       "      <td>some college</td>\n",
       "      <td>standard</td>\n",
       "      <td>completed</td>\n",
       "      <td>82.333333</td>\n",
       "    </tr>\n",
       "    <tr>\n",
       "      <th>2</th>\n",
       "      <td>female</td>\n",
       "      <td>group B</td>\n",
       "      <td>master's degree</td>\n",
       "      <td>standard</td>\n",
       "      <td>none</td>\n",
       "      <td>92.666667</td>\n",
       "    </tr>\n",
       "    <tr>\n",
       "      <th>3</th>\n",
       "      <td>male</td>\n",
       "      <td>group A</td>\n",
       "      <td>associate's degree</td>\n",
       "      <td>free/reduced</td>\n",
       "      <td>none</td>\n",
       "      <td>49.333333</td>\n",
       "    </tr>\n",
       "    <tr>\n",
       "      <th>4</th>\n",
       "      <td>male</td>\n",
       "      <td>group C</td>\n",
       "      <td>some college</td>\n",
       "      <td>standard</td>\n",
       "      <td>none</td>\n",
       "      <td>76.333333</td>\n",
       "    </tr>\n",
       "  </tbody>\n",
       "</table>\n",
       "</div>"
      ],
      "text/plain": [
       "   gender race/ethnicity parental level of education         lunch  \\\n",
       "0  female        group B           bachelor's degree      standard   \n",
       "1  female        group C                some college      standard   \n",
       "2  female        group B             master's degree      standard   \n",
       "3    male        group A          associate's degree  free/reduced   \n",
       "4    male        group C                some college      standard   \n",
       "\n",
       "  test preparation course  mean score  \n",
       "0                    none   72.666667  \n",
       "1               completed   82.333333  \n",
       "2                    none   92.666667  \n",
       "3                    none   49.333333  \n",
       "4                    none   76.333333  "
      ]
     },
     "execution_count": 185,
     "metadata": {},
     "output_type": "execute_result"
    }
   ],
   "source": [
    "# Calculate average of all test results\n",
    "data['mean score'] = score.mean(axis = 1)\n",
    "\n",
    "# Drop math score, reading score and writing score\n",
    "data = data.drop(['math score', 'reading score', 'writing score'], axis = 1)\n",
    "\n",
    "# Show first 5 rows of new dataframe\n",
    "data.head()"
   ]
  },
  {
   "cell_type": "code",
   "execution_count": 186,
   "metadata": {
    "colab": {
     "base_uri": "https://localhost:8080/"
    },
    "executionInfo": {
     "elapsed": 9,
     "status": "ok",
     "timestamp": 1663281244017,
     "user": {
      "displayName": "Diego P",
      "userId": "14448528258399483719"
     },
     "user_tz": 180
    },
    "id": "pWpdP9LKSZfn",
    "outputId": "26cf1eae-d1ad-43a2-85ab-f6734d543f92"
   },
   "outputs": [
    {
     "name": "stdout",
     "output_type": "stream",
     "text": [
      "Mean score data type:  float64\n"
     ]
    }
   ],
   "source": [
    "# Mean score data type\n",
    "print(\"Mean score data type: \", data['mean score'].dtype)"
   ]
  },
  {
   "cell_type": "markdown",
   "metadata": {
    "id": "Y4J5nct7SbG8"
   },
   "source": [
    "# 6. Analisis de datos Exploratorio\n",
    "\n",
    "El análisis exploratorio de datos es el proceso de análisis y visualización de las variables de un conjunto de datos. Este paso no es necesario para la codificación de características, pero es util analizar los datos antes de aplicar cualquier técnica de aprendizaje automático.\n",
    "\n",
    "## 6.1 Variables predictoras\n",
    "Las variables predictoras del conjunto de datos son:\n",
    "\n",
    "- Género\n",
    "- Raza/etnia\n",
    "- Nivel educativo de los padres\n",
    "- Almuerzo\n",
    "- Curso de preparación para el examen\n",
    "\n",
    "En esta sección, exploraremos cómo estas diferentes características influyen en el resultado de la puntuación de un estudiante en el examen.\n",
    "\n",
    "### 6.1.1 Gender\n"
   ]
  },
  {
   "cell_type": "code",
   "execution_count": 187,
   "metadata": {
    "colab": {
     "base_uri": "https://localhost:8080/",
     "height": 363
    },
    "executionInfo": {
     "elapsed": 264,
     "status": "ok",
     "timestamp": 1679665061268,
     "user": {
      "displayName": "Diego P",
      "userId": "14448528258399483719"
     },
     "user_tz": 180
    },
    "id": "ZN_jcVnlTHXj",
    "outputId": "6a87588d-944d-418f-9f22-1140ca5feb87"
   },
   "outputs": [
    {
     "data": {
      "text/html": [
       "<div>\n",
       "<style scoped>\n",
       "    .dataframe tbody tr th:only-of-type {\n",
       "        vertical-align: middle;\n",
       "    }\n",
       "\n",
       "    .dataframe tbody tr th {\n",
       "        vertical-align: top;\n",
       "    }\n",
       "\n",
       "    .dataframe thead th {\n",
       "        text-align: right;\n",
       "    }\n",
       "</style>\n",
       "<table border=\"1\" class=\"dataframe\">\n",
       "  <thead>\n",
       "    <tr style=\"text-align: right;\">\n",
       "      <th></th>\n",
       "      <th>gender</th>\n",
       "      <th>mean score</th>\n",
       "    </tr>\n",
       "  </thead>\n",
       "  <tbody>\n",
       "    <tr>\n",
       "      <th>0</th>\n",
       "      <td>female</td>\n",
       "      <td>72.666667</td>\n",
       "    </tr>\n",
       "    <tr>\n",
       "      <th>1</th>\n",
       "      <td>female</td>\n",
       "      <td>82.333333</td>\n",
       "    </tr>\n",
       "    <tr>\n",
       "      <th>2</th>\n",
       "      <td>female</td>\n",
       "      <td>92.666667</td>\n",
       "    </tr>\n",
       "    <tr>\n",
       "      <th>3</th>\n",
       "      <td>male</td>\n",
       "      <td>49.333333</td>\n",
       "    </tr>\n",
       "    <tr>\n",
       "      <th>4</th>\n",
       "      <td>male</td>\n",
       "      <td>76.333333</td>\n",
       "    </tr>\n",
       "    <tr>\n",
       "      <th>5</th>\n",
       "      <td>female</td>\n",
       "      <td>77.333333</td>\n",
       "    </tr>\n",
       "    <tr>\n",
       "      <th>6</th>\n",
       "      <td>female</td>\n",
       "      <td>91.666667</td>\n",
       "    </tr>\n",
       "    <tr>\n",
       "      <th>7</th>\n",
       "      <td>male</td>\n",
       "      <td>40.666667</td>\n",
       "    </tr>\n",
       "    <tr>\n",
       "      <th>8</th>\n",
       "      <td>male</td>\n",
       "      <td>65.000000</td>\n",
       "    </tr>\n",
       "    <tr>\n",
       "      <th>9</th>\n",
       "      <td>female</td>\n",
       "      <td>49.333333</td>\n",
       "    </tr>\n",
       "  </tbody>\n",
       "</table>\n",
       "</div>"
      ],
      "text/plain": [
       "   gender  mean score\n",
       "0  female   72.666667\n",
       "1  female   82.333333\n",
       "2  female   92.666667\n",
       "3    male   49.333333\n",
       "4    male   76.333333\n",
       "5  female   77.333333\n",
       "6  female   91.666667\n",
       "7    male   40.666667\n",
       "8    male   65.000000\n",
       "9  female   49.333333"
      ]
     },
     "execution_count": 187,
     "metadata": {},
     "output_type": "execute_result"
    }
   ],
   "source": [
    "# Mean score by gender\n",
    "data_gender = data[['gender', 'mean score']]\n",
    "data_gender.head(10)"
   ]
  },
  {
   "cell_type": "code",
   "execution_count": 188,
   "metadata": {},
   "outputs": [
    {
     "data": {
      "text/plain": [
       "gender\n",
       "female    518\n",
       "male      482\n",
       "Name: count, dtype: int64"
      ]
     },
     "execution_count": 188,
     "metadata": {},
     "output_type": "execute_result"
    }
   ],
   "source": [
    "data['gender'].value_counts()"
   ]
  },
  {
   "cell_type": "markdown",
   "metadata": {},
   "source": [
    "Se puede observar que la variable género es de tipo categórica y presenta dos categorías: `female` y `male`. A continuación, se analiza cómo influye el género en la puntuación promedio de los estudiantes."
   ]
  },
  {
   "cell_type": "code",
   "execution_count": 189,
   "metadata": {
    "colab": {
     "base_uri": "https://localhost:8080/",
     "height": 112
    },
    "executionInfo": {
     "elapsed": 408,
     "status": "ok",
     "timestamp": 1679664941937,
     "user": {
      "displayName": "Diego P",
      "userId": "14448528258399483719"
     },
     "user_tz": 180
    },
    "id": "1DHvN0CN0Mw7",
    "outputId": "9c452482-1334-4033-8c2e-6885917e11b3"
   },
   "outputs": [
    {
     "data": {
      "text/html": [
       "<div>\n",
       "<style scoped>\n",
       "    .dataframe tbody tr th:only-of-type {\n",
       "        vertical-align: middle;\n",
       "    }\n",
       "\n",
       "    .dataframe tbody tr th {\n",
       "        vertical-align: top;\n",
       "    }\n",
       "\n",
       "    .dataframe thead th {\n",
       "        text-align: right;\n",
       "    }\n",
       "</style>\n",
       "<table border=\"1\" class=\"dataframe\">\n",
       "  <thead>\n",
       "    <tr style=\"text-align: right;\">\n",
       "      <th></th>\n",
       "      <th>gender</th>\n",
       "      <th>mean score</th>\n",
       "    </tr>\n",
       "  </thead>\n",
       "  <tbody>\n",
       "    <tr>\n",
       "      <th>0</th>\n",
       "      <td>female</td>\n",
       "      <td>69.569498</td>\n",
       "    </tr>\n",
       "    <tr>\n",
       "      <th>1</th>\n",
       "      <td>male</td>\n",
       "      <td>65.837483</td>\n",
       "    </tr>\n",
       "  </tbody>\n",
       "</table>\n",
       "</div>"
      ],
      "text/plain": [
       "   gender  mean score\n",
       "0  female   69.569498\n",
       "1    male   65.837483"
      ]
     },
     "execution_count": 189,
     "metadata": {},
     "output_type": "execute_result"
    }
   ],
   "source": [
    "# se agrupan los datos por género y se calcula el promedio de las calificaciones\n",
    "data_gender = data_gender.groupby('gender', as_index = False).mean().sort_values(by = 'mean score', ascending = False, ignore_index = True)\n",
    "data_gender"
   ]
  },
  {
   "cell_type": "code",
   "execution_count": 190,
   "metadata": {
    "colab": {
     "base_uri": "https://localhost:8080/",
     "height": 350
    },
    "executionInfo": {
     "elapsed": 916,
     "status": "ok",
     "timestamp": 1679666244812,
     "user": {
      "displayName": "Diego P",
      "userId": "14448528258399483719"
     },
     "user_tz": 180
    },
    "id": "fcyM5xUHTVbZ",
    "outputId": "fc94c587-b5fc-4fb9-8428-9b201a2f039c"
   },
   "outputs": [
    {
     "data": {
      "image/png": "[encoded data removed]",
      "text/plain": [
       "<Figure size 600x400 with 1 Axes>"
      ]
     },
     "metadata": {},
     "output_type": "display_data"
    }
   ],
   "source": [
    "# Mean score by gender barplot\n",
    "plt.figure(figsize = (6, 4))\n",
    "sns.barplot(x = 'gender', y = 'mean score', data = data, palette = 'viridis')\n",
    "\n",
    "\n",
    "plt.title('Mean Score by Gender')\n",
    "plt.show()"
   ]
  },
  {
   "cell_type": "markdown",
   "metadata": {
    "id": "W0SVyxVcTbNn"
   },
   "source": [
    "**Conclusión:** Los estudiantes de género femenino obtienen una puntuación promedio más alta que los estudiantes de género masculino. Sin embargo, la diferencia en las puntuaciones no es significativa, lo que sugiere que el género no es un factor determinante en el rendimiento académico de los estudiantes.\n",
    "\n",
    "### 6.1.2 Race/ethnicity"
   ]
  },
  {
   "cell_type": "code",
   "execution_count": 191,
   "metadata": {
    "colab": {
     "base_uri": "https://localhost:8080/",
     "height": 206
    },
    "executionInfo": {
     "elapsed": 443,
     "status": "ok",
     "timestamp": 1679665952239,
     "user": {
      "displayName": "Diego P",
      "userId": "14448528258399483719"
     },
     "user_tz": 180
    },
    "id": "GszzRDfeTgo0",
    "outputId": "359e92fc-b93f-4d05-c074-4d06340a6935"
   },
   "outputs": [
    {
     "data": {
      "text/html": [
       "<div>\n",
       "<style scoped>\n",
       "    .dataframe tbody tr th:only-of-type {\n",
       "        vertical-align: middle;\n",
       "    }\n",
       "\n",
       "    .dataframe tbody tr th {\n",
       "        vertical-align: top;\n",
       "    }\n",
       "\n",
       "    .dataframe thead th {\n",
       "        text-align: right;\n",
       "    }\n",
       "</style>\n",
       "<table border=\"1\" class=\"dataframe\">\n",
       "  <thead>\n",
       "    <tr style=\"text-align: right;\">\n",
       "      <th></th>\n",
       "      <th>race/ethnicity</th>\n",
       "      <th>mean score</th>\n",
       "    </tr>\n",
       "  </thead>\n",
       "  <tbody>\n",
       "    <tr>\n",
       "      <th>0</th>\n",
       "      <td>group A</td>\n",
       "      <td>62.992509</td>\n",
       "    </tr>\n",
       "    <tr>\n",
       "      <th>1</th>\n",
       "      <td>group B</td>\n",
       "      <td>65.468421</td>\n",
       "    </tr>\n",
       "    <tr>\n",
       "      <th>2</th>\n",
       "      <td>group C</td>\n",
       "      <td>67.131661</td>\n",
       "    </tr>\n",
       "    <tr>\n",
       "      <th>3</th>\n",
       "      <td>group D</td>\n",
       "      <td>69.179389</td>\n",
       "    </tr>\n",
       "    <tr>\n",
       "      <th>4</th>\n",
       "      <td>group E</td>\n",
       "      <td>72.752381</td>\n",
       "    </tr>\n",
       "  </tbody>\n",
       "</table>\n",
       "</div>"
      ],
      "text/plain": [
       "  race/ethnicity  mean score\n",
       "0        group A   62.992509\n",
       "1        group B   65.468421\n",
       "2        group C   67.131661\n",
       "3        group D   69.179389\n",
       "4        group E   72.752381"
      ]
     },
     "execution_count": 191,
     "metadata": {},
     "output_type": "execute_result"
    }
   ],
   "source": [
    "# Mean score by race/ethnicity\n",
    "data_race = data[['race/ethnicity', 'mean score']].groupby('race/ethnicity', as_index = False).mean().sort_values(by = 'mean score', ascending = True, ignore_index = True)\n",
    "data_race"
   ]
  },
  {
   "cell_type": "code",
   "execution_count": 192,
   "metadata": {
    "colab": {
     "base_uri": "https://localhost:8080/",
     "height": 206
    },
    "executionInfo": {
     "elapsed": 856,
     "status": "ok",
     "timestamp": 1679666093214,
     "user": {
      "displayName": "Diego P",
      "userId": "14448528258399483719"
     },
     "user_tz": 180
    },
    "id": "v6W-gzwc5H9W",
    "outputId": "96fd3b24-5e07-4138-dc31-68aff3359f9c"
   },
   "outputs": [
    {
     "data": {
      "text/html": [
       "<div>\n",
       "<style scoped>\n",
       "    .dataframe tbody tr th:only-of-type {\n",
       "        vertical-align: middle;\n",
       "    }\n",
       "\n",
       "    .dataframe tbody tr th {\n",
       "        vertical-align: top;\n",
       "    }\n",
       "\n",
       "    .dataframe thead th {\n",
       "        text-align: right;\n",
       "    }\n",
       "</style>\n",
       "<table border=\"1\" class=\"dataframe\">\n",
       "  <thead>\n",
       "    <tr style=\"text-align: right;\">\n",
       "      <th></th>\n",
       "      <th>ethnicity</th>\n",
       "      <th>m_score</th>\n",
       "    </tr>\n",
       "  </thead>\n",
       "  <tbody>\n",
       "    <tr>\n",
       "      <th>0</th>\n",
       "      <td>group A</td>\n",
       "      <td>62.992509</td>\n",
       "    </tr>\n",
       "    <tr>\n",
       "      <th>1</th>\n",
       "      <td>group B</td>\n",
       "      <td>65.468421</td>\n",
       "    </tr>\n",
       "    <tr>\n",
       "      <th>2</th>\n",
       "      <td>group C</td>\n",
       "      <td>67.131661</td>\n",
       "    </tr>\n",
       "    <tr>\n",
       "      <th>3</th>\n",
       "      <td>group D</td>\n",
       "      <td>69.179389</td>\n",
       "    </tr>\n",
       "    <tr>\n",
       "      <th>4</th>\n",
       "      <td>group E</td>\n",
       "      <td>72.752381</td>\n",
       "    </tr>\n",
       "  </tbody>\n",
       "</table>\n",
       "</div>"
      ],
      "text/plain": [
       "  ethnicity    m_score\n",
       "0   group A  62.992509\n",
       "1   group B  65.468421\n",
       "2   group C  67.131661\n",
       "3   group D  69.179389\n",
       "4   group E  72.752381"
      ]
     },
     "execution_count": 192,
     "metadata": {},
     "output_type": "execute_result"
    }
   ],
   "source": [
    "data_race.rename(columns={\"race/ethnicity\": \"ethnicity\", \"mean score\":\"m_score\"}, inplace=True)\n",
    "data_race"
   ]
  },
  {
   "cell_type": "code",
   "execution_count": 193,
   "metadata": {
    "colab": {
     "base_uri": "https://localhost:8080/",
     "height": 404
    },
    "executionInfo": {
     "elapsed": 651,
     "status": "ok",
     "timestamp": 1679666145092,
     "user": {
      "displayName": "Diego P",
      "userId": "14448528258399483719"
     },
     "user_tz": 180
    },
    "id": "znngH9YITs2v",
    "outputId": "9c6ffb68-7dae-4d2a-9886-141653983be3"
   },
   "outputs": [
    {
     "data": {
      "image/png": "[encoded data removed]",
      "text/plain": [
       "<Figure size 800x400 with 1 Axes>"
      ]
     },
     "metadata": {},
     "output_type": "display_data"
    }
   ],
   "source": [
    "# Mean score by race/ethnicity barplot\n",
    "plt.figure(figsize = (8, 4))\n",
    "sns.barplot(data = data_race, x = 'ethnicity', y = 'm_score', order=data_race.sort_values('m_score').ethnicity, palette = 'viridis')\n",
    "plt.title('Mean Score by Race/Ethnicity')\n",
    "plt.show()"
   ]
  },
  {
   "cell_type": "markdown",
   "metadata": {
    "id": "3LUt9woLTxZt"
   },
   "source": [
    "Parece haber una tendencia creciente en las puntuaciones medias de las pruebas a medida que pasamos del grupo A al grupo E, es decir, los alumnos del grupo A son los que obtienen peores resultados, mientras que los del grupo E son los que obtienen mejores resultados.\n",
    "\n",
    "Sin embargo, a falta de más información, nos resulta difícil sacar alguna conclusión.\n",
    "\n",
    "### 6.1.3 Nivel educativo de los padres"
   ]
  },
  {
   "cell_type": "code",
   "execution_count": 194,
   "metadata": {
    "id": "OymqTk5wTyQd"
   },
   "outputs": [],
   "source": [
    "# Mean score by parental level of education\n",
    "data_edu = data[['parental level of education', 'mean score']].groupby('parental level of education', as_index = False).mean().sort_values(by = 'mean score', ascending = True, ignore_index = True)"
   ]
  },
  {
   "cell_type": "code",
   "execution_count": 195,
   "metadata": {
    "colab": {
     "base_uri": "https://localhost:8080/",
     "height": 237
    },
    "executionInfo": {
     "elapsed": 4,
     "status": "ok",
     "timestamp": 1679667596573,
     "user": {
      "displayName": "Diego P",
      "userId": "14448528258399483719"
     },
     "user_tz": 180
    },
    "id": "SrPyNDLd6hOD",
    "outputId": "5844a799-2d50-47e6-81a3-02b6268dfad5"
   },
   "outputs": [
    {
     "data": {
      "text/html": [
       "<div>\n",
       "<style scoped>\n",
       "    .dataframe tbody tr th:only-of-type {\n",
       "        vertical-align: middle;\n",
       "    }\n",
       "\n",
       "    .dataframe tbody tr th {\n",
       "        vertical-align: top;\n",
       "    }\n",
       "\n",
       "    .dataframe thead th {\n",
       "        text-align: right;\n",
       "    }\n",
       "</style>\n",
       "<table border=\"1\" class=\"dataframe\">\n",
       "  <thead>\n",
       "    <tr style=\"text-align: right;\">\n",
       "      <th></th>\n",
       "      <th>level_edu</th>\n",
       "      <th>m_score</th>\n",
       "    </tr>\n",
       "  </thead>\n",
       "  <tbody>\n",
       "    <tr>\n",
       "      <th>0</th>\n",
       "      <td>high school</td>\n",
       "      <td>63.096939</td>\n",
       "    </tr>\n",
       "    <tr>\n",
       "      <th>1</th>\n",
       "      <td>some high school</td>\n",
       "      <td>65.108007</td>\n",
       "    </tr>\n",
       "    <tr>\n",
       "      <th>2</th>\n",
       "      <td>some college</td>\n",
       "      <td>68.476401</td>\n",
       "    </tr>\n",
       "    <tr>\n",
       "      <th>3</th>\n",
       "      <td>associate's degree</td>\n",
       "      <td>69.569069</td>\n",
       "    </tr>\n",
       "    <tr>\n",
       "      <th>4</th>\n",
       "      <td>bachelor's degree</td>\n",
       "      <td>71.923729</td>\n",
       "    </tr>\n",
       "    <tr>\n",
       "      <th>5</th>\n",
       "      <td>master's degree</td>\n",
       "      <td>73.598870</td>\n",
       "    </tr>\n",
       "  </tbody>\n",
       "</table>\n",
       "</div>"
      ],
      "text/plain": [
       "            level_edu    m_score\n",
       "0         high school  63.096939\n",
       "1    some high school  65.108007\n",
       "2        some college  68.476401\n",
       "3  associate's degree  69.569069\n",
       "4   bachelor's degree  71.923729\n",
       "5     master's degree  73.598870"
      ]
     },
     "execution_count": 195,
     "metadata": {},
     "output_type": "execute_result"
    }
   ],
   "source": [
    "data_edu.rename(columns={\"parental level of education\": \"level_edu\", \"mean score\":\"m_score\"}, inplace=True)\n",
    "data_edu"
   ]
  },
  {
   "cell_type": "code",
   "execution_count": 196,
   "metadata": {
    "colab": {
     "base_uri": "https://localhost:8080/",
     "height": 488
    },
    "executionInfo": {
     "elapsed": 1487,
     "status": "ok",
     "timestamp": 1679668843889,
     "user": {
      "displayName": "Diego P",
      "userId": "14448528258399483719"
     },
     "user_tz": 180
    },
    "id": "m0Dhdr2UUBjG",
    "outputId": "e5ce773c-7d47-4d7a-aad6-ea511a763076"
   },
   "outputs": [
    {
     "data": {
      "image/png": "[encoded data removed]",
      "text/plain": [
       "<Figure size 1000x400 with 1 Axes>"
      ]
     },
     "metadata": {},
     "output_type": "display_data"
    }
   ],
   "source": [
    "# Mean score by parental level of education barplot\n",
    "plt.figure(figsize = (10, 4))\n",
    "sns.barplot(data = data_edu, x = 'level_edu', y = 'm_score', order=data_edu.sort_values('m_score').level_edu, palette = 'viridis')\n",
    "plt.title('Mean Score by Parental Level of Education')\n",
    "plt.xticks(rotation = 90);\n",
    "plt.show()"
   ]
  },
  {
   "cell_type": "markdown",
   "metadata": {
    "id": "G-OxDF1cUGg3"
   },
   "source": [
    "En su mayor parte, los resultados coinciden con lo que cabría esperar, es decir, que a medida que aumenta el nivel educativo de los padres, también aumenta la puntuación media en los exámenes de los estudiantes.\n",
    "\n",
    "### 6.1.4 Almuerzo\n"
   ]
  },
  {
   "cell_type": "code",
   "execution_count": 197,
   "metadata": {
    "colab": {
     "base_uri": "https://localhost:8080/",
     "height": 112
    },
    "executionInfo": {
     "elapsed": 260,
     "status": "ok",
     "timestamp": 1679668863205,
     "user": {
      "displayName": "Diego P",
      "userId": "14448528258399483719"
     },
     "user_tz": 180
    },
    "id": "_ExBNOOSUFW8",
    "outputId": "b993c4c5-be3b-48a8-afa1-fb7ed087cc36"
   },
   "outputs": [
    {
     "data": {
      "text/html": [
       "<div>\n",
       "<style scoped>\n",
       "    .dataframe tbody tr th:only-of-type {\n",
       "        vertical-align: middle;\n",
       "    }\n",
       "\n",
       "    .dataframe tbody tr th {\n",
       "        vertical-align: top;\n",
       "    }\n",
       "\n",
       "    .dataframe thead th {\n",
       "        text-align: right;\n",
       "    }\n",
       "</style>\n",
       "<table border=\"1\" class=\"dataframe\">\n",
       "  <thead>\n",
       "    <tr style=\"text-align: right;\">\n",
       "      <th></th>\n",
       "      <th>lunch</th>\n",
       "      <th>mean score</th>\n",
       "    </tr>\n",
       "  </thead>\n",
       "  <tbody>\n",
       "    <tr>\n",
       "      <th>0</th>\n",
       "      <td>standard</td>\n",
       "      <td>70.837209</td>\n",
       "    </tr>\n",
       "    <tr>\n",
       "      <th>1</th>\n",
       "      <td>free/reduced</td>\n",
       "      <td>62.199061</td>\n",
       "    </tr>\n",
       "  </tbody>\n",
       "</table>\n",
       "</div>"
      ],
      "text/plain": [
       "          lunch  mean score\n",
       "0      standard   70.837209\n",
       "1  free/reduced   62.199061"
      ]
     },
     "execution_count": 197,
     "metadata": {},
     "output_type": "execute_result"
    }
   ],
   "source": [
    "# Mean score by lunch\n",
    "data[['lunch', 'mean score']].groupby('lunch', as_index = False).mean().sort_values(by = 'mean score', ascending = False, ignore_index = True)"
   ]
  },
  {
   "cell_type": "code",
   "execution_count": 198,
   "metadata": {
    "colab": {
     "base_uri": "https://localhost:8080/",
     "height": 368
    },
    "executionInfo": {
     "elapsed": 645,
     "status": "ok",
     "timestamp": 1679668867014,
     "user": {
      "displayName": "Diego P",
      "userId": "14448528258399483719"
     },
     "user_tz": 180
    },
    "id": "Uxwv8e17US5t",
    "outputId": "46b92273-c191-4545-f2aa-f05f241af7b3"
   },
   "outputs": [
    {
     "data": {
      "image/png": "[encoded data removed]",
      "text/plain": [
       "<Figure size 600x400 with 1 Axes>"
      ]
     },
     "metadata": {},
     "output_type": "display_data"
    }
   ],
   "source": [
    "# Mean score by lunch barplot\n",
    "plt.figure(figsize = (6, 4))\n",
    "sns.barplot(x = 'lunch', y = 'mean score', data = data, palette = 'viridis')\n",
    "plt.title('Mean Score by Lunch')\n",
    "plt.show()"
   ]
  },
  {
   "cell_type": "markdown",
   "metadata": {
    "id": "WM0TxMSwUr4N"
   },
   "source": [
    "Los estudiantes con almuerzo estándar obtienen mejores resultados que los que tienen almuerzo gratuito/reducido.\n",
    "\n",
    "El almuerzo puede considerarse un indicador de la situación económica de los alumnos. Por lo tanto, tiene sentido que los estudiantes que tienen una mejor situación económica tengan un mejor rendimiento escolar en comparación con los que tienen una peor situación económica, por término medio.\n",
    "\n",
    "### 6.1.5 Curso de preparación de exámenes"
   ]
  },
  {
   "cell_type": "code",
   "execution_count": 199,
   "metadata": {
    "colab": {
     "base_uri": "https://localhost:8080/",
     "height": 112
    },
    "executionInfo": {
     "elapsed": 313,
     "status": "ok",
     "timestamp": 1679668872805,
     "user": {
      "displayName": "Diego P",
      "userId": "14448528258399483719"
     },
     "user_tz": 180
    },
    "id": "MiScTBJNUrCQ",
    "outputId": "b1c90799-f349-4064-da30-f4443ac02155"
   },
   "outputs": [
    {
     "data": {
      "text/html": [
       "<div>\n",
       "<style scoped>\n",
       "    .dataframe tbody tr th:only-of-type {\n",
       "        vertical-align: middle;\n",
       "    }\n",
       "\n",
       "    .dataframe tbody tr th {\n",
       "        vertical-align: top;\n",
       "    }\n",
       "\n",
       "    .dataframe thead th {\n",
       "        text-align: right;\n",
       "    }\n",
       "</style>\n",
       "<table border=\"1\" class=\"dataframe\">\n",
       "  <thead>\n",
       "    <tr style=\"text-align: right;\">\n",
       "      <th></th>\n",
       "      <th>test preparation course</th>\n",
       "      <th>mean score</th>\n",
       "    </tr>\n",
       "  </thead>\n",
       "  <tbody>\n",
       "    <tr>\n",
       "      <th>0</th>\n",
       "      <td>completed</td>\n",
       "      <td>72.669460</td>\n",
       "    </tr>\n",
       "    <tr>\n",
       "      <th>1</th>\n",
       "      <td>none</td>\n",
       "      <td>65.038941</td>\n",
       "    </tr>\n",
       "  </tbody>\n",
       "</table>\n",
       "</div>"
      ],
      "text/plain": [
       "  test preparation course  mean score\n",
       "0               completed   72.669460\n",
       "1                    none   65.038941"
      ]
     },
     "execution_count": 199,
     "metadata": {},
     "output_type": "execute_result"
    }
   ],
   "source": [
    "# Mean score by test preparation course\n",
    "data[['test preparation course', 'mean score']].groupby('test preparation course', as_index = False).mean().sort_values(by = 'mean score', ascending = False, ignore_index = True)"
   ]
  },
  {
   "cell_type": "code",
   "execution_count": 200,
   "metadata": {
    "colab": {
     "base_uri": "https://localhost:8080/",
     "height": 368
    },
    "executionInfo": {
     "elapsed": 1075,
     "status": "ok",
     "timestamp": 1679668876775,
     "user": {
      "displayName": "Diego P",
      "userId": "14448528258399483719"
     },
     "user_tz": 180
    },
    "id": "r2qpAiSvU5-f",
    "outputId": "e98b2c55-c0bf-42ff-e6c5-f192295921ec"
   },
   "outputs": [
    {
     "data": {
      "image/png": "[encoded data removed]",
      "text/plain": [
       "<Figure size 600x400 with 1 Axes>"
      ]
     },
     "metadata": {},
     "output_type": "display_data"
    }
   ],
   "source": [
    "# Mean score by test preparation course barplot\n",
    "plt.figure(figsize = (6, 4))\n",
    "sns.barplot(x = 'test preparation course', y = 'mean score', data = data, palette = 'viridis')\n",
    "plt.title('Mean Score by Test Preparation Course')\n",
    "plt.show()"
   ]
  },
  {
   "cell_type": "markdown",
   "metadata": {
    "id": "pRB-I3ngVEMe"
   },
   "source": [
    "Esto no debería sorprender en absoluto. Cuanto más preparados estén los estudiantes para su examen, mejor será su rendimiento.\n",
    "\n",
    "## 6.2 Target variable (mean score)\n"
   ]
  },
  {
   "cell_type": "code",
   "execution_count": 201,
   "metadata": {
    "colab": {
     "base_uri": "https://localhost:8080/"
    },
    "executionInfo": {
     "elapsed": 5,
     "status": "ok",
     "timestamp": 1679668883999,
     "user": {
      "displayName": "Diego P",
      "userId": "14448528258399483719"
     },
     "user_tz": 180
    },
    "id": "tLTM8gb4VLKH",
    "outputId": "11f2187f-ea2f-42af-be73-fea6e617b6d1"
   },
   "outputs": [
    {
     "data": {
      "text/plain": [
       "count    1000.000000\n",
       "mean       67.770667\n",
       "std        14.257326\n",
       "min         9.000000\n",
       "25%        58.333333\n",
       "50%        68.333333\n",
       "75%        77.666667\n",
       "max       100.000000\n",
       "Name: mean score, dtype: float64"
      ]
     },
     "execution_count": 201,
     "metadata": {},
     "output_type": "execute_result"
    }
   ],
   "source": [
    "# Mean score summary statistics\n",
    "data['mean score'].describe()"
   ]
  },
  {
   "cell_type": "code",
   "execution_count": 202,
   "metadata": {
    "colab": {
     "base_uri": "https://localhost:8080/",
     "height": 350
    },
    "executionInfo": {
     "elapsed": 796,
     "status": "ok",
     "timestamp": 1679668931408,
     "user": {
      "displayName": "Diego P",
      "userId": "14448528258399483719"
     },
     "user_tz": 180
    },
    "id": "FhubbceoVNu8",
    "outputId": "9b66f0d9-12f2-4b79-a2b0-7321773b3a2d"
   },
   "outputs": [
    {
     "data": {
      "image/png": "[encoded data removed]",
      "text/plain": [
       "<Figure size 800x600 with 1 Axes>"
      ]
     },
     "metadata": {},
     "output_type": "display_data"
    }
   ],
   "source": [
    "# Distribution of mean score\n",
    "plt.figure(figsize=(8, 6))\n",
    "sns.histplot(data['mean score'], kde=True)\n",
    "\n",
    "# Añadir la etiqueta de skewness\n",
    "skewness = data['mean score'].skew()\n",
    "plt.legend([f'Skewness: {skewness:.2f}'])\n",
    "\n",
    "plt.title('Distribución de Mean Score')\n",
    "plt.xlabel('Mean Score')\n",
    "plt.ylabel('Frecuencia')\n",
    "plt.show()"
   ]
  },
  {
   "cell_type": "markdown",
   "metadata": {},
   "source": [
    "La skewness (asimetría) es una medida de la simetría de la distribución de los datos. Indica si los datos están sesgados hacia la izquierda o hacia la derecha de la media.\n",
    "\n",
    "Tipos de Skewness\n",
    "1. Skewness positiva: La cola de la distribución se extiende más hacia la derecha. Los valores están sesgados hacia la izquierda.\n",
    "2. Skewness negativa: La cola de la distribución se extiende más hacia la izquierda. Los valores están sesgados hacia la derecha.\n",
    "3. Skewness cero: La distribución es simétrica."
   ]
  },
  {
   "cell_type": "markdown",
   "metadata": {
    "id": "CAhLrguXVcUY"
   },
   "source": [
    "# 7. Codificación de características\n",
    "\n",
    "Ahora que hemos explorado por completo las variables del conjunto de datos, es momento de preparar los datos para el modelado.\n",
    "\n",
    "Más concretamente, queremos convertir los datos categóricos de nuestro conjunto de datos en datos numéricos. Este proceso se conoce como codificación de características.\n",
    "\n",
    "Pero antes de sumergirnos en la codificación de características, es importante que primero contrastemos la diferencia entre una variable nominal y una variable ordinal. Esto es para que podamos hacer coincidir el codificador correcto con la variable correcta.\n",
    "\n",
    "**La variable nominal** es una variable categórica cuyos datos no tienen un orden lógico. Algunos ejemplos de datos nominales son\n",
    "\n",
    "- Hombre y mujer\n",
    "- Ubicación A, ubicación B y ubicación C\n",
    "\n",
    "**La variable ordinal**, por otro lado, también es una variable categórica pero sus datos siguen un orden lógico. Algunos ejemplos de datos ordinales son:\n",
    "\n",
    "- Pequeño, mediano y grande\n",
    "- Malo, neutro y bueno\n",
    "- Niños, adultos y ancianos\n",
    "- Ingresos bajos, medios y altos\n",
    "\n",
    "Como veremos en esta sección, las variables nominales se codifican con **OneHotEncoder**, mientras que las ordinales se codifican con **OrdinalEncoder**."
   ]
  },
  {
   "cell_type": "markdown",
   "metadata": {
    "id": "4pZVqviMVcLw"
   },
   "source": [
    "## 7.1 Codificación de las variables nominales\n",
    "\n",
    "Las variables nominales de nuestro conjunto de datos incluyen:\n",
    "\n",
    "- Género (Gender)\n",
    "- Raza/etnia (Race/ethnicity)\n",
    "- Almuerzo (Lunch)\n",
    "- Curso de preparación para el examen (Test prepation course)\n",
    "\n",
    "\n",
    "En esta sección, exploraremos dos formas diferentes de codificar las variables **nominales**, una utilizando el OneHotEncoder de Scikit-learn y la otra utilizando el get_dummies de Pandas.\n",
    "\n",
    "### 7.1.1 Scikit-learn OneHotEncoder"
   ]
  },
  {
   "cell_type": "markdown",
   "metadata": {},
   "source": [
    "El OneHotEncoder de Scikit-learn es una técnica de codificación de características que convierte las variables categóricas en un formato que puede ser proporcionado a los algoritmos de aprendizaje automático para mejorar el rendimiento del modelo. La codificación OneHot crea una columna binaria para cada categoría en la variable categórica. Si la variable categórica tiene n categorías, la codificación OneHot creará n columnas binarias.\n",
    "\n",
    "**Remover la primera columna binaria**: Si se tiene n categorías, se deben crear n-1 columnas binarias. Esto se debe a que la columna restante se puede inferir de las otras n-1 columnas. Por lo tanto, se elimina una columna binaria para evitar la multicolinealidad."
   ]
  },
  {
   "cell_type": "code",
   "execution_count": 203,
   "metadata": {
    "id": "ZMGcUzVcWOsL"
   },
   "outputs": [],
   "source": [
    "# Instantiate OneHotEncoder\n",
    "ohe = OneHotEncoder(sparse_output=False, drop='first')"
   ]
  },
  {
   "cell_type": "code",
   "execution_count": 204,
   "metadata": {
    "colab": {
     "base_uri": "https://localhost:8080/"
    },
    "executionInfo": {
     "elapsed": 2,
     "status": "ok",
     "timestamp": 1679668989782,
     "user": {
      "displayName": "Diego P",
      "userId": "14448528258399483719"
     },
     "user_tz": 180
    },
    "id": "uThoFjJ-WVPT",
    "outputId": "a1c6b35f-be29-49b0-d08a-98f39b2f4076"
   },
   "outputs": [
    {
     "data": {
      "text/plain": [
       "array([[0.],\n",
       "       [0.],\n",
       "       [0.],\n",
       "       [1.],\n",
       "       [1.]])"
      ]
     },
     "execution_count": 204,
     "metadata": {},
     "output_type": "execute_result"
    }
   ],
   "source": [
    "# Apply OneHotEncoder to the gender column\n",
    "ohe.fit_transform(data[['gender']])[:5]"
   ]
  },
  {
   "cell_type": "code",
   "execution_count": 205,
   "metadata": {
    "colab": {
     "base_uri": "https://localhost:8080/"
    },
    "executionInfo": {
     "elapsed": 230,
     "status": "ok",
     "timestamp": 1679668991750,
     "user": {
      "displayName": "Diego P",
      "userId": "14448528258399483719"
     },
     "user_tz": 180
    },
    "id": "RPSKp3OLWaFk",
    "outputId": "86663ba9-8e69-49ce-c2b1-505011bf4efc"
   },
   "outputs": [
    {
     "data": {
      "text/plain": [
       "0    female\n",
       "1    female\n",
       "2    female\n",
       "3      male\n",
       "4      male\n",
       "Name: gender, dtype: object"
      ]
     },
     "execution_count": 205,
     "metadata": {},
     "output_type": "execute_result"
    }
   ],
   "source": [
    "# The first 5 rows the gender column for comparison\n",
    "data['gender'].head()"
   ]
  },
  {
   "cell_type": "code",
   "execution_count": 206,
   "metadata": {
    "colab": {
     "base_uri": "https://localhost:8080/"
    },
    "executionInfo": {
     "elapsed": 3,
     "status": "ok",
     "timestamp": 1679668993946,
     "user": {
      "displayName": "Diego P",
      "userId": "14448528258399483719"
     },
     "user_tz": 180
    },
    "id": "9YhaIz5kWdO3",
    "outputId": "6bea3558-335c-4ec0-e17c-819b89ddb78c"
   },
   "outputs": [
    {
     "data": {
      "text/plain": [
       "[array(['female', 'male'], dtype=object)]"
      ]
     },
     "execution_count": 206,
     "metadata": {},
     "output_type": "execute_result"
    }
   ],
   "source": [
    "# Gender categories in OneHotEncoder\n",
    "ohe.categories_"
   ]
  },
  {
   "cell_type": "markdown",
   "metadata": {
    "id": "cvPX6jbrWhct"
   },
   "source": [
    "Como podemos ver, OneHotEncoder ha creado dos columnas para representar la característica de género en nuestro marco de datos, una para mujeres y otra para hombres.\n",
    "\n",
    "Las estudiantes recibirán un valor de 1 en la columna de mujeres y 0 en la de hombres, mientras que los estudiantes varones recibirán un valor de 0 en la columna de mujeres y 1 en la de hombres.\n",
    "\n",
    "Pero lo más importante es que OneHotEncoder ha transformado con éxito lo que originalmente era una variable categórica en una variable numérica.\n",
    "\n",
    "### 7.1.3 Pandas get_dummies"
   ]
  },
  {
   "cell_type": "code",
   "execution_count": 207,
   "metadata": {
    "colab": {
     "base_uri": "https://localhost:8080/",
     "height": 206
    },
    "executionInfo": {
     "elapsed": 236,
     "status": "ok",
     "timestamp": 1679668998178,
     "user": {
      "displayName": "Diego P",
      "userId": "14448528258399483719"
     },
     "user_tz": 180
    },
    "id": "Wg82nxF4YuV3",
    "outputId": "104dd884-c4e3-47ba-815a-4bb3c8461b97"
   },
   "outputs": [
    {
     "data": {
      "text/html": [
       "<div>\n",
       "<style scoped>\n",
       "    .dataframe tbody tr th:only-of-type {\n",
       "        vertical-align: middle;\n",
       "    }\n",
       "\n",
       "    .dataframe tbody tr th {\n",
       "        vertical-align: top;\n",
       "    }\n",
       "\n",
       "    .dataframe thead th {\n",
       "        text-align: right;\n",
       "    }\n",
       "</style>\n",
       "<table border=\"1\" class=\"dataframe\">\n",
       "  <thead>\n",
       "    <tr style=\"text-align: right;\">\n",
       "      <th></th>\n",
       "      <th>female</th>\n",
       "      <th>male</th>\n",
       "    </tr>\n",
       "  </thead>\n",
       "  <tbody>\n",
       "    <tr>\n",
       "      <th>0</th>\n",
       "      <td>True</td>\n",
       "      <td>False</td>\n",
       "    </tr>\n",
       "    <tr>\n",
       "      <th>1</th>\n",
       "      <td>True</td>\n",
       "      <td>False</td>\n",
       "    </tr>\n",
       "    <tr>\n",
       "      <th>2</th>\n",
       "      <td>True</td>\n",
       "      <td>False</td>\n",
       "    </tr>\n",
       "    <tr>\n",
       "      <th>3</th>\n",
       "      <td>False</td>\n",
       "      <td>True</td>\n",
       "    </tr>\n",
       "    <tr>\n",
       "      <th>4</th>\n",
       "      <td>False</td>\n",
       "      <td>True</td>\n",
       "    </tr>\n",
       "  </tbody>\n",
       "</table>\n",
       "</div>"
      ],
      "text/plain": [
       "   female   male\n",
       "0    True  False\n",
       "1    True  False\n",
       "2    True  False\n",
       "3   False   True\n",
       "4   False   True"
      ]
     },
     "execution_count": 207,
     "metadata": {},
     "output_type": "execute_result"
    }
   ],
   "source": [
    "# Pandas get_dummies approach\n",
    "pd.get_dummies(data['gender']).head()"
   ]
  },
  {
   "cell_type": "markdown",
   "metadata": {
    "id": "ptUdiVQUYyq9"
   },
   "source": [
    "Aunque ambos enfoques dan el mismo resultado, en general se prefiere OneHotEncoder a get_dummies por las siguientes razones:\n",
    "\n",
    "- Con OneHotEncoder, nuestro dataframe original sigue teniendo el mismo tamaño y, por tanto, es más fácil de gestionar y explorar.\n",
    "\n",
    "- OneHotEncoder puede incorporarse como parte de un pipeline en Scikit-learn mientras que get_dummies requiere un enfoque más manual para la codificación.\n",
    "\n",
    "- Esto hace que OneHotEncoder sea más eficiente a la hora de transformar tanto el conjunto de entrenamiento como el conjunto de prueba.\n",
    "\n",
    "- Con OneHotEncoder, podemos utilizar GridSearch para evaluar y elegir los parámetros de preprocesamiento.\n",
    "\n",
    "- Las puntuaciones de validación cruzada (Cross-validation scores) son más fiables con OneHotEncoder que con get_dummies.\n",
    "\n",
    "Más adelante exploraremos la idea de construir un pipeline de aprendizaje automático.\n",
    "\n",
    "## 7.2 Codificación de la variable ordinal\n",
    "\n",
    "La única variable ordinal en nuestro conjunto de datos es la característica del **nivel de educación de los padres**.\n",
    "\n",
    "En esta sección, consideraremos de nuevo dos enfoques para codificar la variable ordinal, uno utilizando Scikit-learn OrdinalEncoder mientras que el otro utilizando el método de mapa de Pandas.\n",
    "\n",
    "### 7.2.1 OrdinalEncoder de Scikit-learn\n",
    "OrdinalEncoder se diferencia de OneHotEncoder en que asigna valores incrementales a valores únicos en una variable ordinal en lugar de sólo 0 y 1.\n",
    "\n",
    "Esto ayuda a los modelos de aprendizaje automático a reconocer una variable ordinal y a utilizar posteriormente la información que ha aprendido para hacer predicciones más precisas.\n",
    "\n",
    "Veamos ahora cómo podemos codificar la característica nivel de educación de los padres utilizando OrdinalEncoder."
   ]
  },
  {
   "cell_type": "code",
   "execution_count": 208,
   "metadata": {
    "colab": {
     "base_uri": "https://localhost:8080/"
    },
    "executionInfo": {
     "elapsed": 225,
     "status": "ok",
     "timestamp": 1679669062581,
     "user": {
      "displayName": "Diego P",
      "userId": "14448528258399483719"
     },
     "user_tz": 180
    },
    "id": "QkjLkmCoZWL2",
    "outputId": "68e43f4d-0e6a-42f1-93ed-0970051b5932"
   },
   "outputs": [
    {
     "data": {
      "text/plain": [
       "[\"bachelor's degree\",\n",
       " 'some college',\n",
       " \"master's degree\",\n",
       " \"associate's degree\",\n",
       " 'high school',\n",
       " 'some high school']"
      ]
     },
     "execution_count": 208,
     "metadata": {},
     "output_type": "execute_result"
    }
   ],
   "source": [
    "# Unique values in the parental level of education column\n",
    "list(data['parental level of education'].unique())"
   ]
  },
  {
   "cell_type": "markdown",
   "metadata": {
    "id": "ded_FdpwZf8s"
   },
   "source": [
    "Es importante que especifiquemos el orden de una variable ordinal. Para nuestra característica de nivel de educación de los padres, queremos que el orden sea el siguiente:\n",
    "\n",
    "- Some high school\n",
    "- High school\n",
    "- Some college\n",
    "- Associate's degree\n",
    "- Bachelor's degree\n",
    "- Master's degree"
   ]
  },
  {
   "cell_type": "code",
   "execution_count": 209,
   "metadata": {
    "id": "YFF_YmDBZfuc"
   },
   "outputs": [],
   "source": [
    "# Specify the order for the level of education\n",
    "education_categories = ['some high school', 'high school', 'some college', \"associate's degree\", \"bachelor's degree\", \"master's degree\"]"
   ]
  },
  {
   "cell_type": "code",
   "execution_count": 210,
   "metadata": {
    "id": "o1EeznFXZsP1"
   },
   "outputs": [],
   "source": [
    "# Instantiate ordinal encoder\n",
    "oe = OrdinalEncoder(categories = [education_categories])"
   ]
  },
  {
   "cell_type": "code",
   "execution_count": 211,
   "metadata": {
    "colab": {
     "base_uri": "https://localhost:8080/"
    },
    "executionInfo": {
     "elapsed": 3,
     "status": "ok",
     "timestamp": 1679669087763,
     "user": {
      "displayName": "Diego P",
      "userId": "14448528258399483719"
     },
     "user_tz": 180
    },
    "id": "ifeLAAKIZvWv",
    "outputId": "fb9906d4-bde1-4ae0-dba6-a29b61d77207"
   },
   "outputs": [
    {
     "data": {
      "text/plain": [
       "array([[4.],\n",
       "       [2.],\n",
       "       [5.],\n",
       "       [3.],\n",
       "       [2.]])"
      ]
     },
     "execution_count": 211,
     "metadata": {},
     "output_type": "execute_result"
    }
   ],
   "source": [
    "# Apply ordinal encoder to parental level of education column\n",
    "oe.fit_transform(data[['parental level of education']])[:5]"
   ]
  },
  {
   "cell_type": "code",
   "execution_count": 212,
   "metadata": {
    "colab": {
     "base_uri": "https://localhost:8080/"
    },
    "executionInfo": {
     "elapsed": 996,
     "status": "ok",
     "timestamp": 1679669092930,
     "user": {
      "displayName": "Diego P",
      "userId": "14448528258399483719"
     },
     "user_tz": 180
    },
    "id": "GM50qFwiZxv8",
    "outputId": "01da1a1d-33c9-46b6-f520-fc048acd6f67"
   },
   "outputs": [
    {
     "data": {
      "text/plain": [
       "0     bachelor's degree\n",
       "1          some college\n",
       "2       master's degree\n",
       "3    associate's degree\n",
       "4          some college\n",
       "Name: parental level of education, dtype: object"
      ]
     },
     "execution_count": 212,
     "metadata": {},
     "output_type": "execute_result"
    }
   ],
   "source": [
    "# First 5 rows of parental level of education for comparison\n",
    "data['parental level of education'].head()"
   ]
  },
  {
   "cell_type": "markdown",
   "metadata": {
    "id": "Yx5cA6DbaJuj"
   },
   "source": [
    "Obsérvese que **OrdinalEncoder** ha asignado el valor 0 a alguna escuela secundaria, 1 a la escuela superior, 2 a alguna universidad, 3 al grado de asociado, 4 a la licenciatura y, por último, 5 a la maestría.\n",
    "\n",
    "### 7.2.2 Método del mapa de Pandas\n",
    "El método de mapa de Pandas es un enfoque más manual para la codificación de variables ordinales. Aunque replica el resultado del OrdinalEncoder, no es ideal para codificar variables ordinales con un alto número de valores únicos."
   ]
  },
  {
   "cell_type": "code",
   "execution_count": 213,
   "metadata": {
    "colab": {
     "base_uri": "https://localhost:8080/"
    },
    "executionInfo": {
     "elapsed": 251,
     "status": "ok",
     "timestamp": 1679669103834,
     "user": {
      "displayName": "Diego P",
      "userId": "14448528258399483719"
     },
     "user_tz": 180
    },
    "id": "j9mpfpYuaXVZ",
    "outputId": "09a5e998-0672-41a3-97bf-f8169c8cea5e"
   },
   "outputs": [
    {
     "data": {
      "text/plain": [
       "0    4\n",
       "1    2\n",
       "2    5\n",
       "3    3\n",
       "4    2\n",
       "Name: parental level of education, dtype: int64"
      ]
     },
     "execution_count": 213,
     "metadata": {},
     "output_type": "execute_result"
    }
   ],
   "source": [
    "# Pandas map method\n",
    "data['parental level of education'].map({'some high school': 0,\n",
    "                                        'high school': 1,\n",
    "                                        'some college': 2,\n",
    "                                        \"associate's degree\": 3,\n",
    "                                        \"bachelor's degree\": 4,\n",
    "                                        \"master's degree\": 5}).head()"
   ]
  },
  {
   "cell_type": "markdown",
   "metadata": {
    "id": "2ha3aHEHaouc"
   },
   "source": [
    "## 7.3 Hacer transformador de columnas (column transformer)\n",
    "\n",
    "Para el resto de este Colab, sólo consideraremos **OneHotEncoder** y **OrdinalEncoder** como métodos para codificar las variables categóricas en nuestro conjunto de datos.\n",
    "\n",
    "En esta sección, combinaremos **OneHotEncoder** y **OrdinalEncoder** en un transformador de columnas de un solo paso utilizando el método `make_column_transformer` de la biblioteca **scikit-learn**.\n",
    "\n",
    "### ¿Qué es `make_column_transformer`?\n",
    "\n",
    "El método `make_column_transformer` es una función de **scikit-learn** que facilita la creación de un transformador de columnas de manera concisa y estructurada. Permite aplicar diferentes transformaciones a diferentes columnas del conjunto de datos, todo en un solo objeto transformador. Este enfoque es particularmente útil cuando el conjunto de datos contiene una combinación de columnas categóricas y numéricas que requieren diferentes tipos de preprocesamiento.\n",
    "\n",
    "### Principales ventajas de `make_column_transformer`:\n",
    "\n",
    "1. **Facilidad de uso**: Permite especificar qué transformador aplicar a cada conjunto de columnas, reduciendo la complejidad del código.\n",
    "2. **Flexibilidad**: Soporta múltiples tipos de transformaciones, incluyendo encoders (como `OneHotEncoder` y `OrdinalEncoder`), escaladores (`StandardScaler`, `MinMaxScaler`) y más.\n",
    "3. **Pipeline compatible**: El transformador resultante se puede integrar fácilmente en un pipeline de aprendizaje automático de **scikit-learn**.\n",
    "4. **Manejo automático de columnas no especificadas**: Permite configurar cómo se manejan las columnas que no están explícitamente incluidas en el transformador.\n",
    "\n",
    "### Ejemplo práctico:\n",
    "\n",
    "A continuación, se muestra un ejemplo de cómo crear un transformador de columnas que aplique `OneHotEncoder` a algunas columnas categóricas y `OrdinalEncoder` a otras:\n",
    "\n",
    "```python\n",
    "from sklearn.compose import make_column_transformer\n",
    "from sklearn.preprocessing import OneHotEncoder, OrdinalEncoder\n",
    "\n",
    "# Definimos las columnas y sus transformadores\n",
    "column_transformer = make_column_transformer(\n",
    "    (OneHotEncoder(), ['column_a', 'column_b']),  # Aplicar OneHotEncoder a column_a y column_b\n",
    "    (OrdinalEncoder(), ['column_c']),            # Aplicar OrdinalEncoder a column_c\n",
    "    remainder='passthrough'                      # Las columnas no especificadas se dejan sin transformar\n",
    ")\n",
    "\n",
    "# Ajuste del transformador al conjunto de datos\n",
    "column_transformer.fit(X_train)\n",
    "\n",
    "# Transformación de los datos\n",
    "X_train_transformed = column_transformer.transform(X_train)\n",
    "X_test_transformed = column_transformer.transform(X_test)\n",
    "```"
   ]
  },
  {
   "cell_type": "code",
   "execution_count": 214,
   "metadata": {
    "id": "tSH2OYjJaxyW"
   },
   "outputs": [],
   "source": [
    "# Get predictor variables and target variable from data\n",
    "X = data.drop('mean score', axis = 1)\n",
    "y = data['mean score']"
   ]
  },
  {
   "cell_type": "code",
   "execution_count": 215,
   "metadata": {},
   "outputs": [
    {
     "data": {
      "text/html": [
       "<div>\n",
       "<style scoped>\n",
       "    .dataframe tbody tr th:only-of-type {\n",
       "        vertical-align: middle;\n",
       "    }\n",
       "\n",
       "    .dataframe tbody tr th {\n",
       "        vertical-align: top;\n",
       "    }\n",
       "\n",
       "    .dataframe thead th {\n",
       "        text-align: right;\n",
       "    }\n",
       "</style>\n",
       "<table border=\"1\" class=\"dataframe\">\n",
       "  <thead>\n",
       "    <tr style=\"text-align: right;\">\n",
       "      <th></th>\n",
       "      <th>gender</th>\n",
       "      <th>race/ethnicity</th>\n",
       "      <th>parental level of education</th>\n",
       "      <th>lunch</th>\n",
       "      <th>test preparation course</th>\n",
       "    </tr>\n",
       "  </thead>\n",
       "  <tbody>\n",
       "    <tr>\n",
       "      <th>0</th>\n",
       "      <td>female</td>\n",
       "      <td>group B</td>\n",
       "      <td>bachelor's degree</td>\n",
       "      <td>standard</td>\n",
       "      <td>none</td>\n",
       "    </tr>\n",
       "    <tr>\n",
       "      <th>1</th>\n",
       "      <td>female</td>\n",
       "      <td>group C</td>\n",
       "      <td>some college</td>\n",
       "      <td>standard</td>\n",
       "      <td>completed</td>\n",
       "    </tr>\n",
       "    <tr>\n",
       "      <th>2</th>\n",
       "      <td>female</td>\n",
       "      <td>group B</td>\n",
       "      <td>master's degree</td>\n",
       "      <td>standard</td>\n",
       "      <td>none</td>\n",
       "    </tr>\n",
       "    <tr>\n",
       "      <th>3</th>\n",
       "      <td>male</td>\n",
       "      <td>group A</td>\n",
       "      <td>associate's degree</td>\n",
       "      <td>free/reduced</td>\n",
       "      <td>none</td>\n",
       "    </tr>\n",
       "    <tr>\n",
       "      <th>4</th>\n",
       "      <td>male</td>\n",
       "      <td>group C</td>\n",
       "      <td>some college</td>\n",
       "      <td>standard</td>\n",
       "      <td>none</td>\n",
       "    </tr>\n",
       "    <tr>\n",
       "      <th>...</th>\n",
       "      <td>...</td>\n",
       "      <td>...</td>\n",
       "      <td>...</td>\n",
       "      <td>...</td>\n",
       "      <td>...</td>\n",
       "    </tr>\n",
       "    <tr>\n",
       "      <th>995</th>\n",
       "      <td>female</td>\n",
       "      <td>group E</td>\n",
       "      <td>master's degree</td>\n",
       "      <td>standard</td>\n",
       "      <td>completed</td>\n",
       "    </tr>\n",
       "    <tr>\n",
       "      <th>996</th>\n",
       "      <td>male</td>\n",
       "      <td>group C</td>\n",
       "      <td>high school</td>\n",
       "      <td>free/reduced</td>\n",
       "      <td>none</td>\n",
       "    </tr>\n",
       "    <tr>\n",
       "      <th>997</th>\n",
       "      <td>female</td>\n",
       "      <td>group C</td>\n",
       "      <td>high school</td>\n",
       "      <td>free/reduced</td>\n",
       "      <td>completed</td>\n",
       "    </tr>\n",
       "    <tr>\n",
       "      <th>998</th>\n",
       "      <td>female</td>\n",
       "      <td>group D</td>\n",
       "      <td>some college</td>\n",
       "      <td>standard</td>\n",
       "      <td>completed</td>\n",
       "    </tr>\n",
       "    <tr>\n",
       "      <th>999</th>\n",
       "      <td>female</td>\n",
       "      <td>group D</td>\n",
       "      <td>some college</td>\n",
       "      <td>free/reduced</td>\n",
       "      <td>none</td>\n",
       "    </tr>\n",
       "  </tbody>\n",
       "</table>\n",
       "<p>1000 rows × 5 columns</p>\n",
       "</div>"
      ],
      "text/plain": [
       "     gender race/ethnicity parental level of education         lunch  \\\n",
       "0    female        group B           bachelor's degree      standard   \n",
       "1    female        group C                some college      standard   \n",
       "2    female        group B             master's degree      standard   \n",
       "3      male        group A          associate's degree  free/reduced   \n",
       "4      male        group C                some college      standard   \n",
       "..      ...            ...                         ...           ...   \n",
       "995  female        group E             master's degree      standard   \n",
       "996    male        group C                 high school  free/reduced   \n",
       "997  female        group C                 high school  free/reduced   \n",
       "998  female        group D                some college      standard   \n",
       "999  female        group D                some college  free/reduced   \n",
       "\n",
       "    test preparation course  \n",
       "0                      none  \n",
       "1                 completed  \n",
       "2                      none  \n",
       "3                      none  \n",
       "4                      none  \n",
       "..                      ...  \n",
       "995               completed  \n",
       "996                    none  \n",
       "997               completed  \n",
       "998               completed  \n",
       "999                    none  \n",
       "\n",
       "[1000 rows x 5 columns]"
      ]
     },
     "execution_count": 215,
     "metadata": {},
     "output_type": "execute_result"
    }
   ],
   "source": [
    "X"
   ]
  },
  {
   "cell_type": "code",
   "execution_count": 216,
   "metadata": {
    "id": "cfYws8Bvazfn"
   },
   "outputs": [],
   "source": [
    "# Make column transformer which consists of OneHotEncoder and OrdincalEncoder\n",
    "column_transform = make_column_transformer(\n",
    "    (ohe, ['gender', 'race/ethnicity', 'lunch', 'test preparation course']),\n",
    "    (oe, ['parental level of education']))"
   ]
  },
  {
   "cell_type": "code",
   "execution_count": 217,
   "metadata": {
    "colab": {
     "base_uri": "https://localhost:8080/"
    },
    "executionInfo": {
     "elapsed": 3,
     "status": "ok",
     "timestamp": 1679669142409,
     "user": {
      "displayName": "Diego P",
      "userId": "14448528258399483719"
     },
     "user_tz": 180
    },
    "id": "32keuxkMa1NK",
    "outputId": "54f11bb1-198d-4dc9-e5a3-6fae97a02f47"
   },
   "outputs": [
    {
     "data": {
      "text/plain": [
       "array([[0., 1., 0., 0., 0., 1., 1., 4.],\n",
       "       [0., 0., 1., 0., 0., 1., 0., 2.],\n",
       "       [0., 1., 0., 0., 0., 1., 1., 5.],\n",
       "       [1., 0., 0., 0., 0., 0., 1., 3.],\n",
       "       [1., 0., 1., 0., 0., 1., 1., 2.]])"
      ]
     },
     "execution_count": 217,
     "metadata": {},
     "output_type": "execute_result"
    }
   ],
   "source": [
    "# Apply column transformer to predictor variables\n",
    "column_transform.fit_transform(X)[:5]"
   ]
  },
  {
   "cell_type": "markdown",
   "metadata": {
    "id": "HWH39zotbcfr"
   },
   "source": [
    "# 8. Construir una cadena (pipeline) de aprendizaje automático\n",
    "\n",
    "Una **cadena de aprendizaje automático** (pipeline) permite encadenar múltiples pasos del proceso de aprendizaje automático, donde la salida de cada paso se utiliza como entrada para el siguiente. Este enfoque es especialmente útil para combinar el preprocesamiento de datos y el modelado en un flujo de trabajo estructurado y cohesivo, asegurando que todas las transformaciones y ajustes se realicen de manera consistente durante el entrenamiento y la evaluación.\n",
    "\n",
    "### Ventajas de utilizar pipelines:\n",
    "\n",
    "1. **Eficiencia**: Simplifican el flujo de trabajo al unificar los pasos en un solo objeto.\n",
    "2. **Evitan fugas de datos**: Garantizan que las transformaciones del preprocesamiento solo utilicen datos del conjunto de entrenamiento durante el ajuste.\n",
    "3. **Reproducibilidad**: Facilitan la replicación del proceso completo con nuevos datos.\n",
    "4. **Compatibilidad**: Se integran fácilmente con herramientas de validación cruzada y búsqueda de hiperparámetros en **scikit-learn**."
   ]
  },
  {
   "cell_type": "code",
   "execution_count": 218,
   "metadata": {
    "colab": {
     "base_uri": "https://localhost:8080/"
    },
    "executionInfo": {
     "elapsed": 242,
     "status": "ok",
     "timestamp": 1679669310486,
     "user": {
      "displayName": "Diego P",
      "userId": "14448528258399483719"
     },
     "user_tz": 180
    },
    "id": "HIgXPo-GbO1Z",
    "outputId": "dfa0aa39-94ae-49d6-901d-1d546dfe25d2"
   },
   "outputs": [
    {
     "name": "stdout",
     "output_type": "stream",
     "text": [
      "X_train shape:  (700, 5)\n",
      "y_train shape:  (700,)\n",
      "X_test shape:  (300, 5)\n",
      "y_test shape:  (300,)\n"
     ]
    }
   ],
   "source": [
    "# Train test split\n",
    "X_train, X_test, y_train, y_test = train_test_split(X, y, test_size = 0.3, random_state = 42)\n",
    "\n",
    "print(\"X_train shape: \", X_train.shape)\n",
    "print(\"y_train shape: \", y_train.shape)\n",
    "print(\"X_test shape: \", X_test.shape)\n",
    "print(\"y_test shape: \", y_test.shape)"
   ]
  },
  {
   "cell_type": "code",
   "execution_count": 219,
   "metadata": {
    "id": "6sCIAtLqb0K9"
   },
   "outputs": [],
   "source": [
    "# Crear el pipeline nombrando los pasos\n",
    "lm_pipeline = Pipeline([\n",
    "    ('preprocessor', column_transform),  # Paso de preprocesamiento\n",
    "    ('model', LinearRegression())          # Modelo de regresión lineal\n",
    "])"
   ]
  },
  {
   "cell_type": "code",
   "execution_count": 220,
   "metadata": {},
   "outputs": [
    {
     "data": {
      "text/html": [
       "<style>#sk-container-id-4 {\n",
       "  /* Definition of color scheme common for light and dark mode */\n",
       "  --sklearn-color-text: black;\n",
       "  --sklearn-color-line: gray;\n",
       "  /* Definition of color scheme for unfitted estimators */\n",
       "  --sklearn-color-unfitted-level-0: #fff5e6;\n",
       "  --sklearn-color-unfitted-level-1: #f6e4d2;\n",
       "  --sklearn-color-unfitted-level-2: #ffe0b3;\n",
       "  --sklearn-color-unfitted-level-3: chocolate;\n",
       "  /* Definition of color scheme for fitted estimators */\n",
       "  --sklearn-color-fitted-level-0: #f0f8ff;\n",
       "  --sklearn-color-fitted-level-1: #d4ebff;\n",
       "  --sklearn-color-fitted-level-2: #b3dbfd;\n",
       "  --sklearn-color-fitted-level-3: cornflowerblue;\n",
       "\n",
       "  /* Specific color for light theme */\n",
       "  --sklearn-color-text-on-default-background: var(--sg-text-color, var(--theme-code-foreground, var(--jp-content-font-color1, black)));\n",
       "  --sklearn-color-background: var(--sg-background-color, var(--theme-background, var(--jp-layout-color0, white)));\n",
       "  --sklearn-color-border-box: var(--sg-text-color, var(--theme-code-foreground, var(--jp-content-font-color1, black)));\n",
       "  --sklearn-color-icon: #696969;\n",
       "\n",
       "  @media (prefers-color-scheme: dark) {\n",
       "    /* Redefinition of color scheme for dark theme */\n",
       "    --sklearn-color-text-on-default-background: var(--sg-text-color, var(--theme-code-foreground, var(--jp-content-font-color1, white)));\n",
       "    --sklearn-color-background: var(--sg-background-color, var(--theme-background, var(--jp-layout-color0, #111)));\n",
       "    --sklearn-color-border-box: var(--sg-text-color, var(--theme-code-foreground, var(--jp-content-font-color1, white)));\n",
       "    --sklearn-color-icon: #878787;\n",
       "  }\n",
       "}\n",
       "\n",
       "#sk-container-id-4 {\n",
       "  color: var(--sklearn-color-text);\n",
       "}\n",
       "\n",
       "#sk-container-id-4 pre {\n",
       "  padding: 0;\n",
       "}\n",
       "\n",
       "#sk-container-id-4 input.sk-hidden--visually {\n",
       "  border: 0;\n",
       "  clip: rect(1px 1px 1px 1px);\n",
       "  clip: rect(1px, 1px, 1px, 1px);\n",
       "  height: 1px;\n",
       "  margin: -1px;\n",
       "  overflow: hidden;\n",
       "  padding: 0;\n",
       "  position: absolute;\n",
       "  width: 1px;\n",
       "}\n",
       "\n",
       "#sk-container-id-4 div.sk-dashed-wrapped {\n",
       "  border: 1px dashed var(--sklearn-color-line);\n",
       "  margin: 0 0.4em 0.5em 0.4em;\n",
       "  box-sizing: border-box;\n",
       "  padding-bottom: 0.4em;\n",
       "  background-color: var(--sklearn-color-background);\n",
       "}\n",
       "\n",
       "#sk-container-id-4 div.sk-container {\n",
       "  /* jupyter's `normalize.less` sets `[hidden] { display: none; }`\n",
       "     but bootstrap.min.css set `[hidden] { display: none !important; }`\n",
       "     so we also need the `!important` here to be able to override the\n",
       "     default hidden behavior on the sphinx rendered scikit-learn.org.\n",
       "     See: https://github.com/scikit-learn/scikit-learn/issues/21755 */\n",
       "  display: inline-block !important;\n",
       "  position: relative;\n",
       "}\n",
       "\n",
       "#sk-container-id-4 div.sk-text-repr-fallback {\n",
       "  display: none;\n",
       "}\n",
       "\n",
       "div.sk-parallel-item,\n",
       "div.sk-serial,\n",
       "div.sk-item {\n",
       "  /* draw centered vertical line to link estimators */\n",
       "  background-image: linear-gradient(var(--sklearn-color-text-on-default-background), var(--sklearn-color-text-on-default-background));\n",
       "  background-size: 2px 100%;\n",
       "  background-repeat: no-repeat;\n",
       "  background-position: center center;\n",
       "}\n",
       "\n",
       "/* Parallel-specific style estimator block */\n",
       "\n",
       "#sk-container-id-4 div.sk-parallel-item::after {\n",
       "  content: \"\";\n",
       "  width: 100%;\n",
       "  border-bottom: 2px solid var(--sklearn-color-text-on-default-background);\n",
       "  flex-grow: 1;\n",
       "}\n",
       "\n",
       "#sk-container-id-4 div.sk-parallel {\n",
       "  display: flex;\n",
       "  align-items: stretch;\n",
       "  justify-content: center;\n",
       "  background-color: var(--sklearn-color-background);\n",
       "  position: relative;\n",
       "}\n",
       "\n",
       "#sk-container-id-4 div.sk-parallel-item {\n",
       "  display: flex;\n",
       "  flex-direction: column;\n",
       "}\n",
       "\n",
       "#sk-container-id-4 div.sk-parallel-item:first-child::after {\n",
       "  align-self: flex-end;\n",
       "  width: 50%;\n",
       "}\n",
       "\n",
       "#sk-container-id-4 div.sk-parallel-item:last-child::after {\n",
       "  align-self: flex-start;\n",
       "  width: 50%;\n",
       "}\n",
       "\n",
       "#sk-container-id-4 div.sk-parallel-item:only-child::after {\n",
       "  width: 0;\n",
       "}\n",
       "\n",
       "/* Serial-specific style estimator block */\n",
       "\n",
       "#sk-container-id-4 div.sk-serial {\n",
       "  display: flex;\n",
       "  flex-direction: column;\n",
       "  align-items: center;\n",
       "  background-color: var(--sklearn-color-background);\n",
       "  padding-right: 1em;\n",
       "  padding-left: 1em;\n",
       "}\n",
       "\n",
       "\n",
       "/* Toggleable style: style used for estimator/Pipeline/ColumnTransformer box that is\n",
       "clickable and can be expanded/collapsed.\n",
       "- Pipeline and ColumnTransformer use this feature and define the default style\n",
       "- Estimators will overwrite some part of the style using the `sk-estimator` class\n",
       "*/\n",
       "\n",
       "/* Pipeline and ColumnTransformer style (default) */\n",
       "\n",
       "#sk-container-id-4 div.sk-toggleable {\n",
       "  /* Default theme specific background. It is overwritten whether we have a\n",
       "  specific estimator or a Pipeline/ColumnTransformer */\n",
       "  background-color: var(--sklearn-color-background);\n",
       "}\n",
       "\n",
       "/* Toggleable label */\n",
       "#sk-container-id-4 label.sk-toggleable__label {\n",
       "  cursor: pointer;\n",
       "  display: block;\n",
       "  width: 100%;\n",
       "  margin-bottom: 0;\n",
       "  padding: 0.5em;\n",
       "  box-sizing: border-box;\n",
       "  text-align: center;\n",
       "}\n",
       "\n",
       "#sk-container-id-4 label.sk-toggleable__label-arrow:before {\n",
       "  /* Arrow on the left of the label */\n",
       "  content: \"▸\";\n",
       "  float: left;\n",
       "  margin-right: 0.25em;\n",
       "  color: var(--sklearn-color-icon);\n",
       "}\n",
       "\n",
       "#sk-container-id-4 label.sk-toggleable__label-arrow:hover:before {\n",
       "  color: var(--sklearn-color-text);\n",
       "}\n",
       "\n",
       "/* Toggleable content - dropdown */\n",
       "\n",
       "#sk-container-id-4 div.sk-toggleable__content {\n",
       "  max-height: 0;\n",
       "  max-width: 0;\n",
       "  overflow: hidden;\n",
       "  text-align: left;\n",
       "  /* unfitted */\n",
       "  background-color: var(--sklearn-color-unfitted-level-0);\n",
       "}\n",
       "\n",
       "#sk-container-id-4 div.sk-toggleable__content.fitted {\n",
       "  /* fitted */\n",
       "  background-color: var(--sklearn-color-fitted-level-0);\n",
       "}\n",
       "\n",
       "#sk-container-id-4 div.sk-toggleable__content pre {\n",
       "  margin: 0.2em;\n",
       "  border-radius: 0.25em;\n",
       "  color: var(--sklearn-color-text);\n",
       "  /* unfitted */\n",
       "  background-color: var(--sklearn-color-unfitted-level-0);\n",
       "}\n",
       "\n",
       "#sk-container-id-4 div.sk-toggleable__content.fitted pre {\n",
       "  /* unfitted */\n",
       "  background-color: var(--sklearn-color-fitted-level-0);\n",
       "}\n",
       "\n",
       "#sk-container-id-4 input.sk-toggleable__control:checked~div.sk-toggleable__content {\n",
       "  /* Expand drop-down */\n",
       "  max-height: 200px;\n",
       "  max-width: 100%;\n",
       "  overflow: auto;\n",
       "}\n",
       "\n",
       "#sk-container-id-4 input.sk-toggleable__control:checked~label.sk-toggleable__label-arrow:before {\n",
       "  content: \"▾\";\n",
       "}\n",
       "\n",
       "/* Pipeline/ColumnTransformer-specific style */\n",
       "\n",
       "#sk-container-id-4 div.sk-label input.sk-toggleable__control:checked~label.sk-toggleable__label {\n",
       "  color: var(--sklearn-color-text);\n",
       "  background-color: var(--sklearn-color-unfitted-level-2);\n",
       "}\n",
       "\n",
       "#sk-container-id-4 div.sk-label.fitted input.sk-toggleable__control:checked~label.sk-toggleable__label {\n",
       "  background-color: var(--sklearn-color-fitted-level-2);\n",
       "}\n",
       "\n",
       "/* Estimator-specific style */\n",
       "\n",
       "/* Colorize estimator box */\n",
       "#sk-container-id-4 div.sk-estimator input.sk-toggleable__control:checked~label.sk-toggleable__label {\n",
       "  /* unfitted */\n",
       "  background-color: var(--sklearn-color-unfitted-level-2);\n",
       "}\n",
       "\n",
       "#sk-container-id-4 div.sk-estimator.fitted input.sk-toggleable__control:checked~label.sk-toggleable__label {\n",
       "  /* fitted */\n",
       "  background-color: var(--sklearn-color-fitted-level-2);\n",
       "}\n",
       "\n",
       "#sk-container-id-4 div.sk-label label.sk-toggleable__label,\n",
       "#sk-container-id-4 div.sk-label label {\n",
       "  /* The background is the default theme color */\n",
       "  color: var(--sklearn-color-text-on-default-background);\n",
       "}\n",
       "\n",
       "/* On hover, darken the color of the background */\n",
       "#sk-container-id-4 div.sk-label:hover label.sk-toggleable__label {\n",
       "  color: var(--sklearn-color-text);\n",
       "  background-color: var(--sklearn-color-unfitted-level-2);\n",
       "}\n",
       "\n",
       "/* Label box, darken color on hover, fitted */\n",
       "#sk-container-id-4 div.sk-label.fitted:hover label.sk-toggleable__label.fitted {\n",
       "  color: var(--sklearn-color-text);\n",
       "  background-color: var(--sklearn-color-fitted-level-2);\n",
       "}\n",
       "\n",
       "/* Estimator label */\n",
       "\n",
       "#sk-container-id-4 div.sk-label label {\n",
       "  font-family: monospace;\n",
       "  font-weight: bold;\n",
       "  display: inline-block;\n",
       "  line-height: 1.2em;\n",
       "}\n",
       "\n",
       "#sk-container-id-4 div.sk-label-container {\n",
       "  text-align: center;\n",
       "}\n",
       "\n",
       "/* Estimator-specific */\n",
       "#sk-container-id-4 div.sk-estimator {\n",
       "  font-family: monospace;\n",
       "  border: 1px dotted var(--sklearn-color-border-box);\n",
       "  border-radius: 0.25em;\n",
       "  box-sizing: border-box;\n",
       "  margin-bottom: 0.5em;\n",
       "  /* unfitted */\n",
       "  background-color: var(--sklearn-color-unfitted-level-0);\n",
       "}\n",
       "\n",
       "#sk-container-id-4 div.sk-estimator.fitted {\n",
       "  /* fitted */\n",
       "  background-color: var(--sklearn-color-fitted-level-0);\n",
       "}\n",
       "\n",
       "/* on hover */\n",
       "#sk-container-id-4 div.sk-estimator:hover {\n",
       "  /* unfitted */\n",
       "  background-color: var(--sklearn-color-unfitted-level-2);\n",
       "}\n",
       "\n",
       "#sk-container-id-4 div.sk-estimator.fitted:hover {\n",
       "  /* fitted */\n",
       "  background-color: var(--sklearn-color-fitted-level-2);\n",
       "}\n",
       "\n",
       "/* Specification for estimator info (e.g. \"i\" and \"?\") */\n",
       "\n",
       "/* Common style for \"i\" and \"?\" */\n",
       "\n",
       ".sk-estimator-doc-link,\n",
       "a:link.sk-estimator-doc-link,\n",
       "a:visited.sk-estimator-doc-link {\n",
       "  float: right;\n",
       "  font-size: smaller;\n",
       "  line-height: 1em;\n",
       "  font-family: monospace;\n",
       "  background-color: var(--sklearn-color-background);\n",
       "  border-radius: 1em;\n",
       "  height: 1em;\n",
       "  width: 1em;\n",
       "  text-decoration: none !important;\n",
       "  margin-left: 1ex;\n",
       "  /* unfitted */\n",
       "  border: var(--sklearn-color-unfitted-level-1) 1pt solid;\n",
       "  color: var(--sklearn-color-unfitted-level-1);\n",
       "}\n",
       "\n",
       ".sk-estimator-doc-link.fitted,\n",
       "a:link.sk-estimator-doc-link.fitted,\n",
       "a:visited.sk-estimator-doc-link.fitted {\n",
       "  /* fitted */\n",
       "  border: var(--sklearn-color-fitted-level-1) 1pt solid;\n",
       "  color: var(--sklearn-color-fitted-level-1);\n",
       "}\n",
       "\n",
       "/* On hover */\n",
       "div.sk-estimator:hover .sk-estimator-doc-link:hover,\n",
       ".sk-estimator-doc-link:hover,\n",
       "div.sk-label-container:hover .sk-estimator-doc-link:hover,\n",
       ".sk-estimator-doc-link:hover {\n",
       "  /* unfitted */\n",
       "  background-color: var(--sklearn-color-unfitted-level-3);\n",
       "  color: var(--sklearn-color-background);\n",
       "  text-decoration: none;\n",
       "}\n",
       "\n",
       "div.sk-estimator.fitted:hover .sk-estimator-doc-link.fitted:hover,\n",
       ".sk-estimator-doc-link.fitted:hover,\n",
       "div.sk-label-container:hover .sk-estimator-doc-link.fitted:hover,\n",
       ".sk-estimator-doc-link.fitted:hover {\n",
       "  /* fitted */\n",
       "  background-color: var(--sklearn-color-fitted-level-3);\n",
       "  color: var(--sklearn-color-background);\n",
       "  text-decoration: none;\n",
       "}\n",
       "\n",
       "/* Span, style for the box shown on hovering the info icon */\n",
       ".sk-estimator-doc-link span {\n",
       "  display: none;\n",
       "  z-index: 9999;\n",
       "  position: relative;\n",
       "  font-weight: normal;\n",
       "  right: .2ex;\n",
       "  padding: .5ex;\n",
       "  margin: .5ex;\n",
       "  width: min-content;\n",
       "  min-width: 20ex;\n",
       "  max-width: 50ex;\n",
       "  color: var(--sklearn-color-text);\n",
       "  box-shadow: 2pt 2pt 4pt #999;\n",
       "  /* unfitted */\n",
       "  background: var(--sklearn-color-unfitted-level-0);\n",
       "  border: .5pt solid var(--sklearn-color-unfitted-level-3);\n",
       "}\n",
       "\n",
       ".sk-estimator-doc-link.fitted span {\n",
       "  /* fitted */\n",
       "  background: var(--sklearn-color-fitted-level-0);\n",
       "  border: var(--sklearn-color-fitted-level-3);\n",
       "}\n",
       "\n",
       ".sk-estimator-doc-link:hover span {\n",
       "  display: block;\n",
       "}\n",
       "\n",
       "/* \"?\"-specific style due to the `<a>` HTML tag */\n",
       "\n",
       "#sk-container-id-4 a.estimator_doc_link {\n",
       "  float: right;\n",
       "  font-size: 1rem;\n",
       "  line-height: 1em;\n",
       "  font-family: monospace;\n",
       "  background-color: var(--sklearn-color-background);\n",
       "  border-radius: 1rem;\n",
       "  height: 1rem;\n",
       "  width: 1rem;\n",
       "  text-decoration: none;\n",
       "  /* unfitted */\n",
       "  color: var(--sklearn-color-unfitted-level-1);\n",
       "  border: var(--sklearn-color-unfitted-level-1) 1pt solid;\n",
       "}\n",
       "\n",
       "#sk-container-id-4 a.estimator_doc_link.fitted {\n",
       "  /* fitted */\n",
       "  border: var(--sklearn-color-fitted-level-1) 1pt solid;\n",
       "  color: var(--sklearn-color-fitted-level-1);\n",
       "}\n",
       "\n",
       "/* On hover */\n",
       "#sk-container-id-4 a.estimator_doc_link:hover {\n",
       "  /* unfitted */\n",
       "  background-color: var(--sklearn-color-unfitted-level-3);\n",
       "  color: var(--sklearn-color-background);\n",
       "  text-decoration: none;\n",
       "}\n",
       "\n",
       "#sk-container-id-4 a.estimator_doc_link.fitted:hover {\n",
       "  /* fitted */\n",
       "  background-color: var(--sklearn-color-fitted-level-3);\n",
       "}\n",
       "</style><div id=\"sk-container-id-4\" class=\"sk-top-container\"><div class=\"sk-text-repr-fallback\"><pre>Pipeline(steps=[(&#x27;preprocessor&#x27;,\n",
       "                 ColumnTransformer(transformers=[(&#x27;onehotencoder&#x27;,\n",
       "                                                  OneHotEncoder(drop=&#x27;first&#x27;,\n",
       "                                                                sparse_output=False),\n",
       "                                                  [&#x27;gender&#x27;, &#x27;race/ethnicity&#x27;,\n",
       "                                                   &#x27;lunch&#x27;,\n",
       "                                                   &#x27;test preparation course&#x27;]),\n",
       "                                                 (&#x27;ordinalencoder&#x27;,\n",
       "                                                  OrdinalEncoder(categories=[[&#x27;some &#x27;\n",
       "                                                                              &#x27;high &#x27;\n",
       "                                                                              &#x27;school&#x27;,\n",
       "                                                                              &#x27;high &#x27;\n",
       "                                                                              &#x27;school&#x27;,\n",
       "                                                                              &#x27;some &#x27;\n",
       "                                                                              &#x27;college&#x27;,\n",
       "                                                                              &quot;associate&#x27;s &quot;\n",
       "                                                                              &#x27;degree&#x27;,\n",
       "                                                                              &quot;bachelor&#x27;s &quot;\n",
       "                                                                              &#x27;degree&#x27;,\n",
       "                                                                              &quot;master&#x27;s &quot;\n",
       "                                                                              &#x27;degree&#x27;]]),\n",
       "                                                  [&#x27;parental level of &#x27;\n",
       "                                                   &#x27;education&#x27;])])),\n",
       "                (&#x27;model&#x27;, LinearRegression())])</pre><b>In a Jupyter environment, please rerun this cell to show the HTML representation or trust the notebook. <br />On GitHub, the HTML representation is unable to render, please try loading this page with nbviewer.org.</b></div><div class=\"sk-container\" hidden><div class=\"sk-item sk-dashed-wrapped\"><div class=\"sk-label-container\"><div class=\"sk-label  sk-toggleable\"><input class=\"sk-toggleable__control sk-hidden--visually\" id=\"sk-estimator-id-24\" type=\"checkbox\" ><label for=\"sk-estimator-id-24\" class=\"sk-toggleable__label  sk-toggleable__label-arrow \">&nbsp;&nbsp;Pipeline<a class=\"sk-estimator-doc-link \" rel=\"noreferrer\" target=\"_blank\" href=\"https://scikit-learn.org/1.5/modules/generated/sklearn.pipeline.Pipeline.html\">?<span>Documentation for Pipeline</span></a><span class=\"sk-estimator-doc-link \">i<span>Not fitted</span></span></label><div class=\"sk-toggleable__content \"><pre>Pipeline(steps=[(&#x27;preprocessor&#x27;,\n",
       "                 ColumnTransformer(transformers=[(&#x27;onehotencoder&#x27;,\n",
       "                                                  OneHotEncoder(drop=&#x27;first&#x27;,\n",
       "                                                                sparse_output=False),\n",
       "                                                  [&#x27;gender&#x27;, &#x27;race/ethnicity&#x27;,\n",
       "                                                   &#x27;lunch&#x27;,\n",
       "                                                   &#x27;test preparation course&#x27;]),\n",
       "                                                 (&#x27;ordinalencoder&#x27;,\n",
       "                                                  OrdinalEncoder(categories=[[&#x27;some &#x27;\n",
       "                                                                              &#x27;high &#x27;\n",
       "                                                                              &#x27;school&#x27;,\n",
       "                                                                              &#x27;high &#x27;\n",
       "                                                                              &#x27;school&#x27;,\n",
       "                                                                              &#x27;some &#x27;\n",
       "                                                                              &#x27;college&#x27;,\n",
       "                                                                              &quot;associate&#x27;s &quot;\n",
       "                                                                              &#x27;degree&#x27;,\n",
       "                                                                              &quot;bachelor&#x27;s &quot;\n",
       "                                                                              &#x27;degree&#x27;,\n",
       "                                                                              &quot;master&#x27;s &quot;\n",
       "                                                                              &#x27;degree&#x27;]]),\n",
       "                                                  [&#x27;parental level of &#x27;\n",
       "                                                   &#x27;education&#x27;])])),\n",
       "                (&#x27;model&#x27;, LinearRegression())])</pre></div> </div></div><div class=\"sk-serial\"><div class=\"sk-item sk-dashed-wrapped\"><div class=\"sk-label-container\"><div class=\"sk-label  sk-toggleable\"><input class=\"sk-toggleable__control sk-hidden--visually\" id=\"sk-estimator-id-25\" type=\"checkbox\" ><label for=\"sk-estimator-id-25\" class=\"sk-toggleable__label  sk-toggleable__label-arrow \">&nbsp;preprocessor: ColumnTransformer<a class=\"sk-estimator-doc-link \" rel=\"noreferrer\" target=\"_blank\" href=\"https://scikit-learn.org/1.5/modules/generated/sklearn.compose.ColumnTransformer.html\">?<span>Documentation for preprocessor: ColumnTransformer</span></a></label><div class=\"sk-toggleable__content \"><pre>ColumnTransformer(transformers=[(&#x27;onehotencoder&#x27;,\n",
       "                                 OneHotEncoder(drop=&#x27;first&#x27;,\n",
       "                                               sparse_output=False),\n",
       "                                 [&#x27;gender&#x27;, &#x27;race/ethnicity&#x27;, &#x27;lunch&#x27;,\n",
       "                                  &#x27;test preparation course&#x27;]),\n",
       "                                (&#x27;ordinalencoder&#x27;,\n",
       "                                 OrdinalEncoder(categories=[[&#x27;some high school&#x27;,\n",
       "                                                             &#x27;high school&#x27;,\n",
       "                                                             &#x27;some college&#x27;,\n",
       "                                                             &quot;associate&#x27;s &quot;\n",
       "                                                             &#x27;degree&#x27;,\n",
       "                                                             &quot;bachelor&#x27;s &quot;\n",
       "                                                             &#x27;degree&#x27;,\n",
       "                                                             &quot;master&#x27;s &quot;\n",
       "                                                             &#x27;degree&#x27;]]),\n",
       "                                 [&#x27;parental level of education&#x27;])])</pre></div> </div></div><div class=\"sk-parallel\"><div class=\"sk-parallel-item\"><div class=\"sk-item\"><div class=\"sk-label-container\"><div class=\"sk-label  sk-toggleable\"><input class=\"sk-toggleable__control sk-hidden--visually\" id=\"sk-estimator-id-26\" type=\"checkbox\" ><label for=\"sk-estimator-id-26\" class=\"sk-toggleable__label  sk-toggleable__label-arrow \">onehotencoder</label><div class=\"sk-toggleable__content \"><pre>[&#x27;gender&#x27;, &#x27;race/ethnicity&#x27;, &#x27;lunch&#x27;, &#x27;test preparation course&#x27;]</pre></div> </div></div><div class=\"sk-serial\"><div class=\"sk-item\"><div class=\"sk-estimator  sk-toggleable\"><input class=\"sk-toggleable__control sk-hidden--visually\" id=\"sk-estimator-id-27\" type=\"checkbox\" ><label for=\"sk-estimator-id-27\" class=\"sk-toggleable__label  sk-toggleable__label-arrow \">&nbsp;OneHotEncoder<a class=\"sk-estimator-doc-link \" rel=\"noreferrer\" target=\"_blank\" href=\"https://scikit-learn.org/1.5/modules/generated/sklearn.preprocessing.OneHotEncoder.html\">?<span>Documentation for OneHotEncoder</span></a></label><div class=\"sk-toggleable__content \"><pre>OneHotEncoder(drop=&#x27;first&#x27;, sparse_output=False)</pre></div> </div></div></div></div></div><div class=\"sk-parallel-item\"><div class=\"sk-item\"><div class=\"sk-label-container\"><div class=\"sk-label  sk-toggleable\"><input class=\"sk-toggleable__control sk-hidden--visually\" id=\"sk-estimator-id-28\" type=\"checkbox\" ><label for=\"sk-estimator-id-28\" class=\"sk-toggleable__label  sk-toggleable__label-arrow \">ordinalencoder</label><div class=\"sk-toggleable__content \"><pre>[&#x27;parental level of education&#x27;]</pre></div> </div></div><div class=\"sk-serial\"><div class=\"sk-item\"><div class=\"sk-estimator  sk-toggleable\"><input class=\"sk-toggleable__control sk-hidden--visually\" id=\"sk-estimator-id-29\" type=\"checkbox\" ><label for=\"sk-estimator-id-29\" class=\"sk-toggleable__label  sk-toggleable__label-arrow \">&nbsp;OrdinalEncoder<a class=\"sk-estimator-doc-link \" rel=\"noreferrer\" target=\"_blank\" href=\"https://scikit-learn.org/1.5/modules/generated/sklearn.preprocessing.OrdinalEncoder.html\">?<span>Documentation for OrdinalEncoder</span></a></label><div class=\"sk-toggleable__content \"><pre>OrdinalEncoder(categories=[[&#x27;some high school&#x27;, &#x27;high school&#x27;, &#x27;some college&#x27;,\n",
       "                            &quot;associate&#x27;s degree&quot;, &quot;bachelor&#x27;s degree&quot;,\n",
       "                            &quot;master&#x27;s degree&quot;]])</pre></div> </div></div></div></div></div></div></div><div class=\"sk-item\"><div class=\"sk-estimator  sk-toggleable\"><input class=\"sk-toggleable__control sk-hidden--visually\" id=\"sk-estimator-id-30\" type=\"checkbox\" ><label for=\"sk-estimator-id-30\" class=\"sk-toggleable__label  sk-toggleable__label-arrow \">&nbsp;LinearRegression<a class=\"sk-estimator-doc-link \" rel=\"noreferrer\" target=\"_blank\" href=\"https://scikit-learn.org/1.5/modules/generated/sklearn.linear_model.LinearRegression.html\">?<span>Documentation for LinearRegression</span></a></label><div class=\"sk-toggleable__content \"><pre>LinearRegression()</pre></div> </div></div></div></div></div></div>"
      ],
      "text/plain": [
       "Pipeline(steps=[('preprocessor',\n",
       "                 ColumnTransformer(transformers=[('onehotencoder',\n",
       "                                                  OneHotEncoder(drop='first',\n",
       "                                                                sparse_output=False),\n",
       "                                                  ['gender', 'race/ethnicity',\n",
       "                                                   'lunch',\n",
       "                                                   'test preparation course']),\n",
       "                                                 ('ordinalencoder',\n",
       "                                                  OrdinalEncoder(categories=[['some '\n",
       "                                                                              'high '\n",
       "                                                                              'school',\n",
       "                                                                              'high '\n",
       "                                                                              'school',\n",
       "                                                                              'some '\n",
       "                                                                              'college',\n",
       "                                                                              \"associate's \"\n",
       "                                                                              'degree',\n",
       "                                                                              \"bachelor's \"\n",
       "                                                                              'degree',\n",
       "                                                                              \"master's \"\n",
       "                                                                              'degree']]),\n",
       "                                                  ['parental level of '\n",
       "                                                   'education'])])),\n",
       "                ('model', LinearRegression())])"
      ]
     },
     "execution_count": 220,
     "metadata": {},
     "output_type": "execute_result"
    }
   ],
   "source": [
    "lm_pipeline"
   ]
  },
  {
   "cell_type": "code",
   "execution_count": 221,
   "metadata": {
    "id": "6h2bHcfub3bt"
   },
   "outputs": [],
   "source": [
    "gbm_pipeline = Pipeline([\n",
    "    ('preprocessor', column_transform),  # Paso de preprocesamiento\n",
    "    ('model', GradientBoostingRegressor())          # Modelo de regresión lineal\n",
    "])"
   ]
  },
  {
   "cell_type": "code",
   "execution_count": null,
   "metadata": {},
   "outputs": [],
   "source": [
    "# import random forest regressor\n",
    "from sklearn.ensemble import RandomForestRegressor\n",
    "\n",
    "rf_pipeline = Pipeline([\n",
    "    ('preprocessor', column_transform),  # Paso de preprocesamiento\n",
    "    ('model', RandomForestRegressor())          # Modelo de regresión lineal\n",
    "])"
   ]
  },
  {
   "cell_type": "code",
   "execution_count": null,
   "metadata": {},
   "outputs": [],
   "source": [
    "from xgboost import XGBRegressor\n",
    "\n",
    "xgb_model = XGBRegressor(n_estimators=100, learning_rate=0.1, max_depth=10)\n",
    "xgb_model_pipeline = Pipeline([\n",
    "    ('preprocessor', column_transform),  # Paso de preprocesamiento\n",
    "    ('model', xgb_model)          # Modelo de regresión lineal\n",
    "])"
   ]
  },
  {
   "cell_type": "code",
   "execution_count": null,
   "metadata": {
    "colab": {
     "base_uri": "https://localhost:8080/"
    },
    "executionInfo": {
     "elapsed": 248,
     "status": "ok",
     "timestamp": 1679669687200,
     "user": {
      "displayName": "Diego P",
      "userId": "14448528258399483719"
     },
     "user_tz": 180
    },
    "id": "8U31oZOpb7UL",
    "outputId": "d56913ee-7a2d-4a41-dbda-481dc33754b3"
   },
   "outputs": [
    {
     "name": "stdout",
     "output_type": "stream",
     "text": [
      "First 5 LM predictions:  [70.75915726738543, 66.2105724106489, 71.20605482276783, 56.83267580456891, 78.06510895753397]\n",
      "First 5 GBM predictions: [69.727, 72.455, 68.429, 58.834, 76.618]\n",
      "First 5 RF predictions: [67.332, 69.332, 64.198, 62.581, 75.873]\n"
     ]
    }
   ],
   "source": [
    "# Fit pipeline to training set and make predictions on test set\n",
    "lm_pipeline.fit(X_train, y_train)\n",
    "lm_predictions = lm_pipeline.predict(X_test)\n",
    "print(\"First 5 LM predictions: \", list(lm_predictions[:5]))\n",
    "\n",
    "gbm_pipeline.fit(X_train, y_train)\n",
    "gbm_predictions = gbm_pipeline.predict(X_test)\n",
    "print(f\"First 5 GBM predictions: {[round(elem, 3) for elem in list(gbm_predictions[:5])]}\")\n",
    "\n",
    "rf_pipeline.fit(X_train, y_train)\n",
    "rf_predictions = rf_pipeline.predict(X_test)\n",
    "print(f\"First 5 RF predictions: {[round(elem, 3) for elem in list(rf_predictions[:5])]}\")\n",
    "\n",
    "\n",
    "xgb_model_pipeline.fit(X_train, y_train)\n",
    "xgb_predictions = xgb_model_pipeline.predict(X_test)"
   ]
  },
  {
   "cell_type": "code",
   "execution_count": 235,
   "metadata": {
    "colab": {
     "base_uri": "https://localhost:8080/"
    },
    "executionInfo": {
     "elapsed": 2,
     "status": "ok",
     "timestamp": 1679669824449,
     "user": {
      "displayName": "Diego P",
      "userId": "14448528258399483719"
     },
     "user_tz": 180
    },
    "id": "SL1ydOsfcJkf",
    "outputId": "a7eb0094-b4ed-4dd8-ab84-b394b7fe07c8"
   },
   "outputs": [],
   "source": [
    "# Calculate mean square error and root mean squared error\n",
    "lm_mae = mean_absolute_error(y_true=y_test, y_pred=lm_predictions)\n",
    "lm_rmse =  np.sqrt(mean_squared_error(y_true=y_test, y_pred=lm_predictions))\n",
    "lm_r2 = r2_score(y_true=y_test, y_pred=lm_predictions)\n",
    "\n",
    "gbm_mae = mean_absolute_error(y_true=y_test, y_pred=gbm_predictions)\n",
    "gbm_rmse =  np.sqrt(mean_squared_error(y_true=y_test, y_pred=gbm_predictions))\n",
    "gbm_r2 = r2_score(y_true=y_test, y_pred=gbm_predictions)\n",
    "\n",
    "rf_mae = mean_absolute_error(y_true=y_test, y_pred=rf_predictions)\n",
    "rf_rmse =  np.sqrt(mean_squared_error(y_true=y_test, y_pred=rf_predictions))\n",
    "rf_r2 = r2_score(y_true=y_test, y_pred=rf_predictions)\n",
    "\n",
    "xgb_mae = mean_absolute_error(y_true=y_test, y_pred=xgb_predictions)\n",
    "xgb_rmse =  np.sqrt(mean_squared_error(y_true=y_test, y_pred=xgb_predictions))\n",
    "xgb_r2 = r2_score(y_true=y_test, y_pred=xgb_predictions)"
   ]
  },
  {
   "cell_type": "code",
   "execution_count": 236,
   "metadata": {},
   "outputs": [
    {
     "data": {
      "text/html": [
       "<div>\n",
       "<style scoped>\n",
       "    .dataframe tbody tr th:only-of-type {\n",
       "        vertical-align: middle;\n",
       "    }\n",
       "\n",
       "    .dataframe tbody tr th {\n",
       "        vertical-align: top;\n",
       "    }\n",
       "\n",
       "    .dataframe thead th {\n",
       "        text-align: right;\n",
       "    }\n",
       "</style>\n",
       "<table border=\"1\" class=\"dataframe\">\n",
       "  <thead>\n",
       "    <tr style=\"text-align: right;\">\n",
       "      <th></th>\n",
       "      <th>Linear Regression</th>\n",
       "      <th>Gradient Boosting Regressor</th>\n",
       "      <th>Random Forest Regressor</th>\n",
       "      <th>XGBoost Regressor</th>\n",
       "    </tr>\n",
       "  </thead>\n",
       "  <tbody>\n",
       "    <tr>\n",
       "      <th>Mean Absolute Error</th>\n",
       "      <td>10.486951</td>\n",
       "      <td>10.888035</td>\n",
       "      <td>12.109195</td>\n",
       "      <td>11.697225</td>\n",
       "    </tr>\n",
       "    <tr>\n",
       "      <th>Root Mean Squared Error</th>\n",
       "      <td>13.141177</td>\n",
       "      <td>13.688265</td>\n",
       "      <td>15.092326</td>\n",
       "      <td>14.685761</td>\n",
       "    </tr>\n",
       "    <tr>\n",
       "      <th>R2 Score</th>\n",
       "      <td>0.233965</td>\n",
       "      <td>0.168855</td>\n",
       "      <td>-0.010398</td>\n",
       "      <td>0.043306</td>\n",
       "    </tr>\n",
       "  </tbody>\n",
       "</table>\n",
       "</div>"
      ],
      "text/plain": [
       "                         Linear Regression  Gradient Boosting Regressor  \\\n",
       "Mean Absolute Error              10.486951                    10.888035   \n",
       "Root Mean Squared Error          13.141177                    13.688265   \n",
       "R2 Score                          0.233965                     0.168855   \n",
       "\n",
       "                         Random Forest Regressor  XGBoost Regressor  \n",
       "Mean Absolute Error                    12.109195          11.697225  \n",
       "Root Mean Squared Error                15.092326          14.685761  \n",
       "R2 Score                               -0.010398           0.043306  "
      ]
     },
     "execution_count": 236,
     "metadata": {},
     "output_type": "execute_result"
    }
   ],
   "source": [
    "# create a dictionary of results\n",
    "results = {'Linear Regression': [lm_mae, lm_rmse, lm_r2],\n",
    "            'Gradient Boosting Regressor': [gbm_mae, gbm_rmse, gbm_r2],\n",
    "            'Random Forest Regressor': [rf_mae, rf_rmse, rf_r2],\n",
    "            'XGBoost Regressor': [xgb_mae, xgb_rmse, xgb_r2]}\n",
    "results_df = pd.DataFrame(results, index = ['Mean Absolute Error', 'Root Mean Squared Error', 'R2 Score'])\n",
    "results_df"
   ]
  },
  {
   "cell_type": "markdown",
   "metadata": {},
   "source": [
    "# 9. Análisis de las métricas de evaluación"
   ]
  },
  {
   "cell_type": "markdown",
   "metadata": {
    "id": "M1QGHPXDcRUa"
   },
   "source": [
    "\n",
    "### **1. Error Medio Absoluto (MAE):**\n",
    "- El **MAE** indica el error promedio absoluto en las predicciones.\n",
    "- La **Regresión Lineal** tiene el menor MAE (10.52), lo que implica que, en promedio, las predicciones están a unos 10 puntos de los valores reales.\n",
    "- **Random Forest** tiene el peor MAE (12.11), lo que confirma su menor desempeño.\n",
    "\n",
    "\n",
    "### **2. Raíz del Error Medio Cuadrático (RMSE):**\n",
    "- El **RMSE** penaliza más los errores grandes. Un RMSE más bajo implica un mejor ajuste.\n",
    "- Nuevamente, la **Regresión Lineal** tiene el mejor desempeño (13.16), seguida de **Gradient Boosting** (13.78), mientras que **Random Forest** tiene el RMSE más alto (15.17), reflejando errores significativos en algunas predicciones.\n",
    "\n",
    "\n",
    "### **3. Coeficiente de Determinación (\\( R^2 \\)):**\n",
    "- **Regresión Lineal (\\( R^2 = 0.231 \\))**:\n",
    "  - Explica el 23.1% de la variabilidad en los datos. Aunque es bajo, indica que este modelo captura algo de la relación entre las características y la variable objetivo.\n",
    "\n",
    "- **Gradient Boosting (\\( R^2 = 0.158 \\))**:\n",
    "  - Explica solo el 15.8% de la variabilidad, lo cual es peor que la Regresión Lineal, probablemente debido a un subajuste o una mala configuración de hiperparámetros.\n",
    "\n",
    "- **Random Forest (\\( R^2 = -0.021 \\))**:\n",
    "  - Un \\( R^2 \\) negativo indica que el modelo no está capturando la relación en absoluto, y está rindiendo peor que simplemente predecir el promedio.\n",
    "\n"
   ]
  },
  {
   "cell_type": "markdown",
   "metadata": {},
   "source": [
    "## Figura: Predicciones vs Valores Reales\n",
    "\n",
    "La figura muestra la relación entre los valores reales de la variable objetivo (eje X) y las predicciones realizadas por tres modelos de aprendizaje automático (eje Y): **Regresión Lineal**, **Gradient Boosting**, y **Random Forest**. \n",
    "\n",
    "La línea roja discontinua representa la línea ideal donde las predicciones serían exactamente iguales a los valores reales \n",
    "\n",
    "$y_{\\text{real}}$ = $y_{\\text{pred}}$."
   ]
  },
  {
   "cell_type": "code",
   "execution_count": 237,
   "metadata": {},
   "outputs": [
    {
     "data": {
      "image/png": "[encoded data removed]",
      "text/plain": [
       "<Figure size 800x600 with 1 Axes>"
      ]
     },
     "metadata": {},
     "output_type": "display_data"
    }
   ],
   "source": [
    "import matplotlib.pyplot as plt\n",
    "\n",
    "plt.figure(figsize=(8, 6))\n",
    "plt.scatter(y_test, lm_predictions, label='Linear Regression', alpha=0.6)\n",
    "plt.scatter(y_test, gbm_predictions, label='Gradient Boosting', alpha=0.6)\n",
    "plt.scatter(y_test, rf_predictions, label='Random Forest', alpha=0.6)\n",
    "plt.scatter(y_test, xgb_predictions, label='XGBoost', alpha=0.6)\n",
    "plt.plot([min(y_test), max(y_test)], [min(y_test), max(y_test)], color='red', linestyle='--')\n",
    "plt.xlabel('Actual')\n",
    "plt.ylabel('Predicted')\n",
    "plt.legend()\n",
    "plt.title('Predicciones vs Valores reales')\n",
    "plt.show()"
   ]
  },
  {
   "cell_type": "markdown",
   "metadata": {},
   "source": [
    "### **Ejes de la gráfica**:\n",
    "- **Eje X (Actual)**: Representa los valores reales de la variable objetivo $y_{\\text{real}}$, tomados del conjunto de prueba.\n",
    "- **Eje Y (Predicted)**: Representa los valores predichos por cada modelo.\n",
    "\n",
    "### **Elementos principales de la figura**:\n",
    "1. **Puntos de dispersión (scatter plots)**:\n",
    "   - Cada punto representa un par (valor real, valor predicho) para uno de los modelos:\n",
    "     - **Azul**: Predicciones de Regresión Lineal.\n",
    "     - **Naranja**: Predicciones de Gradient Boosting.\n",
    "     - **Verde**: Predicciones de Random Forest.\n",
    "\n",
    "2. **Línea roja discontinua**:\n",
    "   - Esta línea (\\( y = x \\)) representa las predicciones perfectas. Si un modelo predijera con total precisión, todos los puntos estarían alineados en esta línea.\n",
    "\n",
    "\n",
    "\n",
    "### **Cómo leer la gráfica**:\n",
    "1. **Precisión de los modelos**:\n",
    "   - Cuanto más cerca están los puntos de la línea roja, mejor es el desempeño del modelo.\n",
    "   - En la figura, los puntos están dispersos alrededor de la línea, lo que indica errores significativos en las predicciones de todos los modelos.\n",
    "\n",
    "2. **Diferencias entre modelos**:\n",
    "   - **Regresión Lineal** tiene una leve ventaja, con puntos más cercanos a la línea roja en comparación con Gradient Boosting y Random Forest.\n",
    "   - **Random Forest** muestra una mayor dispersión, especialmente en los valores extremos, reflejando su menor rendimiento.\n",
    "\n",
    "3. **Errores sistemáticos**:\n",
    "   - Para valores reales bajos $y_{\\text{real}}<40$, los modelos tienden a **sobreestimar** las predicciones (predicciones más altas que los valores reales).\n",
    "   - Para valores reales altos $y_{\\text{real}} > 80$, los modelos tienden a **subestimar** las predicciones (predicciones más bajas que los valores reales).\n",
    "\n",
    "\n",
    "### **Observaciones destacadas**:\n",
    "- **Regresión Lineal** muestra un desempeño consistente pero limitado $R^2 = 0.231$.\n",
    "- **Gradient Boosting** tiene un comportamiento similar, pero con un ajuste ligeramente peor $R^2 = 0.158$.\n",
    "- **Random Forest** presenta un mal desempeño general $R^2 = -0.021$, con puntos muy alejados de la línea roja.\n",
    "\n",
    "\n"
   ]
  },
  {
   "cell_type": "markdown",
   "metadata": {
    "id": "Jg_fNpbfcYYX"
   },
   "source": [
    "# 10. Conclusión\n",
    "En resumen, en este colab hemos aprendido la diferencia entre una variable nominal y una variable ordinal, así como la forma de codificarlas correctamente utilizando Scikit-learn OneHotEncoder y LabelEncoder.\n",
    "\n",
    "También hemos analizado las ventajas de realizar la codificación de características utilizando la biblioteca Scikit-learn en lugar de la biblioteca Pandas, es decir, la flexibilidad para encadenar el preprocesamiento de datos junto con un modelo de aprendizaje automático para formar un conducto de aprendizaje automático cohesivo.\n",
    "\n",
    "Con respecto a la evaluación de los modelos de regresión, hemos observado lo siguiente:\n",
    "\n",
    "- Ninguno de los modelos logra capturar completamente la relación entre las características y la variable objetivo.\n",
    "- La dispersión de los puntos sugiere que las relaciones en los datos pueden ser complejas, lo que requiere:\n",
    "  1. Refinar las características utilizadas.\n",
    "  2. Optimizar los hiperparámetros de los modelos no lineales como Gradient Boosting y Random Forest.\n",
    "  3. Explorar si hay ruido o valores atípicos que puedan estar afectando las predicciones.\n",
    "\n",
    "## **Lecciones clave**:\n",
    "\n",
    "Si la variable objetivo fue creada a partir de otras variables, este proceso puede introducir ciertas limitaciones que afecten el rendimiento del modelo.\n",
    "\n",
    "#### **Problemas comunes al crear una variable objetivo**:\n",
    "\n",
    "1. **Relaciones indirectas**:\n",
    "   - Si la variable objetivo es una combinación de otras variables que no están directamente relacionadas con las características predictoras, esto puede dificultar el aprendizaje del modelo.\n",
    "   - Por ejemplo, si la variable objetivo es un promedio de puntuaciones, pero las características predictoras no tienen una relación directa con todas las componentes del promedio, los modelos tendrán problemas para ajustarse correctamente.\n",
    "\n",
    "2. **Sesgo en la agregación**:\n",
    "   - Si el proceso de creación introduce sesgos (e.g., promedios ponderados, exclusión de valores extremos), esto puede alterar la relación entre la variable objetivo y las características, limitando la capacidad del modelo para capturar patrones reales en los datos.\n",
    "\n",
    "3. **Falta de variabilidad**:\n",
    "   - Si la variable creada reduce la variabilidad de los datos originales (e.g., al promediar), los modelos podrían tener menos información para diferenciar casos, lo que puede resultar en un ajuste deficiente.\n"
   ]
  },
  {
   "cell_type": "markdown",
   "metadata": {},
   "source": [
    "# 11. Actividades Futuras Recomendadas\n",
    "\n",
    "Basado en el análisis previo, aquí se propone una lista de actividades futuras para mejorar el desempeño del modelo y validar las relaciones en el dataset:\n",
    "\n",
    "### **1. Usar una variable original como objetivo**\n",
    "- Selecciona una de las variables originales del dataset (e.g., \"math score\", \"reading score\", \"writing score\") como la nueva variable objetivo.\n",
    "- Esto elimina el sesgo y la pérdida de información asociada con la creación de una variable promedio.\n",
    "\n",
    "### **2. Evaluar la correlación entre características y la variable objetivo**\n",
    "- Realiza un análisis de correlación para identificar qué variables tienen una relación significativa con la variable objetivo seleccionada.\n",
    "- Elimina o transforma características con correlaciones bajas o irrelevantes.\n",
    "\n",
    "### **3. Implementar transformaciones para la variable objetivo**\n",
    "- Si la variable objetivo tiene una distribución asimétrica, prueba aplicar transformaciones como logaritmo (`np.log1p`) o raíz cuadrada (`np.sqrt`) para reducir la asimetría.\n",
    "\n",
    "### **4. Incrementar la variabilidad de las características**\n",
    "- Si la variable objetivo promedio fue creada como un agregado de las variables \"math score\", \"reading score\" y \"writing score\", considera usar las tres variables como objetivos independientes.\n",
    "- Esto permitirá que los modelos exploren relaciones más directas entre las características y cada componente.\n",
    "\n",
    "### **5. Incorporar nuevas características derivadas**\n",
    "- Crea nuevas características a partir de las existentes, como interacciones entre variables (e.g., `math score * reading score`) o normalizaciones.\n",
    "\n",
    "### **6. Ajustar hiperparámetros de los modelos complejos**\n",
    "- Usa herramientas como `GridSearchCV` o `RandomizedSearchCV` para encontrar la mejor configuración de hiperparámetros para modelos como Gradient Boosting o Random Forest.\n",
    "\n",
    "### **7. Dividir la predicción en segmentos**\n",
    "- Si los datos presentan diferentes comportamientos en rangos específicos (e.g., valores bajos frente a altos), considera entrenar modelos separados para diferentes segmentos de la variable objetivo.\n",
    "\n",
    "### **8. Validar el impacto del preprocesamiento**\n",
    "- Prueba entrenar un modelo simple (e.g., Regresión Lineal) sin transformaciones para confirmar si el `ColumnTransformer` está afectando los resultados.\n",
    "- Ajusta configuraciones como `OneHotEncoder` con `drop='first'` y verifica si las columnas transformadas tienen sentido.\n",
    "\n",
    "### **9. Probar otros modelos**\n",
    "- Explora modelos adicionales como:\n",
    "  - **XGBoost** o **LightGBM** para datos no lineales.\n",
    "  - **Support Vector Machines (SVR)** para relaciones complejas.\n",
    "\n",
    "### **10. Implementar validación cruzada**\n",
    "- Usa validación cruzada para evaluar los modelos de manera más robusta y evitar que los resultados dependan únicamente de una división específica del conjunto de datos.\n",
    "\n",
    "### **11. Comparar con un modelo base**\n",
    "- Utiliza un modelo base (`DummyRegressor`) para predecir la media y compara su desempeño con el de los modelos actuales. Si los resultados son similares, revisa la calidad de las características predictoras.\n",
    "\n",
    "### **12. Evaluar métricas alternativas**\n",
    "- Complementa el análisis con métricas como MAE (Mean Absolute Error) y MAPE (Mean Absolute Percentage Error), especialmente si el \\( R^2 \\) no es representativo del ajuste.\n",
    "\n",
    "\n",
    "\n"
   ]
  }
 ],
 "metadata": {
  "colab": {
   "provenance": []
  },
  "kernelspec": {
   "display_name": "tf",
   "language": "python",
   "name": "python3"
  },
  "language_info": {
   "codemirror_mode": {
    "name": "ipython",
    "version": 3
   },
   "file_extension": ".py",
   "mimetype": "text/x-python",
   "name": "python",
   "nbconvert_exporter": "python",
   "pygments_lexer": "ipython3",
   "version": "3.9.18"
  }
 },
 "nbformat": 4,
 "nbformat_minor": 0
}
